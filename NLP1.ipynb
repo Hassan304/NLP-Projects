{
  "nbformat": 4,
  "nbformat_minor": 0,
  "metadata": {
    "colab": {
      "provenance": [],
      "authorship_tag": "ABX9TyOeV4yVUnLUPY/76DWWWOin",
      "include_colab_link": true
    },
    "kernelspec": {
      "name": "python3",
      "display_name": "Python 3"
    },
    "language_info": {
      "name": "python"
    }
  },
  "cells": [
    {
      "cell_type": "markdown",
      "metadata": {
        "id": "view-in-github",
        "colab_type": "text"
      },
      "source": [
        "<a href=\"https://colab.research.google.com/github/Hassan304/NLP-Projects/blob/dmvr/NLP1.ipynb\" target=\"_parent\"><img src=\"https://colab.research.google.com/assets/colab-badge.svg\" alt=\"Open In Colab\"/></a>"
      ]
    },
    {
      "cell_type": "code",
      "source": [
        "import pandas as pd"
      ],
      "metadata": {
        "id": "P9KVIBwV86BU"
      },
      "execution_count": 3,
      "outputs": []
    },
    {
      "cell_type": "code",
      "source": [
        "pip install nltk"
      ],
      "metadata": {
        "colab": {
          "base_uri": "https://localhost:8080/"
        },
        "id": "gRkNV7PUnlGV",
        "outputId": "ba611f44-53ce-4bcc-dd72-6028c82cb51c"
      },
      "execution_count": 4,
      "outputs": [
        {
          "output_type": "stream",
          "name": "stdout",
          "text": [
            "Requirement already satisfied: nltk in /usr/local/lib/python3.10/dist-packages (3.8.1)\n",
            "Requirement already satisfied: click in /usr/local/lib/python3.10/dist-packages (from nltk) (8.1.7)\n",
            "Requirement already satisfied: joblib in /usr/local/lib/python3.10/dist-packages (from nltk) (1.3.2)\n",
            "Requirement already satisfied: regex>=2021.8.3 in /usr/local/lib/python3.10/dist-packages (from nltk) (2023.6.3)\n",
            "Requirement already satisfied: tqdm in /usr/local/lib/python3.10/dist-packages (from nltk) (4.66.1)\n"
          ]
        }
      ]
    },
    {
      "cell_type": "code",
      "execution_count": 5,
      "metadata": {
        "id": "yvlj7UrPxSiE"
      },
      "outputs": [],
      "source": [
        "import nltk"
      ]
    },
    {
      "cell_type": "code",
      "source": [
        "nltk.download('punkt')"
      ],
      "metadata": {
        "colab": {
          "base_uri": "https://localhost:8080/"
        },
        "id": "_StoncjBpGjm",
        "outputId": "f6209bbb-a04a-4217-8004-bf1c536b1c0c"
      },
      "execution_count": 6,
      "outputs": [
        {
          "output_type": "stream",
          "name": "stderr",
          "text": [
            "[nltk_data] Downloading package punkt to /root/nltk_data...\n",
            "[nltk_data]   Unzipping tokenizers/punkt.zip.\n"
          ]
        },
        {
          "output_type": "execute_result",
          "data": {
            "text/plain": [
              "True"
            ]
          },
          "metadata": {},
          "execution_count": 6
        }
      ]
    },
    {
      "cell_type": "code",
      "source": [
        "from nltk.corpus import brown"
      ],
      "metadata": {
        "id": "_5j-W6kYx4Hh"
      },
      "execution_count": 7,
      "outputs": []
    },
    {
      "cell_type": "code",
      "source": [
        "from nltk.tokenize import word_tokenize"
      ],
      "metadata": {
        "id": "kdnngNPtyJ3E"
      },
      "execution_count": 8,
      "outputs": []
    },
    {
      "cell_type": "code",
      "source": [
        "from nltk.tokenize import sent_tokenize"
      ],
      "metadata": {
        "id": "_caCCYuOyS-0"
      },
      "execution_count": 9,
      "outputs": []
    },
    {
      "cell_type": "code",
      "source": [
        "!pip install nltk beautifulsoup4"
      ],
      "metadata": {
        "colab": {
          "base_uri": "https://localhost:8080/"
        },
        "id": "-ufh6-kS4mUx",
        "outputId": "31cd8d51-9d44-4099-cede-70bea2a77a27"
      },
      "execution_count": 10,
      "outputs": [
        {
          "output_type": "stream",
          "name": "stdout",
          "text": [
            "Requirement already satisfied: nltk in /usr/local/lib/python3.10/dist-packages (3.8.1)\n",
            "Requirement already satisfied: beautifulsoup4 in /usr/local/lib/python3.10/dist-packages (4.11.2)\n",
            "Requirement already satisfied: click in /usr/local/lib/python3.10/dist-packages (from nltk) (8.1.7)\n",
            "Requirement already satisfied: joblib in /usr/local/lib/python3.10/dist-packages (from nltk) (1.3.2)\n",
            "Requirement already satisfied: regex>=2021.8.3 in /usr/local/lib/python3.10/dist-packages (from nltk) (2023.6.3)\n",
            "Requirement already satisfied: tqdm in /usr/local/lib/python3.10/dist-packages (from nltk) (4.66.1)\n",
            "Requirement already satisfied: soupsieve>1.2 in /usr/local/lib/python3.10/dist-packages (from beautifulsoup4) (2.5)\n"
          ]
        }
      ]
    },
    {
      "cell_type": "code",
      "source": [
        "import requests\n",
        "from bs4 import BeautifulSoup\n",
        "from nltk import sent_tokenize"
      ],
      "metadata": {
        "id": "eTpXk3xm6VXO"
      },
      "execution_count": 11,
      "outputs": []
    },
    {
      "cell_type": "code",
      "source": [
        "# Define the URL you want to scrape\n",
        "url = 'http://www.comsats.edu.pk/'  # Replace with the URL you want to scrape"
      ],
      "metadata": {
        "id": "CyFpVMbC69V-"
      },
      "execution_count": 12,
      "outputs": []
    },
    {
      "cell_type": "code",
      "source": [
        "# Send a request to the URL\n",
        "urldata = requests.get(url)"
      ],
      "metadata": {
        "id": "qH42jK1B8P5Y"
      },
      "execution_count": 13,
      "outputs": []
    },
    {
      "cell_type": "code",
      "source": [
        "urldata.content"
      ],
      "metadata": {
        "colab": {
          "base_uri": "https://localhost:8080/"
        },
        "id": "Ak-A2C91A0et",
        "outputId": "037e4275-2a3d-4b57-f930-4be32790e5ea"
      },
      "execution_count": 14,
      "outputs": [
        {
          "output_type": "execute_result",
          "data": {
            "text/plain": [
              "b'\\r\\n\\r\\n\\r\\n\\r\\n\\r\\n\\r\\n\\r\\n<!DOCTYPE html>\\r\\n\\r\\n<html>\\r\\n<head><meta charset=\"utf-8\" /><meta http-equiv=\"X-UA-Compatible\" content=\"IE=edge\" /><meta name=\"viewport\" content=\"width=device-width, initial-scale=1, shrink-to-fit=no\" /><meta name=\"description\" /><meta name=\"author\" content=\"COMSATS University Islamabad\" /><meta name=\"keywords\" content=\"HTML, CSS, JavaScript\" />\\n        <!-- Bootstrap core CSS -->\\n        <link href=\"bootstrap_theme/bootstrap.css\" rel=\"stylesheet\" type=\"text/css\" />\\n        <!-- Custom styles for this template -->\\n        <link rel=\"stylesheet\" href=\"blocks.css\" /><link rel=\"stylesheet\" href=\"pgia/components/controls.css\" /><link rel=\"stylesheet\" href=\"pgia/components/presentation.css\" /><link rel=\"stylesheet\" href=\"pgia/components/slider.css\" /><link href=\"style.css\" rel=\"stylesheet\" /><link href=\"assets/css/jquery.scrollbar.css\" rel=\"stylesheet\" /><link href=\"assets/css/all.css\" rel=\"stylesheet\" /><link rel=\"stylesheet\" href=\"https://cdnjs.cloudflare.com/ajax/libs/fancybox/3.0.47/jquery.fancybox.min.css\" /><title>\\r\\n\\tCOMSATS University Islamabad\\r\\n</title>\\n\\n        <script>/* Pinegrow Interactions, do not remove */ (function(){try{if(!document.documentElement.hasAttribute(\\'data-pg-ia-disabled\\')) { window.pgia_small_mq=typeof pgia_small_mq==\\'string\\'?pgia_small_mq:\\'(max-width:767px)\\';window.pgia_large_mq=typeof pgia_large_mq==\\'string\\'?pgia_large_mq:\\'(min-width:768px)\\';var style = document.createElement(\\'style\\');var pgcss=\\'html:not(.pg-ia-no-preview) [data-pg-ia-hide=\"\"] {opacity:0;visibility:hidden;}html:not(.pg-ia-no-preview) [data-pg-ia-show=\"\"] {opacity:1;visibility:visible;display:block;}\\';if(document.documentElement.hasAttribute(\\'data-pg-id\\') && document.documentElement.hasAttribute(\\'data-pg-mobile\\')) {pgia_small_mq=\\'(min-width:0)\\';pgia_large_mq=\\'(min-width:99999px)\\'} pgcss+=\\'@media \\' + pgia_small_mq + \\'{ html:not(.pg-ia-no-preview) [data-pg-ia-hide=\"mobile\"] {opacity:0;visibility:hidden;}html:not(.pg-ia-no-preview) [data-pg-ia-show=\"mobile\"] {opacity:1;visibility:visible;display:block;}}\\';pgcss+=\\'@media \\' + pgia_large_mq + \\'{html:not(.pg-ia-no-preview) [data-pg-ia-hide=\"desktop\"] {opacity:0;visibility:hidden;}html:not(.pg-ia-no-preview) [data-pg-ia-show=\"desktop\"] {opacity:1;visibility:visible;display:block;}}\\';style.innerHTML=pgcss;document.querySelector(\\'head\\').appendChild(style);}}catch(e){console&&console.log(e);}})()</script>\\n     <script>\\r\\n        (function (i, s, o, g, r, a, m) {\\r\\n            i[\\'GoogleAnalyticsObject\\'] = r; i[r] = i[r] || function () {\\r\\n                (i[r].q = i[r].q || []).push(arguments)\\r\\n            }, i[r].l = 1 * new Date(); a = s.createElement(o),\\r\\n            m = s.getElementsByTagName(o)[0]; a.async = 1; a.src = g; m.parentNode.insertBefore(a, m)\\r\\n        })(window, document, \\'script\\', \\'https://www.google-analytics.com/analytics.js\\', \\'ga\\');\\r\\n\\r\\n        ga(\\'create\\', \\'UA-105395983-1\\', \\'auto\\');\\r\\n        ga(\\'send\\', \\'pageview\\');\\r\\n\\r\\n</script>\\r\\n    \\r\\n</head>\\r\\n<body class=\"text-muted\">\\r\\n    \\r\\n<header class=\"bg-white\"> \\n            <div class=\"navbar-light \"> \\n                <div class=\"container-fluid\"> \\n                    <div class=\"align-items-center gx-2 py-1 row\"> \\n                        <div class=\"col\"> <a class=\"align-items-center d-inline-flex fw-bold h4 mb-0 navbar-brand text-uppercase\" href=\"Default.aspx\"> <img src=\"img/comsats.png\"/></a> \\n                        </div>                         \\n                        <div class=\"col-auto\"> \\n                            <div class=\"align-items-center d-inline-flex gap-2 gap-lg-3 py-1\"> <a href=\"http://ww2.comsats.edu.pk/faculty/FacultyAtoZ.aspx\" target=\"_blank\" class=\"align-items-center d-inline-flex gap-2 lh-1 text-decoration-none\"> <span class=\"bg-primary lh-1 p-2 rounded text-white\"> <svg xmlns=\"http://www.w3.org/2000/svg\" viewBox=\"0 0 24 24\" fill=\"currentColor\" width=\"1.25em\" height=\"1.25em\">\\n                                            <g>\\n                                                <path fill=\"none\" d=\"M0 0h24v24H0z\"/>\\n                                                <path d=\"M12 14v2a6 6 0 0 0-6 6H4a8 8 0 0 1 8-8zm0-1c-3.315 0-6-2.685-6-6s2.685-6 6-6 6 2.685 6 6-2.685 6-6 6zm0-2c2.21 0 4-1.79 4-4s-1.79-4-4-4-4 1.79-4 4 1.79 4 4 4zm9.446 9.032l1.504 1.504-1.414 1.414-1.504-1.504a4 4 0 1 1 1.414-1.414zM18 20a2 2 0 1 0 0-4 2 2 0 0 0 0 4z\"/>\\n                                            </g>\\n                                        </svg> </span> <div class=\"d-lg-block d-none\">\\n                                        <div class=\"fw-bold mb-1 small text-black-50\">Search</div>\\n                                        <div class=\"fw-bold\">Faculty/Staff </div>\\n                                    </div> </a>\\n                                 <div class=\"dropdown\">\\n                                <a href=\"#\" class=\"align-items-center d-inline-flex gap-2 lh-1 text-decoration-none\" id=\"dropdownMenuLink1\" data-bs-toggle=\"dropdown\" aria-expanded=\"false\"> <span class=\"bg-primary lh-1 p-2 rounded text-white\"> <svg xmlns=\"http://www.w3.org/2000/svg\" viewBox=\"0 0 24 24\" fill=\"currentColor\" width=\"1.25em\" height=\"1.25em\">\\n                                            <g>\\n                                                <path fill=\"none\" d=\"M0 0h24v24H0z\"/>\\n                                                <path d=\"M10 10.111V1l11 6v14H3V7l7 3.111zm2-5.742v8.82l-7-3.111V19h14V8.187L12 4.37z\"/>\\n                                            </g>\\n                                        </svg> </span> <div class=\"d-lg-block d-none\">\\n                                        <div class=\"fw-bold mb-1 small text-black-50\">CUI</div>\\n                                        <div class=\"fw-bold\">Statutory Information</div>\\n                                    </div> </a>\\n                                       <ul class=\"dropdown-menu\" aria-labelledby=\"dropdownMenuLink1\">\\r\\n    <li><a class=\"dropdown-item\" href=\"rules/CUI-Employees-Time-Scale-Statutes-2022.pdf\" target=\"_blank\">CUI Employees Time Scale Statutes, 2022</a></li>\\r\\n    <li><a class=\"dropdown-item\" href=\"rules/Notification-29.pdf\" target=\"_blank\">CUI Employees Promotion Statutes, 2022</a></li>\\r\\n    <li><a class=\"dropdown-item\" href=\"rules/Notification-112.pdf\" target=\"_blank\">Statutes for Affiliation and Disaffiliation of Educational Institutions and <br />Related Matters of COMSATS University Islamabad (CUI) - 2022</a></li>\\r\\n    <li><a class=\"dropdown-item\" href=\"rules/CUI-Act.pdf\" target=\"_blank\">CUI Act - 2018</a></li>\\r\\n    <li><a class=\"dropdown-item\" href=\"rules/Rules-of-Business-of-the-Meetings-of-CUI-Authorities-2018.pdf\" target=\"_blank\">Rules of Business of the Meetings of CUI Authorities - 2018</a></li>\\r\\n    <li><a class=\"dropdown-item\" href=\"#\" data-bs-toggle=\"modal\" data-bs-target=\"#Modalstatutes\">Statutes of the Authorities, Committees, <br />Principal Officers, and Teachers of CUI - 2019</a></li>\\r\\n\\n                                       </ul>\\n                                     </div>\\n                                <a href=\"elections.aspx\" class=\"align-items-center d-inline-flex gap-2 lh-1 text-decoration-none\"> <span class=\"bg-primary lh-1 p-2 rounded text-white\"> <svg xmlns=\"http://www.w3.org/2000/svg\" viewBox=\"0 0 24 24\" fill=\"currentColor\" width=\"1.25em\" height=\"1.25em\">\\n                                            <g>\\n                                                <path fill=\"none\" d=\"M0 0h24v24H0z\"/>\\n                                                <path d=\"M4 22a8 8 0 1 1 16 0H4zm9-5.917V20h4.659A6.009 6.009 0 0 0 13 16.083zM11 20v-3.917A6.009 6.009 0 0 0 6.341 20H11zm1-7c-3.315 0-6-2.685-6-6s2.685-6 6-6 6 2.685 6 6-2.685 6-6 6zm0-2c2.21 0 4-1.79 4-4s-1.79-4-4-4-4 1.79-4 4 1.79 4 4 4z\"/>\\n                                            </g>\\n                                        </svg> </span> <div class=\"d-lg-block d-none\">\\n                                        <div class=\"fw-bold mb-1 small text-black-50\">Election for</div>\\n                                        <div class=\"fw-bold\">University Teachers</div>\\n                                    </div> </a>\\n                               \\n                                <div class=\"dropdown dropstart\">\\n                                <a href=\"#\" class=\"align-items-center d-inline-flex gap-2 lh-1 text-decoration-none\" id=\"dropdownMenuLink\" data-bs-toggle=\"dropdown\" aria-expanded=\"false\"> <span class=\"bg-primary lh-1 p-2 rounded text-white\"> <svg xmlns=\"http://www.w3.org/2000/svg\" viewBox=\"0 0 24 24\" fill=\"currentColor\" width=\"1.25em\" height=\"1.25em\">\\n                                            <g>\\n                                                <path fill=\"none\" d=\"M0 0h24v24H0z\"/>\\n                                                <path d=\"M1 22a8 8 0 1 1 16 0h-2a6 6 0 1 0-12 0H1zm8-9c-3.315 0-6-2.685-6-6s2.685-6 6-6 6 2.685 6 6-2.685 6-6 6zm0-2c2.21 0 4-1.79 4-4s-1.79-4-4-4-4 1.79-4 4 1.79 4 4 4zM21.548.784A13.942 13.942 0 0 1 23 7c0 2.233-.523 4.344-1.452 6.216l-1.645-1.196A11.955 11.955 0 0 0 21 7c0-1.792-.393-3.493-1.097-5.02L21.548.784zm-3.302 2.4A9.97 9.97 0 0 1 19 7a9.97 9.97 0 0 1-.754 3.816l-1.677-1.22A7.99 7.99 0 0 0 17 7a7.99 7.99 0 0 0-.43-2.596l1.676-1.22z\"/>\\n                                            </g>\\n                                        </svg> </span> <div class=\"d-lg-block d-none\">\\n                                        <div class=\"fw-bold mb-1 small text-black-50\">CUI</div>\\n                                        <div class=\"fw-bold\">Complaint Cell</div>\\n                                    </div> </a>\\n                                    <ul class=\"dropdown-menu\" aria-labelledby=\"dropdownMenuLink\">\\r\\n    <li><a class=\"dropdown-item\" href=\"#\" data-bs-toggle=\"modal\" data-bs-target=\"#Modalpension\">Pensioners Complaint Cell</a></li>\\r\\n    <li><a class=\"dropdown-item\" href=\"http://complaints.mohtasib.gov.pk//Complaints/precomplaintRegistration.aspx?mohtasib=WMS&agency\" target=\"_blank\">Online Complaint Registration</a></li>\\r\\n    <li><a class=\"dropdown-item\" href=\"http://complaints.mohtasib.gov.pk/complaints/precomplaintstatus.aspx\" target=\"_blank\">Check Complaint Status</a></li>\\r\\n  </ul>\\n                                    </div>\\n                                \\n                            </div>                             \\n                        </div>\\n                        <div class=\"col-auto\"> \\n                            <button class=\"d-lg-none navbar-toggler\" type=\"button\" data-bs-toggle=\"collapse\" data-bs-target=\"#navbarNavDropdown-2\" aria-controls=\"navbarNavDropdown-2\" aria-expanded=\"false\" aria-label=\"Toggle navigation\"> <span class=\"navbar-toggler-icon\"></span> \\n                            </button>                             \\n                        </div>                         \\n                    </div>                     \\n                    <hr class=\"m-0\"/>\\n                </div>\\n            </div>             \\n            <nav class=\"bg-dark navbar navbar-dark navbar-expand-lg pb-0 pt-0\"> \\n                <div class=\"container-fluid\"> \\n                    <div class=\"collapse navbar-collapse pb-1 pt-1\" id=\"navbarNavDropdown-2\"> \\n                        <ul class=\"me-auto navbar-nav\"> \\n                            <li class=\"fw-bold nav-item\"> <a class=\"link-dark nav-link p-lg-3 text-secondary\" href=\"AboutUs.aspx\"><i class=\"fa fa-info text-warning\"></i> About</a> \\n                            </li>\\n                            <li class=\"fw-bold nav-item\"> <a class=\"link-dark nav-link p-lg-3 text-secondary\" href=\"campuses.aspx\"><i class=\"fa fa-building text-warning\"></i> Campuses</a> \\n                            </li>\\n                             <li class=\"fw-bold nav-item\"> <a class=\"link-dark nav-link p-lg-3 text-secondary\" href=\"AcademicPrograms.aspx\"><i class=\"fa fa-angle-double-down text-warning\"></i> Academic Programs</a> \\n                            </li>\\n                              <li class=\"fw-bold nav-item\"> <a class=\"link-dark nav-link p-lg-3 text-secondary\" href=\"admissions.aspx\"><i class=\"fa-check-square far text-warning\"></i> Admissions</a> \\n                            </li>\\n                             <li class=\"fw-bold nav-item\"> <a class=\"link-dark nav-link p-lg-3 text-secondary\" href=\"Students.aspx\"><i class=\"fa fa-users text-warning\"></i> Students</a> \\n                            </li>\\n                            \\n                            <li class=\"fw-bold nav-item\"> <a class=\"link-dark nav-link p-lg-3 text-secondary\" href=\"http://ww2.comsats.edu.pk/research\" target=\"_blank\"><i class=\"fa-user-chart fas text-warning\"></i> Research</a> \\n                            </li>\\n                            <li class=\"fw-bold nav-item\"> <a class=\"link-dark nav-link p-lg-3 text-secondary\" href=\"http://ww3.comsats.edu.pk/Alumni/\" target=\"_blank\"><i class=\"fa-user-graduate fas text-warning\"></i> Alumni</a> \\n                            </li>\\n                            \\n                            <li class=\"fw-bold nav-item\"> <a class=\"link-dark nav-link p-lg-3 text-secondary\" href=\"contactus.aspx\"><i class=\"fa-phone fas text-warning\"></i> Contact</a> \\n                            </li>\\n                        </ul>\\n                        <div class=\"d-flex\">\\n                            <a href=\"http://cast.org.pk/virtual_tour/\" type=\"button\" class=\"me-2\" target=\"_blank\"><i class=\"fa fa-play text-warning\" data-bs-toggle=\"tooltip\" title=\"Comsats Art Gallery\" data-bs-placement=\"left\" data-bs-trigger=\"hover\"></i></a>\\n                            <a href=\"http://ww2.comsats.edu.pk/cag\" type=\"button\" class=\"me-2\" target=\"_blank\"><i class=\"fa fa-photo-video text-warning\" data-bs-toggle=\"tooltip\" title=\"Photo Gallery\" data-bs-placement=\"left\" data-bs-trigger=\"hover\"></i></a>\\n                            \\n                            <a href=\"https://www.facebook.com/cuiofficial/\" type=\"button\" class=\"me-2\" target=\"_blank\"><i class=\"fa-facebook-f fab text-warning\" data-bs-toggle=\"tooltip\" title=\"Facebook\" data-bs-placement=\"bottom\" data-bs-trigger=\"hover\"></i></a>\\n                            <a href=\"https://twitter.com/CUIofficial\" type=\"button\" class=\"me-2\" target=\"_blank\"><i class=\"fa-twitter fab text-warning\" data-bs-toggle=\"tooltip\" title=\"Twitter\" data-bs-placement=\"left\" data-bs-trigger=\"hover\"></i></a>\\n                            <a href=\"\" type=\"button\" class=\"me-2\"  title=\"Search CUI\" data-bs-placement=\"left\" data-bs-trigger=\"hover\" data-bs-toggle=\"modal\" data-bs-target=\"#Modalsearch\"><i class=\"fa fa-search text-warning\"></i></a> \\n                        </div>                         \\n                    </div>                     \\n                </div>                 \\n            </nav> \\n    <div id=\"Modalpension\" class=\"modal fade\" tabindex=\"-1\" aria-labelledby=\"exampleModalLabel\" aria-hidden=\"true\">\\r\\n  <div class=\"modal-dialog\">\\r\\n\\r\\n    <!-- Modal content-->\\r\\n    <div class=\"modal-content\">\\r\\n         <div class=\"modal-header\">\\r\\n        <h4 class=\"modal-title\">Focal Person for Redressal of Public Complaints on Pension Matters\":</h4>\\r\\n       <button type=\"button\" class=\"btn-close\" data-bs-dismiss=\"modal\" aria-label=\"Close\"></button>\\r\\n      </div>\\r\\n      \\r\\n      <div class=\"modal-body\">\\r\\n           <table class=\"table table-bordered\">\\r\\n         <tr>\\r\\n             <td>Name</td>\\r\\n             <td>Mr. Muhammad Naeem Akhtar, Deputy Treasurer</td>\\r\\n         </tr>\\r\\n         \\r\\n         <tr>\\r\\n             <td>Fax Number:</td>\\r\\n             <td>051-9247001</td>\\r\\n         </tr>\\r\\n     </table>\\r\\n\\r\\n      </div>\\r\\n      <div class=\"modal-footer\">\\r\\n        <button type=\"button\" class=\"btn btn-primary\" data-bs-dismiss=\"modal\">Close</button>\\r\\n      </div>\\r\\n    </div>\\r\\n\\r\\n  </div>\\r\\n</div>\\n    <div id=\"Modalstatutes\" class=\"modal fade\" tabindex=\"-1\" aria-labelledby=\"exampleModalLabel\" aria-hidden=\"true\">\\r\\n  <div class=\"modal-dialog modal-lg\">\\r\\n\\r\\n    <!-- Modal content-->\\r\\n    <div class=\"modal-content bg-white\">\\r\\n         <div class=\"modal-header\">\\r\\n        <h4 class=\"modal-title\">Statutes of the Authorities, Committees, Principal Officers,<br /> and Teachers of CUI - 2019</h4>\\r\\n       <button type=\"button\" class=\"btn-close\" data-bs-dismiss=\"modal\" aria-label=\"Close\"></button>\\r\\n      </div>\\r\\n      \\r\\n      <div class=\"modal-body\">\\r\\n          <ul>\\r\\n                            \\r\\n              <li><a class=\"link-dark\" href=\"rules/Constitution-Functions-and-Powers-of-the-Authorities-of-the-COMSATS-University-Islamabad-Statutes-2019.pdf\" target=\"_blank\">Constitution, Functions and Powers of the Authorities of the COMSATS University Islamabad Statutes, 2019</a></li>\\r\\n              <li><a class=\"link-dark\" href=\"rules/The-Constitution-and-Procedure-of-Representation-Committee-for-Appointments-to-the-Senate-COMSATS-University-slamabad-Statutes-2019.pdf\" target=\"_blank\">The Constitution and Procedure of Representation Committee for Appointments to the Senate COMSATS University Islamabad Statutes, 2019</a></li>\\r\\n              <li><a class=\"link-dark\" href=\"rules/The-Contents-of-and-the-Manner-of-Presenting-Annual-Report-by-the-Rector-before-the-Senate-COMSATS-University-Islamabad-Statutes-2019.pdf\" target=\"_blank\">The Contents of and the Manner of Presenting Annual Report by the Rector before the Senate COMSATS University Islamabad Statutes, 2019</a></li>\\r\\n              <li><a class=\"link-dark\" href=\"rules/Constitution-and-Procedure-of-the-Emergency-Committee-COMSATS-University-Islamabad-Statutes-2019.pdf\" target=\"_blank\">Constitution and Procedure of the Emergency Committee COMSATS University Islamabad Statutes, 2019</a></li>\\r\\n              <li><a class=\"link-dark\" href=\"rules/The-Powers-and-Duties-of-the-Officers-and-Teachers-of-COMSATS-University-Islamabad-Statutes-2019.pdf\" target=\"_blank\">The Powers and Duties of the Officers and Teachers of COMSATS University Islamabad Statutes, 2019</a></li>\\r\\n              <li><a class=\"link-dark\" href=\"rules/Terms-and-Conditions-of-Service-and-Procedure-for-the-Appointment-of-the-Rector-COMSATS-University-Islamabad-Statutes-2019.pdf\" target=\"_blank\">Terms and Conditions of Service and Procedure for the Appointment of the Rector COMSATS University Islamabad Statutes, 2019</a></li>\\r\\n              <li><a class=\"link-dark\" href=\"rules/Terms-and-Conditions-of-Service-and-Procedure-for-the-Appointment-of-Principal-Officers-COMSATS-University-Islamabad-Statutes-2019.pdf\" target=\"_blank\">Terms and Conditions of Service and Procedure for the Appointment of Principal Officers COMSATS University Islamabad Statutes 2019</a></li>\\r\\n              <li><a class=\"link-dark\" href=\"rules/Terms-and-Conditions-of-Service-and-Procedure-for-the-Appointment-of-the-Pro-Rectors-COMSATS-University-Islamabad-Statutes-2019.pdf\" target=\"_blank\">Terms and Conditions of Service and Procedure for the Appointment of the Pro-Rectors COMSATS University Islamabad Statutes 2019</a></li>\\r\\n              <li><a class=\"link-dark\" href=\"rules/Terms-and-Conditions-of-Service-and-Procedure-for-the-Appointment-of-the-Campus-Directors-COMSATS-University-Islamabad-Statutes-2019.pdf\" target=\"_blank\">Terms and Conditions of Service and Procedure for the Appointment of the Campus Directors COMSATS University Islamabad Statutes 2019</a></li>\\r\\n              <li><a class=\"link-dark\" href=\"rules/Election-of-Teachers-for-the-Membership-of-Senate-Syndicate-Academic-Council-and-Representation-Committee-for-Appointments-to-the-Senate-COMSATS-University-Islamabad-Statutes-2019.pdf\" target=\"_blank\">Election of Teachers for the Membership of Senate, Syndicate, Academic Council and Representation Committee for Appointments to the Senate COMSATS University Islamabad Statutes, 2019</a></li>\\r\\n\\r\\n               </ul>\\r\\n\\r\\n      </div>\\r\\n      <div class=\"modal-footer\">\\r\\n        <button type=\"button\" class=\"btn btn-secondary\" data-bs-dismiss=\"modal\">Close</button>\\r\\n      </div>\\r\\n    </div>\\r\\n\\r\\n  </div>\\r\\n</div> \\n    <!-- Modal -->\\r\\n\\r\\n<div class=\"modal fade\" id=\"Modalsearch\" tabindex=\"-1\" role=\"dialog\" aria-labelledby=\"exampleModalLabel\" aria-hidden=\"true\">\\r\\n  <div class=\"modal-dialog\">\\r\\n    <div class=\"modal-content\">\\r\\n      <div class=\"modal-header\">\\r\\n        <h5 class=\"modal-title\" id=\"exampleModalLabel\">Search CUI Website</h5>\\r\\n        <button type=\"button\" class=\"btn-close\" data-bs-dismiss=\"modal\" aria-label=\"Close\"></button>\\r\\n      </div>\\r\\n      <div class=\"modal-body\">\\r\\n          <p>Enter your search criteria</p>\\r\\n         \\r\\n        <script>\\r\\n            (function () {\\r\\n                var cx = \\'010872107217038431823:oknfqcqq_tm\\';\\r\\n                var gcse = document.createElement(\\'script\\');\\r\\n                gcse.type = \\'text/javascript\\';\\r\\n                gcse.async = true;\\r\\n                gcse.src = \\'https://cse.google.com/cse.js?cx=\\' + cx;\\r\\n                var s = document.getElementsByTagName(\\'script\\')[0];\\r\\n                s.parentNode.insertBefore(gcse, s);\\r\\n            })();\\r\\n</script>\\r\\n<gcse:search></gcse:search>\\r\\n      </div>\\r\\n      <div class=\"modal-footer\">\\r\\n        <button type=\"button\" class=\"btn btn-secondary\" data-bs-dismiss=\"modal\">Close</button>\\r\\n      \\r\\n      </div>\\r\\n    </div>\\r\\n  </div>\\r\\n</div>\\r\\n        \\n        </header>\\r\\n     <main>\\r\\n\\r\\n    <form name=\"aspnetForm\" method=\"post\" action=\"./\" id=\"aspnetForm\">\\r\\n<input type=\"hidden\" name=\"__VIEWSTATE\" id=\"__VIEWSTATE\" value=\"/wEPDwULLTE5Njg4ODY2NjdkZCYrfsPaGElyImNoYa6svpLbDE5Ba1JD4Li9eCMHsI7x\" />\\r\\n\\r\\n<input type=\"hidden\" name=\"__VIEWSTATEGENERATOR\" id=\"__VIEWSTATEGENERATOR\" value=\"CA0B0334\" />\\r\\n        \\r\\n<div id=\"carouselExampleIndicators\" class=\"carousel slide\" data-bs-ride=\"carousel\">\\r\\n                <ol class=\"carousel-indicators\">\\r\\n                    <li data-bs-target=\"#carouselExampleIndicators\" data-bs-slide-to=\"0\" class=\"active border border-warning\"></li>\\r\\n                    <li data-bs-target=\"#carouselExampleIndicators\" data-bs-slide-to=\"1\" class=\"border border-warning\"></li>\\r\\n                    <li data-bs-target=\"#carouselExampleIndicators\" data-bs-slide-to=\"2\" class=\"border border-warning\"></li>\\r\\n                    <li data-bs-target=\"#carouselExampleIndicators\" data-bs-slide-to=\"3\" class=\"border border-warning\"></li>\\r\\n                    <li data-bs-target=\"#carouselExampleIndicators\" data-bs-slide-to=\"4\" class=\"border border-warning\"></li>\\r\\n                    <li data-bs-target=\"#carouselExampleIndicators\" data-bs-slide-to=\"5\" class=\"border border-warning\"></li>\\r\\n                    <li data-bs-target=\"#carouselExampleIndicators\" data-bs-slide-to=\"6\" class=\"border border-warning\"></li>\\r\\n                    <li data-bs-target=\"#carouselExampleIndicators\" data-bs-slide-to=\"7\" class=\"border border-warning\"></li>\\r\\n                    <li data-bs-target=\"#carouselExampleIndicators\" data-bs-slide-to=\"8\" class=\"border border-warning\"></li>\\r\\n                    <li data-bs-target=\"#carouselExampleIndicators\" data-bs-slide-to=\"9\" class=\"border border-warning\"></li>\\r\\n                   <li data-bs-target=\"#carouselExampleIndicators\" data-bs-slide-to=\"10\" class=\"border border-warning\"></li>\\r\\n                   <li data-bs-target=\"#carouselExampleIndicators\" data-bs-slide-to=\"11\" class=\"border border-warning\"></li>\\r\\n                   \\r\\n                   \\r\\n                </ol>\\r\\n                <div class=\"carousel-inner\">\\r\\n                      \\r\\n                      <div class=\"carousel-item active\">\\r\\n                         <section class=\"pb-0 pt-0 text-white-50\">\\r\\n                        <div class=\"container-fluid pe-0 ps-0\">\\r\\n                          \\r\\n                            <div class=\"background-cover bg-secondary overflow-hidden pb-5 pb-md-5    ps-lg-5 pt-5\" style=\"background-image:url(\\'slider/37-1.jpg\\'); background:linear-gradient(to top, rgba(0, 0, 0, 0.1), rgba(0, 0, 0, 0.1)), url(\\'slider/37-1.jpg\\') no-repeat top center;\">\\r\\n                                <div class=\"pb-md-5 pt-5 row\" style=\"\">\\r\\n                                    <div class=\"col-md-12 col-xl-12 pb-md-5 pt-5 pe-sm-3 ps-sm-5\" >\\r\\n                                        <h3 class=\"h5 text-white text-uppercase pt-5\" style=\"text-shadow: 1px 1px #000;\">CUI</h3>\\r\\n                                        <h1 class=\"display-4 fw-bold text-capitalize text-white\" style=\"text-shadow: 1px 1px #000;\">37th<br />  meeting of Academic council</h1>\\r\\n                                        <h4 class=\"fw-bold mb-4 text-white\" style=\"text-shadow: 1px 1px #000;\">Special 37th meeting of the Academic Council of CUI was held on 22nd August, 2023</h4>\\r\\n\\r\\n                                       <p class=\"fw-light mb-4 text-white\" style=\"text-shadow: 1px 1px #000;\">&nbsp;<br />&nbsp;</p>\\r\\n                                        <p class=\"pb-2 pe-4 ps-4 pt-2 mb-5\">&nbsp;</p>\\r\\n                                    </div>\\r\\n                                   \\r\\n                                </div>\\r\\n                            </div>\\r\\n                        </div>\\r\\n                    </section>\\r\\n                    </div>\\r\\n                      <div class=\"carousel-item\">\\r\\n                         <section class=\"pb-0 pt-0 text-white-50\">\\r\\n                        <div class=\"container-fluid pe-0 ps-0\">\\r\\n                          \\r\\n                            <div class=\"background-cover bg-secondary overflow-hidden pb-5 pb-md-5    ps-lg-5 pt-5\" style=\"background-image:url(\\'slider/37.jpg\\'); background:linear-gradient(to top, rgba(0, 0, 0, 0.1), rgba(0, 0, 0, 0.1)), url(\\'slider/37.jpg\\') no-repeat top center;\">\\r\\n                                <div class=\"pb-md-5 pt-5 row\" style=\"\">\\r\\n                                    <div class=\"col-md-12 col-xl-12 pb-md-5 pt-5 pe-sm-3 ps-sm-5\" >\\r\\n                                        <h3 class=\"h5 text-white text-uppercase pt-5\" style=\"text-shadow: 1px 1px #000;\">CUI</h3>\\r\\n                                        <h1 class=\"display-4 fw-bold text-capitalize text-white\" style=\"text-shadow: 1px 1px #000;\">37th<br />  meeting of Academic council</h1>\\r\\n                                        <h4 class=\"fw-bold mb-4 text-white\" style=\"text-shadow: 1px 1px #000;\">Special 37th meeting of the Academic Council of CUI was held on 22nd August, 2023</h4>\\r\\n\\r\\n                                      <p class=\"fw-light mb-4 text-white\" style=\"text-shadow: 1px 1px #000;\">&nbsp;<br />&nbsp;</p>\\r\\n                                        <p class=\"pb-2 pe-4 ps-4 pt-2 mb-5\">&nbsp;</p>\\r\\n                                    </div>\\r\\n                                   \\r\\n                                </div>\\r\\n                            </div>\\r\\n                        </div>\\r\\n                    </section>\\r\\n                    </div>\\r\\n                    <div class=\"carousel-item\">\\r\\n                         <section class=\"pb-0 pt-0 text-white-50\">\\r\\n                        <div class=\"container-fluid pe-0 ps-0\">\\r\\n                          \\r\\n                            <div class=\"background-cover bg-secondary overflow-hidden pb-5 pb-md-5    ps-lg-5 pt-5\" style=\"background-image:url(\\'slider/37-3.jpg\\'); background:linear-gradient(to top, rgba(0, 0, 0, 0.1), rgba(0, 0, 0, 0.1)), url(\\'slider/37-3.jpg\\') no-repeat top center;\">\\r\\n                                <div class=\"pb-md-5 pt-5 row\" style=\"\">\\r\\n                                    <div class=\"col-md-12 col-xl-12 pb-md-5 pt-5 pe-sm-3 ps-sm-5\" >\\r\\n                                        <h3 class=\"h5 text-white text-uppercase pt-5\" style=\"text-shadow: 1px 1px #000;\">CUI</h3>\\r\\n                                        <h1 class=\"display-4 fw-bold text-capitalize text-white\" style=\"text-shadow: 1px 1px #000;\">37th<br />  meeting of Academic council</h1>\\r\\n                                        <h4 class=\"fw-bold mb-4 text-white\" style=\"text-shadow: 1px 1px #000;\">Special 37th meeting of the Academic Council of CUI was held on 22nd August, 2023</h4>\\r\\n\\r\\n                                      <p class=\"fw-light mb-4 text-white\" style=\"text-shadow: 1px 1px #000;\">&nbsp;<br />&nbsp;</p>\\r\\n                                        <p class=\"pb-2 pe-4 ps-4 pt-2 mb-5\">&nbsp;</p>\\r\\n                                    </div>\\r\\n                                   \\r\\n                                </div>\\r\\n                            </div>\\r\\n                        </div>\\r\\n                    </section>\\r\\n                    </div>\\r\\n                     <div class=\"carousel-item \">\\r\\n     <img src=\"slider/civil_awards.jpg\" class=\"d-block w-100\" >\\r\\n           \\r\\n</div>\\r\\n                  <div class=\"carousel-item \">\\r\\n     <img src=\"slider/14aug2.jpg\" class=\"d-block w-100\" >\\r\\n             <div class=\"carousel-caption d-none d-md-block\">\\r\\n         <h5>Flag Raising Ceremony 14 August 2023 at CUI Islamabad</h5>\\r\\n     \\r\\n      </div>\\r\\n</div>\\r\\n\\r\\n\\r\\n\\r\\n\\r\\n\\r\\n                    \\r\\n                   \\r\\n                   \\r\\n                   <div class=\"carousel-item\">\\r\\n                         <section class=\"pb-0 pt-0 text-white-50\">\\r\\n                        <div class=\"container-fluid pe-0 ps-0\">\\r\\n                          \\r\\n                            <div class=\"background-cover bg-secondary overflow-hidden pb-5 pb-md-5    ps-lg-5 pt-5\" style=\"background-image:url(\\'slider/36-1.jpg\\'); background:linear-gradient(to top, rgba(0, 0, 0, 0.1), rgba(0, 0, 0, 0.1)), url(\\'slider/36-1.jpg\\') no-repeat top center;\">\\r\\n                                <div class=\"pb-md-5 pt-5 row\" style=\"\">\\r\\n                                    <div class=\"col-md-12 col-xl-12 pb-md-5 pt-5 pe-sm-3 ps-sm-5\" >\\r\\n                                        <h3 class=\"h5 text-white text-uppercase pt-5\" style=\"text-shadow: 1px 1px #000;\">CUI</h3>\\r\\n                                        <h1 class=\"display-4 fw-bold text-capitalize text-white\" style=\"text-shadow: 1px 1px #000;\">36th<br />  meeting of Academic council</h1>\\r\\n                                        <h4 class=\"fw-bold mb-4 text-white\" style=\"text-shadow: 1px 1px #000;\">36th meeting of Academic council of <br />COMSATS university Islamabad held on 18th July, 2023</h4>\\r\\n                                       <p><a href=\"http://ww2.comsats.edu.pk/photogallery/obPics.aspx?Catid=142092\" target=\"_blank\" class=\"btn btn-primary pb-2 pe-4 ps-4 pt-2 mb-5 rounded-pill\">Learn More</a></p>\\r\\n                                       <p class=\"pb-2 pe-4 ps-4 pt-2 mb-5\">&nbsp;</p>\\r\\n                                    </div>\\r\\n                                   \\r\\n                                </div>\\r\\n                            </div>\\r\\n                        </div>\\r\\n                    </section>\\r\\n                    </div>\\r\\n                    \\r\\n                 \\r\\n                   \\r\\n                     <div class=\"carousel-item \">\\r\\n                         <section class=\"pb-0 pt-0 text-white-50\">\\r\\n                        <div class=\"container-fluid pe-0 ps-0\">\\r\\n                          \\r\\n                            <div class=\"background-cover bg-secondary overflow-hidden pb-5 pb-md-5    ps-lg-5 pt-5\" style=\"background-image:url(\\'slider/36-2.jpg\\'); background:linear-gradient(to top, rgba(0, 0, 0, 0.1), rgba(0, 0, 0, 0.1)), url(\\'slider/36-2.jpg\\') no-repeat top center;\">\\r\\n                                <div class=\"pb-md-5 pt-5 row\" style=\"\">\\r\\n                                    <div class=\"col-md-12 col-xl-12 pb-md-5 pt-5 pe-sm-3 ps-sm-5\" >\\r\\n                                        <h3 class=\"h5 text-white text-uppercase pt-5\" style=\"text-shadow: 1px 1px #000;\">CUI</h3>\\r\\n                                        <h1 class=\"display-4 fw-bold text-capitalize text-white\" style=\"text-shadow: 1px 1px #000;\">36th<br />  meeting of Academic council</h1>\\r\\n                                        <h4 class=\"fw-bold mb-4 text-white\" style=\"text-shadow: 1px 1px #000;\">36th meeting of Academic council of <br />COMSATS university Islamabad held on 18th July, 2023</h4>\\r\\n                                       <p><a href=\"http://ww2.comsats.edu.pk/photogallery/obPics.aspx?Catid=142092\" target=\"_blank\" class=\"btn btn-primary pb-2 pe-4 ps-4 pt-2 mb-5 rounded-pill\">Learn More</a></p>\\r\\n                                       <p class=\"pb-2 pe-4 ps-4 pt-2 mb-5\">&nbsp;</p>\\r\\n                                    </div>\\r\\n                                   \\r\\n                                </div>\\r\\n                            </div>\\r\\n                        </div>\\r\\n                    </section>\\r\\n                    </div>\\r\\n                  \\r\\n                    <div class=\"carousel-item\">\\r\\n                        <img src=\"slider/ranked-151.jpg\" class=\"d-block w-100\" alt=\"...\">\\r\\n                    </div>\\r\\n                     <div class=\"carousel-item\">\\r\\n                        <img src=\"slider/rankingupdate.jpg\" class=\"d-block w-100\" alt=\"...\">\\r\\n                    </div>\\r\\n                 <div class=\"carousel-item\">\\r\\n                        <img src=\"slider/sdgs.jpg\" class=\"d-block w-100\" alt=\"...\">\\r\\n                    </div>\\r\\n                \\r\\n                    <div class=\"carousel-item\">\\r\\n                        <img src=\"slider/WUR2023.jpg\" class=\"d-block w-100\" alt=\"...\">\\r\\n                    </div>\\r\\n                    <div class=\"carousel-item\">\\r\\n                       <img src=\"slider/ranked3rd.jpg\" class=\"d-block w-100\" alt=\"...\">\\r\\n                    </div>\\r\\n                    </div>\\r\\n                    <a class=\"carousel-control-prev\" href=\"#carouselExampleIndicators\" role=\"button\" data-bs-slide=\"prev\"> \\r\\n                        <span class=\"carousel-control-prev-icon\" aria-hidden=\"true\"></span> \\r\\n                        <span class=\"visually-hidden\">Previous</span> </a>\\r\\n    <a class=\"carousel-control-next\" href=\"#carouselExampleIndicators\" role=\"button\" data-bs-slide=\"next\"> \\r\\n        <span class=\"carousel-control-next-icon\" aria-hidden=\"true\"></span> \\r\\n        <span class=\"visually-hidden\">Next</span> </a>\\r\\n           \\r\\n    </div>\\r\\n\\r\\n        \\r\\n<div class=\"bg-secondary container-fluid\" style=\"background:#ffc107;\"> \\n                <div class=\"bg-info py-2 row animfooter\"> \\n                    <div class=\"bg-info col-md-12\"> \\n                        <div class=\"align-items-center bg-info breaking-news d-flex justify-content-between text-white\" style=\"background:#ffc107;\"> \\n                            <div class=\"bg-info d-flex flex-fill flex-grow-1 flex-row justify-content-center news px-1 py-2 text-dark\">\\n                                <span class=\"d-flex align-items-center\">&nbsp;<i class=\"fa fa-bullhorn text-white\"></i></span>\\n                            </div>                             \\n                            <marquee class=\"news-scroll\" behavior=\"scroll\" direction=\"left\" onmouseover=\"this.stop();\" onmouseout=\"this.start();\"> \\n                                <a href=\"NEFiles/Scholarship-ad-Final.jpg\" target=\"_blank\">COMSATS Scholarship (TOP 10 Positions Holders)</a> <span class=\"dot\"></span>\\n                                <a href=\"NEFiles/FALL2023.jpg\" target=\"_blank\">Admissions Fall 2023</a> <span class=\"dot\"></span>\\n                                \\n                                 \\n                                 <a href=\"https://usaidmnbsp-fas.hec.gov.pk/\" target=\"_blank\">Scholarships for Flood Affected Students</a> <span class=\"dot\"></span>\\n                                 \\n                   \\r\\n                   \\r\\n                    <a href=\"NEFiles/Notification2023.jpg\" target=\"_blank\">Notification - Constitution of Standing Accessibility Committee - Islamabad Campus</a>\\r\\n                    \\r\\n\\r\\n                  \\r\\n                   \\r\\n     \\r\\n\\r\\n                            </marquee>                             \\n                        </div>                         \\n                    </div>                     \\n                </div>                 \\n            </div>\\r\\n    <div>\\r\\n        \\r\\n    <style>\\r\\n        .video-container {\\r\\n\\tposition: relative;\\r\\n\\tpadding-bottom: 56.25%; /* 16:9 */\\r\\n\\theight: 0;\\r\\n}\\r\\n.video-container iframe {\\r\\n\\tposition: absolute;\\r\\n\\ttop: 0;\\r\\n\\tleft: 0;\\r\\n\\twidth: 100%;\\r\\n\\theight: 100%;\\r\\n}\\r\\n    </style>\\r\\n    <section class=\"bg-primary pt-5 text-center text-lg-start text-white\"> \\r\\n                <div class=\"container pb-5 pt-3\"> \\r\\n                    <div class=\"align-items-center row\"> \\r\\n                        <div class=\"col-lg-5 mt-5 mt-lg-0 order-lg-2 pb-3 pt-3\"> \\r\\n                            <h2 class=\"h5 mb-0 text-uppercase text-warning\">COMSATS University <span class=\"fw-lighter\">Islamabad</span></h2> \\r\\n                            <h3 class=\"fw-bold h3 mb-4 text-white\">About <span class=\"fw-lighter\">Us</span></h3>\\r\\n                            <p class=\"lh-sm text-break\" style=\"text-align: justify; hyphens: auto; -webkit-hyphens: auto; word-spacing: -0.05em;\">COMSATS University Islamabad (CUI) started its journey in 1998, and established its first campus at Islamabad in April 1998. In August 2000, in recognition of CUI&apos;s achievements, the Federal Government granted it the status of a Degree Awarding Institute (DAI) through promulgation of its charter. ..</h3> \\r\\n                            <h4 class=\"text-white\">Vision</h4>\\r\\n                            <p class=\"lh-sm\" style=\"text-align: justify; hyphens: auto; -webkit-hyphens: auto; word-spacing: -0.05em;\">The COMSATS University Islamabad envisions assuming a truly national character for itself in the years to come. It envisions having presence in all provinces of the country. It sees for itself a position among the top five (5) universities in the country...<a href=\"aboutus.aspx\" class=\"btn btn-link text-warning\">Read More >></a></p>\\r\\n                             \\r\\n                        </div>                         \\r\\n                        <div class=\"col-lg-7 order-lg-1\"> \\r\\n                            <div class=\"embed-responsive embed-responsive-16by9 video-container\"> \\r\\n                                <iframe class=\"embed-responsive-item embed-responsive-4by3\" src=\"https://www.youtube.com/embed/eqWo2d0ezS0\" height=\"420\" width=\"100%\" frameborder=\"0\" allow=\"accelerometer; autoplay; clipboard-write; encrypted-media; gyroscope; picture-in-picture; web-share\" allowfullscreen></iframe>                                 \\r\\n                            </div>\\r\\n                        </div>                         \\r\\n                    </div>                     \\r\\n                </div>                 \\r\\n            </section>\\r\\n    \\r\\n<section class=\"pb-5 pt-5\">\\r\\n                <div class=\"container-fluid\"> \\r\\n                    <div class=\"row row-cols-lg-2\"> \\r\\n                        <div class=\"col-lg-8 pt-3\">\\r\\n                            <div class=\"gy-4 justify-content-center row row-cols-lg-3 row-cols-md-2 hover10\"> \\r\\n                                <div> \\r\\n                                    <div class=\"bg-white rounded \"> \\r\\n                                        <figure><img src=\"img/undergraduate.jpg\" class=\"img-fluid rounded-1 w-100 hover06\" alt=\"...\" width=\"250\" height=\"250\"/></figure>\\r\\n                                        <div class=\"p-4 text-muted\">\\r\\n                                            <h3 class=\"fw-bold h4 mb-1 text-dark\">Undergraduate</h3>\\r\\n                                            <h4 class=\"h6 mb-3\">Admissions</h4>\\r\\n                                            <a href=\"http://admissions.comsats.edu.pk/Home/ProgramDetails#panel-undergrad\" target=\"_blank\" class=\"btn btn-primary fw-bold pb-2 pe-4 ps-4 pt-2\">View Details</a>\\r\\n                                        </div>                                         \\r\\n                                    </div>                                     \\r\\n                                </div>\\r\\n                                <div> \\r\\n                                    <div class=\"bg-white rounded\"> \\r\\n                                        <figure><img src=\"img/graduate.jpg\" class=\"img-fluid rounded-1 w-100\" alt=\"...\" width=\"250\" height=\"250\"/></figure>\\r\\n                                        <div class=\"p-4 text-muted\">\\r\\n                                            <h3 class=\"fw-bold h4 mb-1 text-dark\">Graduate</h3>\\r\\n                                            <h4 class=\"h6 mb-3\">Admissions</h4>\\r\\n                                            <a href=\"http://admissions.comsats.edu.pk/Home/ProgramDetails#panel-grad\" target=\"_blank\" class=\"btn btn-primary fw-bold pb-2 pe-4 ps-4 pt-2\">View Details</a>\\r\\n                                        </div>                                         \\r\\n                                    </div>                                     \\r\\n                                </div>\\r\\n                                <div> \\r\\n                                    <div class=\"bg-white rounded\"> \\r\\n                                        <figure><img src=\"img/phd.jpg\" class=\"img-fluid rounded-1 w-100\" alt=\"...\" width=\"250\" height=\"250\"/></figure>\\r\\n                                        <div class=\"p-4 text-muted\">\\r\\n                                            <h3 class=\"fw-bold h4 mb-1 text-dark\">PhD Programs</h3>\\r\\n                                            <h4 class=\"h6 mb-3\">Admissions</h4>\\r\\n                                            <a href=\"http://admissions.comsats.edu.pk/Home/ProgramDetails#panel-phd\" target=\"_blank\" class=\"btn btn-primary fw-bold pb-2 pe-4 ps-4 pt-2\">View Details</a>\\r\\n                                        </div>                                         \\r\\n                                    </div>                                     \\r\\n                                </div>                                 \\r\\n                            </div>\\r\\n                            <div class=\"gy-4 justify-content-center mt-1 row row-cols-lg-3 row-cols-md-2 hover10\"> \\r\\n                                <div> \\r\\n                                    <div class=\"bg-white rounded\"> \\r\\n                                        <figure><img src=\"img/feestructure.jpg\" class=\"img-fluid rounded-1 w-100\" alt=\"...\" width=\"250\" height=\"250\"/></figure>\\r\\n                                        <div class=\"p-4 text-muted\">\\r\\n                                            <h3 class=\"fw-bold h4 mb-1 text-dark\">Fee Structure</h3>\\r\\n                                            <h4 class=\"h6 mb-3\">Fall 2023</h4>\\r\\n                                            <a href=\"NEFiles/Fee-Structure-for-Fall-2023.pdf\" target=\"_blank\" class=\"btn btn-primary fw-bold pb-2 pe-4 ps-4 pt-2\">View Details</a>\\r\\n                                        </div>                                         \\r\\n                                    </div>                                     \\r\\n                                </div>\\r\\n                                <div> \\r\\n                                    <div class=\"bg-white rounded\"> \\r\\n                                        <figure><img src=\"img/howtoapply.jpg\" class=\"img-fluid rounded-1 w-100\" alt=\"...\" width=\"250\" height=\"250\"/></figure>\\r\\n                                        <div class=\"p-4 text-muted\">\\r\\n                                            <h3 class=\"fw-bold h4 mb-1 text-dark\">How to Apply?</h3>\\r\\n                                            <h4 class=\"h6 mb-3\">Procedure</h4>\\r\\n                                            <a href=\"http://admissions.comsats.edu.pk/Home/Procedure\" target=\"_blank\" class=\"btn btn-primary fw-bold pb-2 pe-4 ps-4 pt-2\">View Details</a>\\r\\n                                        </div>                                         \\r\\n                                    </div>                                     \\r\\n                                </div>\\r\\n                                <div> \\r\\n                                    <div class=\"bg-white rounded\"> \\r\\n                                        <figure><img src=\"img/apply.jpg\" class=\"img-fluid rounded-1 w-100\" alt=\"...\" width=\"250\" height=\"250\"/></figure>\\r\\n                                        <div class=\"p-4 text-muted\">\\r\\n                                            <h3 class=\"fw-bold h4 mb-1 text-dark\">Apply Now!</h3>\\r\\n                                            <h4 class=\"h6 mb-3\">Fall 2023</h4>\\r\\n                                            <a href=\"http://admissions.comsats.edu.pk/\" target=\"_blank\" class=\"btn btn-primary fw-bold pb-2 pe-4 ps-4 pt-2\">View Details</a>\\r\\n                                        </div>                                         \\r\\n                                    </div>                                     \\r\\n                                </div>                                 \\r\\n                            </div>                             \\r\\n                        </div>                         \\r\\n                        <div class=\"col-lg-4\">\\r\\n                            <div class=\"col-lg-12 order-lg-1 py-3 text-center hover10\">\\r\\n                                <div> \\r\\n                                    <div class=\"bg-white rounded\"> \\r\\n                                        <figure><img src=\"img/drsajid.jpg\" class=\"img-fluid rounded-1 w-100\" alt=\"...\" width=\"250\" height=\"250\"/></figure>\\r\\n                                        <div class=\"p-4 text-muted\">\\r\\n                                            <h3 class=\"fw-bold h4 mb-1 text-dark\">Message by the Rector</h3>\\r\\n                                            <h4 class=\"fw-bold h6 mb-3\">PROF. DR. SAJID QAMAR</h4>\\r\\n                                            <p>I feel honored to lead the COMSATS University Islamabad (CUI) as Rector and share with you my vision for CUI, which has always been an innovative institution of learning and development.&nbsp;Our focus in the coming years will be to transform CUI to meet the challenges of a rapidly changing technological environment as well as societal needs...</p><a href=\"RectorsProfile.aspx\" class=\"btn btn-primary fw-bold pb-2 pe-4 ps-4 pt-2\">Read More</a>\\r\\n                                        </div>                                         \\r\\n                                    </div>                                     \\r\\n                                </div>                                 \\r\\n                            </div>                             \\r\\n                        </div>                         \\r\\n                    </div>                     \\r\\n                </div>\\r\\n            </section>\\r\\n     <section class=\"bg-light  pb-0 pb-5 pt-0 jarallax\" style=\"background-image:url(\\'img/cui_10.jpg\\');\"> \\n                <div class=\"container pb-5 pt-5\"> \\n                    <div class=\"row row-cols-lg-3\"> \\n                        \\r\\n                        <div class=\"mt-3\"> \\r\\n                            <div class=\"align-items-center mb-3 row\"> \\r\\n                                <div class=\"col-lg-12\"> \\r\\n                                    <h3 class=\"fw-bold h2 mb-1 text-white\"><i class=\"fa-newspaper fal\"></i> Latest News</h3> \\r\\n                                </div>                                 \\r\\n                                <div class=\"col-lg-auto ms-auto\"> \\r\\n</div>                                 \\r\\n                            </div>                             \\r\\n                            <div class=\"content_news scrollbar-dynamic\" id=\"nv\"> \\r\\n                                <div class=\"list-group\">\\r\\n<a href=\"NEFiles/DrQudrat(Walk-in-Interview.jpg\" target=\"_blank\" class=\"list-group-item list-group-item-action\" aria-current=\"true\"> \\r\\n                                        <div class=\"d-flex w-100 justify-content-between\"> \\r\\n                                            <h5 class=\"fw-bolder mb-1 text-primary\">Positions Vacant</h5> \\r\\n                                        </div> <p class=\"mb-1\">Dr. Qudrat - Walk in Interview - CAST - Islamabad Campus</p> <small class=\"fst-italic text-primary\">18 September, 2023</small> </a>\\r\\n<a href=\"NEFiles/Visiting-Faculty-Required-attock.jpg\" target=\"_blank\" class=\"list-group-item list-group-item-action\" aria-current=\"true\"> \\r\\n                                        <div class=\"d-flex w-100 justify-content-between\"> \\r\\n                                            <h5 class=\"fw-bolder mb-1 text-primary\">Positions Vacant</h5> \\r\\n                                        </div> <p class=\"mb-1\">COMSATS University Advertisement Positions Available Visiting Faculty required at CUI Attock Campus</p> <small class=\"fst-italic text-primary\">11 September, 2023</small> </a>\\r\\n <a href=\"NEFiles/DrAwais(Walk-in-Interview).jpg\" target=\"_blank\" class=\"list-group-item list-group-item-action\" aria-current=\"true\"> \\r\\n                                        <div class=\"d-flex w-100 justify-content-between\"> \\r\\n                                            <h5 class=\"fw-bolder mb-1 text-primary\">Positions Vacant</h5> \\r\\n                                        </div> <p class=\"mb-1\">Dr. Awais - Walk in Interview - Department of Electrical and Computer Engineering - Islamabad Campus</p> <small class=\"fst-italic text-primary\">05 September, 2023</small> </a>\\r\\n <a href=\"NEFiles/DrSyed-Ali(Walk-in-Interview).jpg\" target=\"_blank\" class=\"list-group-item list-group-item-action\" aria-current=\"true\"> \\r\\n                                        <div class=\"d-flex w-100 justify-content-between\"> \\r\\n                                            <h5 class=\"fw-bolder mb-1 text-primary\">Positions Vacant</h5> \\r\\n                                        </div> <p class=\"mb-1\">Dr. Syed Ali - Walk in Interview - Department of Biosciences - Islamabad Campus</p> <small class=\"fst-italic text-primary\">01 September, 2023</small> </a>\\r\\n<a href=\"NEFiles/Visiting-Faculty-Positions-Available.jpg\" target=\"_blank\" class=\"list-group-item list-group-item-action\" aria-current=\"true\"> \\r\\n                                        <div class=\"d-flex w-100 justify-content-between\"> \\r\\n                                            <h5 class=\"fw-bolder mb-1 text-primary\">Positions Available</h5> \\r\\n                                        </div> <p class=\"mb-1\">Visiting Faculty Positions Available (Lecturers & Assistant Professors) at CUI Sahiwal Campus</p> <small class=\"fst-italic text-primary\">01 September, 2023</small> </a>\\r\\n <a href=\"NEFiles/FA23-UG-Orientation-Plan.pdf\" target=\"_blank\" class=\"list-group-item list-group-item-action\" aria-current=\"true\"> \\r\\n                                        <div class=\"d-flex w-100 justify-content-between\"> \\r\\n                                            <h5 class=\"fw-bolder mb-1 text-primary\">Orientation plan</h5> \\r\\n                                        </div> <p class=\"mb-1\">Orientation plan for Fall 2023 Undergraduate admitted students - Islamabad Campus</p> <small class=\"fst-italic text-primary\">29 August, 2023</small> </a>\\r\\n <a href=\"NEFiles/DrShumaila-Walk-in-Interview.jpg\" target=\"_blank\" class=\"list-group-item list-group-item-action\" aria-current=\"true\"> \\r\\n                                        <div class=\"d-flex w-100 justify-content-between\"> \\r\\n                                            <h5 class=\"fw-bolder mb-1 text-primary\">Positions Vacant</h5> \\r\\n                                        </div> <p class=\"mb-1\">Dr. Shumaila - Walk in Interview - Islamabad Campus</p> <small class=\"fst-italic text-primary\">25 August, 2023</small> </a>\\r\\n                                    <a href=\"NEFiles/Up-dation-of-Pool-of-Visiting-Faculty-abt.jpg\" target=\"_blank\" class=\"list-group-item list-group-item-action\" aria-current=\"true\"> \\r\\n                                        <div class=\"d-flex w-100 justify-content-between\"> \\r\\n                                            <h5 class=\"fw-bolder mb-1 text-primary\">Positions Available</h5> \\r\\n                                        </div> <p class=\"mb-1\">Positions Available for Up-dation of Pool of Visiting Faculty at its Abbottabad Campus</p> <small class=\"fst-italic text-primary\">21 August, 2023</small> </a>\\r\\n                                    <a href=\"NEFiles/Up-dation-of-Pool-of-Visiting-Faculty.jpg\" target=\"_blank\" class=\"list-group-item list-group-item-action\" aria-current=\"true\"> \\r\\n                                        <div class=\"d-flex w-100 justify-content-between\"> \\r\\n                                            <h5 class=\"fw-bolder mb-1 text-primary\">Positions Available</h5> \\r\\n                                        </div> <p class=\"mb-1\">Positions available for Up-dation of Pool of Visiting Faculty UPDATED (FINAL)</p> <small class=\"fst-italic text-primary\">21 August, 2023</small> </a>\\r\\n                                    <a href=\"http://ww2.comsats.edu.pk/ciitblogs/BlogsDetailsOuter.aspx?ArticleId=206710\" target=\"_blank\" class=\"list-group-item list-group-item-action\" aria-current=\"true\"> \\r\\n                                        <div class=\"d-flex w-100 justify-content-between\"> \\r\\n                                            <h5 class=\"fw-bolder mb-1 text-primary\">Scotland Pakistan Scholarship</h5> \\r\\n                                        </div> <p class=\"mb-1\">Scotland Pakistan Scholarship Scheme for Young Women and Girls 2023-24</p> <small class=\"fst-italic text-primary\">17 August, 2023</small> </a>\\r\\n                                    <a href=\"NEFiles/Updating-of-Pools-of-Visiting-Faculty.jpg\" target=\"_blank\" class=\"list-group-item list-group-item-action\" aria-current=\"true\"> \\r\\n                                        <div class=\"d-flex w-100 justify-content-between\"> \\r\\n                                            <h5 class=\"fw-bolder mb-1 text-primary\">Positions Available</h5> \\r\\n                                        </div> <p class=\"mb-1\">Positions Available Updating of Pools of Visiting Faculty at CUI Lahore Campus</p> <small class=\"fst-italic text-primary\">17 August, 2023</small> </a>\\r\\n                                    <a href=\"NEFiles/DrFayyaz-Walk-in-Interview.jpg\" target=\"_blank\" class=\"list-group-item list-group-item-action\" aria-current=\"true\"> \\r\\n                                        <div class=\"d-flex w-100 justify-content-between\"> \\r\\n                                            <h5 class=\"fw-bolder mb-1 text-primary\">Positions Vacant</h5> \\r\\n                                        </div> <p class=\"mb-1\">Dr. Fayyaz Ahmad - Walk in Interview - Department of Humanities - Islamabad Campus</p> <small class=\"fst-italic text-primary\">08 August, 2023</small> </a>\\r\\n                                     <a href=\"NEFiles/Scholarship-ad-Final.jpg\" target=\"_blank\" class=\"list-group-item list-group-item-action\" aria-current=\"true\"> \\r\\n                                        <div class=\"d-flex w-100 justify-content-between\"> \\r\\n                                            <h5 class=\"fw-bolder mb-1 text-primary\">Scholarship</h5> \\r\\n                                        </div> <p class=\"mb-1\">COMSATS Scholarship (TOP 10 Position Holders)</p> <small class=\"fst-italic text-primary\">04 August, 2023</small> </a>\\r\\n                                     \\r\\n                                     <a href=\"http://ww2.comsats.edu.pk/artdesign/Admission_exam.aspx\" target=\"_blank\" class=\"list-group-item list-group-item-action\" aria-current=\"true\"> \\r\\n                                        <div class=\"d-flex w-100 justify-content-between\"> \\r\\n                                            <h5 class=\"fw-bolder mb-1 text-primary\">Admissions</h5> \\r\\n                                        </div> <p class=\"mb-1\">Department of Art & Design Admissions - Islamabad Campus</p> <small class=\"fst-italic text-primary\">03 August, 2023</small> </a>\\r\\n                                    \\r\\n                                     <a href=\"NEFiles/DrSohail-Walk-in-Interview.jpg\" target=\"_blank\" class=\"list-group-item list-group-item-action\" aria-current=\"true\"> \\r\\n                                        <div class=\"d-flex w-100 justify-content-between\"> \\r\\n                                            <h5 class=\"fw-bolder mb-1 text-primary\">Position Vacant</h5> \\r\\n                                        </div> <p class=\"mb-1\">P.I. Dr. Sohail Walk in Interview</p> <small class=\"fst-italic text-primary\">25 July, 2023</small> </a>\\r\\n                                      <a href=\"NEFiles/DrGhulam-Walk-in-Interview.jpg\" target=\"_blank\" class=\"list-group-item list-group-item-action\" aria-current=\"true\"> \\r\\n                                        <div class=\"d-flex w-100 justify-content-between\"> \\r\\n                                            <h5 class=\"fw-bolder mb-1 text-primary\">Position Vacant</h5> \\r\\n                                        </div> <p class=\"mb-1\">P.I. Dr. Ghulam Walk in Interview</p> <small class=\"fst-italic text-primary\">25 July, 2023</small> </a>\\r\\n                                    <a href=\"NEFiles/Project-Positions-Available.jpg\" target=\"_blank\" class=\"list-group-item list-group-item-action\" aria-current=\"true\"> \\r\\n                                        <div class=\"d-flex w-100 justify-content-between\"> \\r\\n                                            <h5 class=\"fw-bolder mb-1 text-primary\">Position Vacant</h5> \\r\\n                                        </div> <p class=\"mb-1\">Project Position Available (Abbottabad Campus)</p> <small class=\"fst-italic text-primary\">21 July, 2023</small> </a>\\r\\n                                    <a href=\"http://ww2.comsats.edu.pk/ciitblogs/BlogsDetailsOuter.aspx?ArticleId=196678\" target=\"_blank\" class=\"list-group-item list-group-item-action\" aria-current=\"true\"> \\r\\n                                        <div class=\"d-flex w-100 justify-content-between\"> \\r\\n                                            <h5 class=\"fw-bolder mb-1 text-primary\">Positions Vacant</h5> \\r\\n                                        </div> <p class=\"mb-1\">For Islamabad, Lahore, Abbottabad, Sahiwal, Vehari, Wah Campuses</p> <small class=\"fst-italic text-primary\">17 July, 2023</small> </a>\\r\\n                                    \\r\\n                                    \\r\\n                                    <a href=\"NEFiles/Notice-to-Resume-Duty.jpg\" target=\"_blank\" class=\"list-group-item list-group-item-action\" aria-current=\"true\"> \\r\\n                                        <div class=\"d-flex w-100 justify-content-between\"> \\r\\n                                            <h5 class=\"fw-bolder mb-1 text-primary\">Notice to Resume Duty</h5> \\r\\n                                        </div> <p class=\"mb-1\">Notice to Resume Duty Mr. Abdul Waqar (Attock Campus)</p> <small class=\"fst-italic text-primary\">15 June, 2023</small> </a>\\r\\n                                   \\r\\n                             \\r\\n                               \\r\\n                                    \\r\\n                                    <a href=\"NEFiles/Committee-of-Anti-Drug-and-Tobacco-of-Islamabad-Campus.pdf\" target=\"_blank\" class=\"list-group-item list-group-item-action\" aria-current=\"true\"> \\r\\n                                        <div class=\"d-flex w-100 justify-content-between\"> \\r\\n                                            <h5 class=\"fw-bolder mb-1 text-primary\">Notification</h5> \\r\\n                                        </div> <p class=\"mb-1\">Constitution of Anti-Drug and Tobacco Committee - Islamabad Campus</p> <small class=\"fst-italic text-primary\">08 March, 2023</small> </a>\\r\\n                                    \\r\\n                                     \\r\\n\\r\\n                                     \\r\\n                                    \\r\\n                                     \\r\\n                                    \\r\\n                                    <a href=\"http://ww2.comsats.edu.pk/ciitblogs/BlogsDetailsOuter.aspx?ArticleId=186429\" target=\"_blank\" class=\"list-group-item list-group-item-action\" aria-current=\"true\"> <div class=\"d-flex w-100 justify-content-between\"> \\r\\n                                            <h5 class=\"fw-bolder mb-1 text-primary\">Award Announcement</h5> \\r\\n                                        </div> <p class=\"mb-1\">Pakistan Council of Architects and Town Planners</p> <small class=\"fst-italic text-primary\">24 January, 2023</small> </a> \\r\\n                                    \\r\\n                                    <a href=\"NEFiles/Notification2023.jpg\" target=\"_blank\" class=\"list-group-item list-group-item-action\" aria-current=\"true\"> <div class=\"d-flex w-100 justify-content-between\"> \\r\\n                                            <h5 class=\"fw-bolder mb-1 text-primary\">Notification</h5> \\r\\n                                        </div> <p class=\"mb-1\">Notification - Constitution of Standing Accessibility Committee - Islamabad Campus</p> <small class=\"fst-italic text-primary\">24 January, 2023</small> </a> \\r\\n                             \\r\\n                                    \\r\\n                                </div>                                 \\r\\n                            </div>                             \\r\\n                        </div>                         \\r\\n   \\n                        \\r\\n<div class=\"mt-3\"> \\n                            <div class=\"align-items-center mb-3 row\"> \\n                                <div class=\"col-lg-7\"> \\n                                    <h3 class=\"fw-bold h2 mb-1 text-white\"><i class=\"fa-calendar fal\"></i> Events</h3> \\n                                </div>                                 \\n                                <div class=\"col-lg-5\"> \\n</div>                                 \\n                                <div class=\"col-lg-auto ms-auto\"> \\n</div>                                 \\n                            </div>                             \\n                            <div class=\"content_news scrollbar-dynamic\" id=\"nv\"> \\n                                <div class=\"list-group\"> \\n                                    <a href=\"http://ww2.comsats.edu.pk/ciitblogs/BlogsDetailsOuter.aspx?ArticleId=186489\" target=\"_blank\" class=\"list-group-item list-group-item-action\" aria-current=\"true\"> <div class=\"d-flex w-100 justify-content-between\"> \\n                                            <h5 class=\"fw-bolder mb-1 text-primary\">Competition</h5> <small class=\"text-success\">09 Mar</small> \\n                                        </div> <p class=\"mb-1\">International University-level Student Competition</p> <small class=\"fst-italic text-primary\">09 March, 2023</small> </a>\\n\\n                                    <a href=\"http://ww2.comsats.edu.pk/ciitblogs/BlogsDetailsOuter.aspx?ArticleId=186462\" target=\"_blank\" class=\"list-group-item list-group-item-action\" aria-current=\"true\"> <div class=\"d-flex w-100 justify-content-between\"> \\n                                            <h5 class=\"fw-bolder mb-1 text-primary\">Space/Instagram Live Session</h5> <small class=\"text-success\">23 Feb</small> \\n                                        </div> <p class=\"mb-1\">PMYP Twitter Space/Instagram Live Session | Skilling & Certification | February 23, 2023 @10:00 PM</p> <small class=\"fst-italic text-primary\">23 February, 2023</small> </a>\\n\\n                                    <a href=\"NEFiles/ICPHMS-2023.pdf\" target=\"_blank\" class=\"list-group-item list-group-item-action\" aria-current=\"true\"> <div class=\"d-flex w-100 justify-content-between\"> \\n                                            <h5 class=\"fw-bolder mb-1 text-primary\">ICPHMS-2023</h5> <small class=\"text-success\">27 Feb</small> \\n                                        </div> <p class=\"mb-1\">1st International Conference on - Physics Horizons and Multidisciplinary Science(ICPHMS-2023) - Lahore Campus </p> <small class=\"fst-italic text-primary\">27-28 February, 2023</small> </a> \\n                                    \\n                                    <a href=\"http://ww2.comsats.edu.pk/humanities/NewsEventDetail.aspx?id=186445\" target=\"_blank\" class=\"list-group-item list-group-item-action\" aria-current=\"true\"> <div class=\"d-flex w-100 justify-content-between\"> \\n                                            <h5 class=\"fw-bolder mb-1 text-primary\">Conference</h5> <small class=\"text-success\">20 Mar</small> \\n                                        </div> <p class=\"mb-1\">1st International Conference on ROLE OF SEERAH in current education system - Islamabad Campus</p> <small class=\"fst-italic text-primary\">20-21 March, 2023</small> </a> \\n                                    \\n                                    <a href=\"https://www.facebook.com/cuilhrjobfair2023\" target=\"_blank\" class=\"list-group-item list-group-item-action\" aria-current=\"true\"> <div class=\"d-flex w-100 justify-content-between\"> \\n                                            <h5 class=\"fw-bolder mb-1 text-primary\">Job Fair</h5> <small class=\"text-success\">01 Mar</small> \\n                                        </div> <p class=\"mb-1\">Job Fair 2023 - Lahore Campus</p> <small class=\"fst-italic text-primary\">March 01, 2023</small> </a> \\n                                    \\n                                    <a href=\"https://cuiwah.edu.pk/Home/Blog/2349\" target=\"_blank\" class=\"list-group-item list-group-item-action\" aria-current=\"true\"> <div class=\"d-flex w-100 justify-content-between\"> \\n                                            <h5 class=\"fw-bolder mb-1 text-primary\">Conference</h5> <small class=\"text-success\">17 Feb</small> \\n                                        </div> <p class=\"mb-1\">1st International Conference about COP27 Climate Change & Food Security - Wah Campus</p> <small class=\"fst-italic text-primary\">17, February 2023</small> </a> \\n                                    \\n                                     \\n                                    \\n                                    \\n                                </div>                                 \\n                            </div>                             \\n                        </div>\\n                                                 \\n                        <div class=\"mt-3 \"> \\n                            <div class=\"align-items-center mb-3 row\"> \\n                                <div class=\"col-lg-12\"> \\n                                    <h3 class=\"fw-bold h2 mb-1 text-white\"><svg xmlns=\"http://www.w3.org/2000/svg\" viewBox=\"0 0 24 24\" fill=\"currentColor\" width=\"1em\" height=\"1em\" class=\"fa-external-link-alt fal\">\\n                                            <g>\\n                                                <path fill=\"none\" d=\"M0 0h24v24H0z\"/>\\n                                                <path fill-rule=\"nonzero\" d=\"M13 9h4.5l-.5 2h-4v9h-2v-9H7V9h4V7.128c0-1.783.186-2.43.534-3.082a3.635 3.635 0 0 1 1.512-1.512C13.698 2.186 14.345 2 16.128 2c.522 0 .98.05 1.372.15V4h-1.372c-1.324 0-1.727.078-2.138.298-.304.162-.53.388-.692.692-.22.411-.298.814-.298 2.138V9z\"/>\\n                                            </g>\\n                                        </svg> Follow Us</h3> \\n                                </div>                                 \\n                                <div class=\"col-lg-auto ms-auto\"> \\n</div>                                 \\n                            </div>                             \\n                            <div class=\"content_news scrollbar-dynamic\" id=\"nv\"> \\n                                <iframe class=\"fb-post\" src=\"https://www.facebook.com/plugins/page.php?href=https%3A%2F%2Fwww.facebook.com%2Fcuiofficial%2F&tabs=timeline&width=380&height=420&small_header=true&adapt_container_width=true&hide_cover=false&show_facepile=true&appId\" height=\"420\" width=\"380\" style=\"border:none;overflow:hidden\" scrolling=\"no\" frameborder=\"0\" allowTransparency=\"true\" allow=\"encrypted-media\"></iframe>                                 \\n                            </div>                             \\n                        </div>\\n                    </div>                     \\n                </div>                 \\n            </section>\\r\\n    <section class=\"background-cover background-right-top bg-secondary pb-5 position-relative pt-5 text-white-50\">\\n                <div class=\"bg-primary col-12 col-lg-7 h-100 position-absolute start-0 top-0\">\\n</div>\\n                <div class=\"container pb-5 position-relative pt-5\">\\n                    <div class=\"align-items-center gy-5 row\">\\n                        <div class=\"col-lg-6 order-lg-last\">\\n                            <div class=\"background-cover p-lg-2  jarallax\" style=\"background-image:url(\\'img/lib.jpg\\');\">\\n                                <section class=\" text-center\">\\n                                    <div class=\"container pb-5 pt-5\">\\n                                        <div class=\"pb-5 pt-5 row text-start\">\\n                                            <div class=\"bg-gradient bg-info bg-opacity-75 col-lg-9 col-xl-8 me-auto ms-auto p-5\">\\n                                                <p class=\"h6 text-uppercase text-warning\">CUI&rsquo;s Rankings &amp; Reputation</p>\\n                                                <h2 class=\"fw-bold mb-3 text-light\">COMSATS University Islamabad is ranked amongst the top 10 universities of Pakistan as per HEC recent rankings</h2><a href=\"AboutUs.aspx\" class=\"btn btn-primary fw-bold pe-3 ps-3\">Read More</a>\\n                                            </div>\\n                                        </div>\\n                                    </div>\\n                                </section>\\n                               \\n                            </div>\\n                        </div>\\n                        <div class=\"col-lg-6\">\\n                            <h1 class=\"fw-bold text-white pe-sm-5\">About COMSATS University Islamabad</h1>\\n                            <p class=\" lead mb-4 pe-sm-5\" style=\"text-align:justify; font-weight:400;\">The origins of the COMSATS University Islamabad (CUI) date back to 1998. The university is one of the leading universities of Pakistan with five (05) broad faculties including Engineering, Information Science and Technology, Business Administration and Architecture and Design with more than 36,000 students and offering 100-degree programs. The CUI is well-known for its trend-setting pedagogical approach, allowing for interdisciplinary methodologies to learning and problem solving, experimentation, and insight. It is ranked among top 3 universities of Pakistan and world&rsquo;s best 800 universities...</p>\\n                            <a href=\"AboutUs.aspx\" class=\"btn btn-warning fw-bold pb-2 pe-4 ps-4 pt-2\">Read More</a>\\n                        </div>\\n                    </div>\\n                </div>\\n            </section>\\r\\n    \\r\\n<section class=\"pb-2\"> \\n                <div class=\"container pb-5 pt-5\"> \\n                    <div class=\"align-items-center mb-5 row\"> \\n                        <div class=\"col-lg-12 ms-auto order-lg-2 py-3 text-center\"> \\n                            <div class=\"mb-5 row\"> \\n                                <div class=\"col-lg-12\"> \\n                                    <h2 class=\"fw-bold h6 mb-1 text-primary\">COMSATS University Islamabad</h2> \\n                                    <h3 class=\"display-3 fw-bold mb-1 text-body\">Campuses</h3> \\n                                </div>                                 \\n                            </div>\\n                            <div class=\"row mt-30\">\\n                                <div class=\"col-md-3 col-sm-6\">\\n                                    <div class=\"box10\">\\n                                        <img class=\"pic-1\" src=\"img/isb_c.jpg\"/>\\n                                        <div class=\"box-content\">\\n                                            <h3 class=\"title\">Islamabad</h3>\\n                                            <ul class=\"icon\">\\n                                               \\n                                                <li><a href=\"http://islamabad.comsats.edu.pk/\" class=\"fa fa-link\"></a>\\n                                                </li>\\n                                            </ul>\\n                                        </div>\\n                                    </div>\\n                                </div>\\n                                <div class=\"col-md-3 col-sm-6\">\\n                                    <div class=\"box10\">\\n                                        <img class=\"pic-1\" src=\"img/abt_c.jpg\"/>\\n                                        <div class=\"box-content\">\\n                                            <h3 class=\"title\">Abbottabad</h3>\\n                                            <ul class=\"icon\">\\n                                               \\n                                                <li><a href=\"https://cuiatd.edu.pk/\" class=\"fa fa-link\"></a>\\n                                                </li>\\n                                            </ul>\\n                                        </div>\\n                                    </div>\\n                                </div>\\n                                <div class=\"col-md-3 col-sm-6\">\\n                                    <div class=\"box10\">\\n                                        <img class=\"pic-1\" src=\"img/lhr_c.jpg\"/>\\n                                        <div class=\"box-content\">\\n                                            <h3 class=\"title\">Lahore</h3>\\n                                            <ul class=\"icon\">\\n                                               \\n                                                <li><a href=\"http://lahore.comsats.edu.pk/\" class=\"fa fa-link\"></a>\\n                                                </li>\\n                                            </ul>\\n                                        </div>\\n                                    </div>\\n                                </div>\\n                                <div class=\"col-md-3 col-sm-6\">\\n                                    <div class=\"box10\">\\n                                        <img class=\"pic-1\" src=\"img/wah_c.jpg\"/>\\n                                        <div class=\"box-content\">\\n                                            <h3 class=\"title\">Wah</h3>\\n                                            <ul class=\"icon\">\\n                                              \\n                                                <li><a href=\"http://wah.comsats.edu.pk/\" class=\"fa fa-link\"></a>\\n                                                </li>\\n                                            </ul>\\n                                        </div>\\n                                    </div>\\n                                </div>\\n                            </div>\\n                            <div class=\"row mt-30\">\\n                                <div class=\"col-md-3 col-sm-6\">\\n                                    <div class=\"box10\">\\n                                        <img class=\"pic-1\" src=\"img/atk_c.jpg\"/>\\n                                        <div class=\"box-content\">\\n                                            <h3 class=\"title\">Attock</h3>\\n                                            <ul class=\"icon\">\\n                                               \\n                                                <li><a href=\"http://attock.comsats.edu.pk/\" class=\"fa fa-link\"></a>\\n                                                </li>\\n                                            </ul>\\n                                        </div>\\n                                    </div>\\n                                </div>\\n                                <div class=\"col-md-3 col-sm-6\">\\n                                    <div class=\"box10\">\\n                                        <img class=\"pic-1\" src=\"img/shi_c.jpg\"/>\\n                                        <div class=\"box-content\">\\n                                            <h3 class=\"title\">Sahiwal</h3>\\n                                            <ul class=\"icon\">\\n                                               \\n                                                <li><a href=\"http://sahiwal.comsats.edu.pk/\" class=\"fa fa-link\"></a>\\n                                                </li>\\n                                            </ul>\\n                                        </div>\\n                                    </div>\\n                                </div>\\n                                <div class=\"col-md-3 col-sm-6\">\\n                                    <div class=\"box10\">\\n                                        <img class=\"pic-1\" src=\"img/vhr_c.jpg\"/>\\n                                        <div class=\"box-content\">\\n                                            <h3 class=\"title\">Vehari</h3>\\n                                            <ul class=\"icon\">\\n                                               \\n                                                <li><a href=\"http://vehari.comsats.edu.pk/\" class=\"fa fa-link\"></a>\\n                                                </li>\\n                                            </ul>\\n                                        </div>\\n                                    </div>\\n                                </div>\\n                                <div class=\"col-md-3 col-sm-6\">\\n                                    <div class=\"box10\">\\n                                        <img class=\"pic-1\" src=\"img/vr_c.jpg\"/>\\n                                        <div class=\"box-content\">\\n                                            <h3 class=\"title\">Virtual</h3>\\n                                            <ul class=\"icon\">\\n                                                \\n                                                <li><a href=\"http://vcomsats.edu.pk/\" class=\"fa fa-link\"></a>\\n                                                </li>\\n                                            </ul>\\n                                        </div>\\n                                    </div>\\n                                </div>\\n                            </div>                             \\n                        </div>                         \\n                    </div>\\n                    <!------------------ Hover Effect Style : Demo - 10 --------------->                     \\n                </div>                 \\n            </section>\\r\\n    \\r\\n<section class=\"background-cover bg-secondary jarallax position-relative text-black-50\" style=\"background-image:url(\\'img/ISB_0152.jpg\\');\"> \\n                <div class=\"container-fluid\"> \\n                    <div class=\"align-items-center mb-3 row\"> \\n                        <div class=\"bg-primary col-lg-3 col-xl-3 h-100 pb-5  pt-5 start-0 top-0\"> \\n                            <div style=\"padding-top:11rem; padding-bottom:11rem;\" class=\"pe-5 ps-5 pt-xs-0 pb-xs-0\">\\n                                <h2 class=\"h6 text-warning\">Why CUI?</h2> \\n                                <h3 class=\"fw-bold h2 mb-4 text-light\">CUI aspires to be both one of the top research institutions and one of the best higher education providers in the country</h3> <a class=\"btn btn-warning fw-bold mb-5 pe-4 ps-4\" href=\"history.aspx\">Learn More</a> \\n                            </div>\\n                        </div>                         \\n                        <div class=\"col-xl-9 ms-auto\"> \\n                            <div class=\"pb-5 pt-3 pt-5 row\"> \\n                                <div class=\"col-lg-4 col-md-6 pb-3 pt-3\"> \\n                                    <div class=\"bg-gradient bg-white border h-100 pb-5 pe-4 ps-4 pt-5 shadow\">\\n                                        <div class=\"ps-3 pe-3\">\\n                                            <svg xmlns=\"http://www.w3.org/2000/svg\" viewBox=\"0 0 24 24\" fill=\"currentColor\" width=\"60\" height=\"60\" class=\"mb-3 text-primary\">\\n                                                <g>\\n                                                    <path fill=\"none\" d=\"M0 0h24v24H0z\"/>\\n                                                    <path d=\"M3 2.992C3 2.444 3.445 2 3.993 2h16.014a1 1 0 0 1 .993.992v18.016a.993.993 0 0 1-.993.992H3.993A1 1 0 0 1 3 21.008V2.992zM19 11V4H5v7h14zm0 2H5v7h14v-7zM9 6h6v2H9V6zm0 9h6v2H9v-2z\"/>\\n                                                </g>\\n                                            </svg>\\n                                            <h4 class=\"fw-bold text-dark\">Course Catalogue</h4>\\n                                            <p class=\"mb-0\">CUI Course Catalog Portal is an information and assistance resource designed for the CUI Faculty and Staff.</p>\\n                                            <p class=\"mb-0\"><a type=\"button\" href=\"http://cuonline.comsats.edu.pk/publicaccess\" target=\"_blank\" class=\"btn btn-link ps-0\">Read More >></a></p>\\n                                        </div>                                         \\n                                    </div>                                     \\n                                </div>                                 \\n                                <div class=\"col-lg-4 col-md-6 pb-3 pt-3\"> \\n                                    <div class=\"bg-gradient bg-white border h-100 pb-5 pe-4 ps-4 pt-5 shadow\">\\n                                        <div class=\"ps-3 pe-3\">\\n                                            <svg xmlns=\"http://www.w3.org/2000/svg\" viewBox=\"0 0 24 24\" fill=\"currentColor\" width=\"60\" height=\"60\" class=\"mb-3 text-primary\">\\n                                                <g>\\n                                                    <path fill=\"none\" d=\"M0 0h24v24H0z\"/>\\n                                                    <path d=\"M3 19V5.7a1 1 0 0 1 .658-.94l9.671-3.516a.5.5 0 0 1 .671.47v4.953l6.316 2.105a1 1 0 0 1 .684.949V19h2v2H1v-2h2zm2 0h7V3.855L5 6.401V19zm14 0v-8.558l-5-1.667V19h5z\"/>\\n                                                </g>\\n                                            </svg>\\n                                            <h4 class=\"fw-bold text-dark\">Faculties &amp; Departments</h4>\\n                                            <p class=\"mb-0\">CUI has six faculties, 22 Departments and 08 Research Centers working in its eight campuses,..</p>\\n                                            <p class=\"mb-0\"><a type=\"button\" href=\"faculties.aspx\" class=\"btn btn-link ps-0\">Read More >></a></p>\\n                                        </div>                                         \\n                                    </div>                                     \\n                                </div>\\n                                <div class=\"col-lg-4 col-md-6 pb-3 pt-3\"> \\n                                    <div class=\"bg-gradient bg-white border h-100 pb-5 pe-4 ps-4 pt-5 shadow\">\\n                                        <div class=\"ps-3 pe-3\">\\n                                            <svg xmlns=\"http://www.w3.org/2000/svg\" viewBox=\"0 0 24 24\" fill=\"currentColor\" width=\"60\" height=\"60\" class=\"mb-3 text-primary\">\\n                                                <g>\\n                                                    <path fill=\"none\" d=\"M0 0h24v24H0z\"/>\\n                                                    <path d=\"M3 3h18a1 1 0 0 1 1 1v16a1 1 0 0 1-1 1H3a1 1 0 0 1-1-1V4a1 1 0 0 1 1-1zm1 2v14h16V5H4zm3 8h2v4H7v-4zm4-6h2v10h-2V7zm4 3h2v7h-2v-7z\"/>\\n                                                </g>\\n                                            </svg>\\n                                            <h4 class=\"fw-bold text-dark\">Research Portal</h4>\\n                                            <p class=\"mb-0\">Check the total number of publications uploaded by our faculty and staff members from different campuses.</p>\\n                                            <p class=\"mb-0\"><a href=\"http://ww2.comsats.edu.pk/research\" target=\"_blank\" type=\"button\" class=\"btn btn-link ps-0\">Read More >></a></p>\\n                                        </div>                                         \\n                                    </div>                                     \\n                                </div>                                 \\n                                <div class=\"col-lg-4 col-md-6 pb-3 pt-3\"> \\n                                    <div class=\"bg-gradient bg-white border h-100 pb-5 pe-4 ps-4 pt-5 shadow\">\\n                                        <div class=\"ps-3 pe-3\">\\n                                            <svg xmlns=\"http://www.w3.org/2000/svg\" viewBox=\"0 0 24 24\" fill=\"currentColor\" width=\"60\" height=\"60\" class=\"mb-3 text-primary\">\\n                                                <g>\\n                                                    <path fill=\"none\" d=\"M0 0h24v24H0z\"/>\\n                                                    <path d=\"M14 14.252v2.09A6 6 0 0 0 6 22l-2-.001a8 8 0 0 1 10-7.748zM12 13c-3.315 0-6-2.685-6-6s2.685-6 6-6 6 2.685 6 6-2.685 6-6 6zm0-2c2.21 0 4-1.79 4-4s-1.79-4-4-4-4 1.79-4 4 1.79 4 4 4zm6 6v-3.5l5 4.5-5 4.5V19h-3v-2h3z\"/>\\n                                                </g>\\n                                            </svg>\\n                                            <h4 class=\"fw-bold text-dark\">International Students</h4>\\n                                            <p class=\"mb-0\">International Admissions Unit (IAU) has been setup in International Office, to facilitate International Students.&nbsp;</p>\\n                                            <p class=\"mb-0\"><a type=\"button\" href=\"http://ww2.comsats.edu.pk/internationalstudents\" target=\"_blank\" class=\"btn btn-link ps-0\">Read More >></a></p>\\n                                        </div>                                         \\n                                    </div>                                     \\n                                </div>\\n                                <div class=\"col-lg-4 col-md-6 pb-3 pt-3\"> \\n                                    <div class=\"bg-gradient bg-white border h-100 pb-5 pe-4 ps-4 pt-5 shadow\">\\n                                        <div class=\"ps-3 pe-3\">\\n                                            <svg xmlns=\"http://www.w3.org/2000/svg\" viewBox=\"0 0 24 24\" fill=\"currentColor\" width=\"60\" height=\"60\" class=\"mb-3 text-primary\">\\n                                                <g>\\n                                                    <path fill=\"none\" d=\"M0 0h24v24H0z\"/>\\n                                                    <path d=\"M12 14v2a6 6 0 0 0-6 6H4a8 8 0 0 1 8-8zm0-1c-3.315 0-6-2.685-6-6s2.685-6 6-6 6 2.685 6 6-2.685 6-6 6zm0-2c2.21 0 4-1.79 4-4s-1.79-4-4-4-4 1.79-4 4 1.79 4 4 4zm6 10.5l-2.939 1.545.561-3.272-2.377-2.318 3.286-.478L18 14l1.47 2.977 3.285.478-2.377 2.318.56 3.272L18 21.5z\"/>\\n                                                </g>\\n                                            </svg>\\n                                            <h4 class=\"fw-bold text-dark\">Phd Graduates</h4>\\n                                            <p class=\"mb-0\">Browse and search profiles of COMSATS University Islamabad PhD Graduates.</p>\\n                                            <p class=\"mb-0\"><a type=\"button\" href=\"http://ww2.comsats.edu.pk/phd_graduates/\" target=\"_blank\" class=\"btn btn-link ps-0\">Read More >></a></p>\\n                                        </div>                                         \\n                                    </div>                                     \\n                                </div>\\n                                <div class=\"col-lg-4 col-md-6 pb-3 pt-3\"> \\n                                    <div class=\"bg-gradient bg-white border h-100 pb-5 pe-4 ps-4 pt-5 shadow\">\\n                                        <div class=\"ps-3 pe-3\">\\n                                            <svg xmlns=\"http://www.w3.org/2000/svg\" viewBox=\"0 0 24 24\" fill=\"currentColor\" width=\"60\" height=\"60\" class=\"mb-3 text-primary\">\\n                                                <g>\\n                                                    <path fill=\"none\" d=\"M0 0h24v24H0z\"/>\\n                                                    <path d=\"M17 15.245v6.872a.5.5 0 0 1-.757.429L12 20l-4.243 2.546a.5.5 0 0 1-.757-.43v-6.87a8 8 0 1 1 10 0zm-8 1.173v3.05l3-1.8 3 1.8v-3.05A7.978 7.978 0 0 1 12 17a7.978 7.978 0 0 1-3-.582zM12 15a6 6 0 1 0 0-12 6 6 0 0 0 0 12z\"/>\\n                                                </g>\\n                                            </svg>\\n                                            <h4 class=\"fw-bold text-dark\">Scholarships</h4>\\n                                            <p class=\"mb-0\">Check the scholarships from different countries and multiple international universities.</p>\\n                                            <p class=\"mb-0\"><a type=\"button\" href=\"http://ww2.comsats.edu.pk/scholarships/\" target=\"_blank\" class=\"btn btn-link ps-0\">Read More >></a></p>\\n                                        </div>                                         \\n                                    </div>                                     \\n                                </div>                                 \\n                            </div>                             \\n                        </div>                         \\n                    </div>                     \\n                </div>                 \\n            </section>\\r\\n    \\r\\n<section class=\"pb-5 pt-5 text-center\"> \\n                <div class=\"container pb-5 pt-5\"> \\n                    <div class=\"align-items-center mb-5 row\"> \\n                        <div class=\"col-lg-8 col-md-10 col-xl-7 me-auto ms-auto\"> \\n                            <h2 class=\"h5 mb-1 text-primary\">Welcome To CUI</h2> \\n                            <h3 class=\"fw-bold h1 text-dark\">Some Statistics About CUI</h3> \\n                        </div>                         \\n                    </div>\\n                    <div class=\"align-items-center row\"> \\n                        <div class=\"col-lg-11 col-xl-9 me-auto ms-auto\"> \\n                            <div class=\"gx-3 gy-5 row\"> \\n                                <div class=\"col-md-3\"> \\n                                    <div>\\n                                        <h2 class=\"display-3 fw-bold text-primary\">07</h2>\\n                                        <h3 class=\"fs-6 fw-bold mb-0 text-dark\">Campuses</h3>\\n                                    </div>                                     \\n                                </div>\\n                                <div class=\"col-md-3\"> \\n                                    <div> \\n                                        <h2 class=\"display-3 fw-bold text-primary\">100</h2>\\n                                        <h3 class=\"fs-6 fw-bold mb-0 text-dark\">Degree Programs</h3> \\n                                    </div>                                     \\n                                </div>\\n                                <div class=\"col-md-3\"> \\n                                    <div> \\n                                        <h2 class=\"display-3 fw-bold text-primary\">33,744</h2>\\n                                        <h3 class=\"fs-6 fw-bold mb-0 text-dark\">Enrolled Students</h3> \\n                                    </div>                                     \\n                                </div>\\n                                <div class=\"col-md-3\"> \\n                                    <div> \\n                                        <h2 class=\"display-3 fw-bold text-primary\">675</h2>\\n                                        <h3 class=\"fs-6 fw-bold mb-0 text-dark\">Phd Students</h3> \\n                                    </div>                                     \\n                                </div>\\n                                <div class=\"col-md-3\"> \\n                                    <div> \\n                                        <h2 class=\"display-3 fw-bold text-primary\">5000</h2>\\n                                        <h3 class=\"fs-6 fw-bold mb-0 text-dark\">MS Students</h3> \\n                                    </div>                                     \\n                                </div>\\n                                <div class=\"col-md-3\"> \\n                                    <div> \\n                                        <h2 class=\"display-3 fw-bold text-primary\">1077</h2>\\n                                        <h3 class=\"fs-6 fw-bold mb-0 text-dark\">PhD Faculty</h3> \\n                                    </div>                                     \\n                                </div>\\n                                <div class=\"col-md-3\"> \\n                                    <div> \\n                                        <h2 class=\"display-3 fw-bold text-primary\">02</h2>\\n                                        <h3 class=\"fs-6 fw-bold mb-0 text-dark\">Ranked in Research</h3> \\n                                    </div>                                     \\n                                </div>\\n                                <div class=\"col-md-3\"> \\n                                    <div> \\n                                        <h2 class=\"display-3 fw-bold text-primary\">01</h2>\\n                                        <h3 class=\"fs-6 fw-bold mb-0 text-dark\">Ranked in IT</h3> \\n                                    </div>                                     \\n                                </div>                                 \\n                            </div>\\n                        </div>                         \\n                    </div>                     \\n                </div>                 \\n            </section>\\r\\n    \\r\\n<section class=\"pb-5 pt-5\">\\n                <div class=\"container-fluid\"> \\n                    <div class=\"row row-cols-lg-2\"> \\n                        <div class=\"col-lg-4\">\\n                            <div class=\"col-lg-12 order-lg-1 py-3 text-center hover11\">\\n                                <div> \\n                                    <div class=\"bg-white rounded\"> \\n                                        <figure><img src=\"img/founderrector.jpg\" class=\"img-fluid rounded-1 w-100\" alt=\"...\" width=\"250\" height=\"250\"/></figure>\\n                                        <div class=\"p-4 text-muted\">\\n                                            <h3 class=\"fw-bold h4 mb-1 text-dark\">Founder Rector</h3>\\n                                            <h4 class=\"fw-bold h6 mb-3\">Dr. Syed Muhammad Junaid Zaidi, H.I., S.I.</h4>\\n                                            <p>Dr. S. M. Junaid Zaidi, H.I., S.I. is the Founder Rector of the COMSATS University Islamabad (CUI), Pakistan&rsquo;s first exclusive institute of information technology. The CUI was awarded Charter by the Government of Pakistan in 2000 and in less than a decade, it has grown into a quality institution of higher learning under his able leadership...</p>\\n                                            <a href=\"founderRectorsProfile.aspx\" class=\"btn btn-primary fw-bold pb-2 pe-4 ps-4 pt-2\">Read More</a>\\n                                        </div>                                         \\n                                    </div>                                     \\n                                </div>                                 \\n                            </div>                             \\n                        </div>\\n                        <div class=\"col-lg-8 pt-3\">\\n                            <div class=\"gy-4 justify-content-center row row-cols-lg-3 row-cols-md-2 hover15\"> \\n                                <div> \\n                                    <div class=\"bg-white rounded\"> \\n                                        <figure><img src=\"img/prospectus.jpg\" class=\"img-fluid rounded-1 w-100\" alt=\"...\" width=\"250\" height=\"250\"/></figure>\\n                                        <div class=\"p-4 text-muted\">\\n                                            <h3 class=\"fw-bold h4 mb-1 text-dark\">Prospectus</h3>\\n                                            <h4 class=\"h6 mb-3\">Prospectus &amp; Admission Guide</h4><a href=\"http://islamabad.comsats.edu.pk/prospectus.aspx\" target=\"_blank\" class=\"btn btn-primary fw-bold pb-2 pe-4 ps-4 pt-2\">View Details</a>\\n                                        </div>                                         \\n                                    </div>                                     \\n                                </div>\\n                                <div> \\n                                    <div class=\"bg-white rounded\"> \\n                                        <figure><img src=\"img/ranking.jpg\" class=\"img-fluid rounded-1 w-100\" alt=\"...\" width=\"250\" height=\"250\"/></figure>\\n                                        <div class=\"p-4 text-muted\">\\n                                            <h3 class=\"fw-bold h4 mb-1 text-dark\">Rankings</h3>\\n                                            <h4 class=\"h6 mb-3\">CUI&rsquo;s Rankings &amp; Reputation</h4><a href=\"AboutUs.aspx\" class=\"btn btn-primary fw-bold pb-2 pe-4 ps-4 pt-2\">View Details</a>\\n                                        </div>                                         \\n                                    </div>                                     \\n                                </div>\\n                                <div> \\n                                    <div class=\"bg-white rounded\"> \\n                                        <figure><img src=\"img/graduate_output.JPG\" class=\"img-fluid rounded-1 w-100\" alt=\"...\" width=\"250\" height=\"250\"/></figure>\\n                                        <div class=\"p-4 text-muted\">\\n                                            <h3 class=\"fw-bold h4 mb-1 text-dark\">Graduate Output</h3>\\n                                            <h4 class=\"h6 mb-3\">Total number of Graduates</h4><a href=\"GraduatesOutput.aspx\" class=\"btn btn-primary fw-bold pb-2 pe-4 ps-4 pt-2\">View Details</a>\\n                                        </div>                                         \\n                                    </div>                                     \\n                                </div>                                 \\n                            </div>\\n                            <div class=\"gy-4 justify-content-center mt-1 row row-cols-lg-3 row-cols-md-2 hover06\"> \\n                                <div> \\n                                    <div class=\"bg-white rounded\"> \\n                                        <figure><img src=\"img/telephone.jpg\" class=\"img-fluid rounded-1 w-100\" alt=\"...\" width=\"250\" height=\"250\"/></figure>\\n                                        <div class=\"p-4 text-muted\">\\n                                            <h3 class=\"fw-bold h4 mb-1 text-dark\">Telephone Directory</h3>\\n                                            <h4 class=\"h6 mb-3\">Online Telephone Directory</h4><a href=\"http://ww2.comsats.edu.pk/telephonedirectory/\" target=\"_blank\" class=\"btn btn-primary fw-bold pb-2 pe-4 ps-4 pt-2\">View Details</a>\\n                                        </div>                                         \\n                                    </div>                                     \\n                                </div>\\n                                <div> \\n                                    <div class=\"bg-white rounded\"> \\n                                        <figure><img src=\"img/tender.jpg\" class=\"img-fluid rounded-1 w-100\" alt=\"...\" width=\"250\" height=\"250\"/></figure>\\n                                        <div class=\"p-4 text-muted\">\\n                                            <h3 class=\"fw-bold h4 mb-1 text-dark\">Tenders</h3>\\n                                            <h4 class=\"h6 mb-3\">Advertisements and Tenders</h4><a href=\"http://ww2.comsats.edu.pk/ro/Advertisements.aspx\" target=\"_blank\" class=\"btn btn-primary fw-bold pb-2 pe-4 ps-4 pt-2\">View Details</a>\\n                                        </div>                                         \\n                                    </div>                                     \\n                                </div>\\n                                <div> \\n                                    <div class=\"bg-white rounded\"> \\n                                        <figure><img src=\"img/download.jpg\" class=\"img-fluid rounded-1 w-100\" alt=\"...\" width=\"250\" height=\"250\"/></figure>\\n                                        <div class=\"p-4 text-muted\">\\n                                            <h3 class=\"fw-bold h4 mb-1 text-dark\">Downloads</h3>\\n                                            <h4 class=\"h6 mb-3\">Download Important Documents</h4><a href=\"#\" data-bs-toggle=\"modal\" data-bs-target=\"#downloadModal\" class=\"btn btn-primary fw-bold pb-2 pe-4 ps-4 pt-2\">View Details</a>\\n                                        </div>                                         \\n                                    </div>                                     \\n                                </div>                                 \\n                            </div>                             \\n                        </div>                         \\n                    </div>                     \\n                </div>\\n            </section>\\n<!-- Modal -->\\r\\n<div class=\"modal fade\" id=\"downloadModal\" tabindex=\"-1\" aria-labelledby=\"downloadModalLabel\" aria-hidden=\"true\">\\r\\n  <div class=\"modal-dialog modal-lg\">\\r\\n    <div class=\"modal-content\">\\r\\n      <!-- Modal Header -->\\r\\n      <div class=\"modal-header\">\\r\\n        <h4 class=\"modal-title text-dark\">Downloads</h4>\\r\\n        <button type=\"button\" class=\"close\" data-bs-dismiss=\"modal\">&times;</button>\\r\\n      </div>\\r\\n\\r\\n      <!-- Modal body -->\\r\\n      <div class=\"modal-body\">\\r\\n       <div class=\"row\">\\r\\n       <div class=\"col-sm-12 col-lg-6 col-md-6\">\\r\\n           <ul style=\"list-style:none;\">\\r\\n               <li><h4 class=\"text-dark\">Harassment Committee and Harassment Rules</h4></li>\\r\\n               <li><a href=\"NEFiles/Notification-01-(2022).pdf\" target=\"_blank\" ><i class=\"fa fa-arrow-right size-14\"></i> Notification 01 (2022)</a></li>\\r\\n               <li><a href=\"NEFiles/Rules-regarding-Hrassment-Sexual-Harassment-and-Abuse-of-Authority-2009.pdf\" target=\"_blank\" ><i class=\"fa fa-arrow-right size-14\"></i> Rules regarding Hrassment Sexual Harassment and Abuse of Authority 2009</a></li>\\r\\n               <li><a href=\"NEFiles/SEXUALHARASSMENT-POLICY-HEC.pdf\" target=\"_blank\" ><i class=\"fa fa-arrow-right size-14\"></i> SEXUAL HARASSMENT POLICY HEC</a></li>\\r\\n               <li><a href=\"NEFiles/women-protection-bill-2010.pdf\" target=\"_blank\" ><i class=\"fa fa-arrow-right size-14\"></i> Women Protection Bill 2010</a></li>\\r\\n           </ul>\\r\\n           <hr />\\r\\n<ul style=\"list-style:none;\" id=\"downloads\">\\r\\n    <li><a href=\"NEFiles/SoPs-for-Degree-Verification-Process-Updated10-03-2022.pdf\" target=\"_blank\" ><i class=\"fa fa-arrow-right size-14\"></i> SoPs for Degree Verification Process</a></li>\\r\\n            <li><a href=\"NEFiles/CUI-Campus-Director(s)-and-Pro-Rector(s)-Appointment-Application-Form-with-Self-Assesment-proforma.docx\" target=\"_blank\" ><i class=\"fa fa-arrow-right size-14\"></i>  CUI Campus Director(s) and Pro-Rector(s) Appointment Application Form</a></li>\\r\\n    <li><a href=\"NEFiles/CUI-Registrar-Appointment-Application-Form.docx\" target=\"_blank\" ><i class=\"fa fa-arrow-right size-14\"></i>  CUI Registrar Appointment Application Form</a></li>\\r\\n    <li><a href=\"NEFiles/CUI-Registrar-Appointment-Application-Form.docx\" target=\"_blank\" ><i class=\"fa fa-arrow-right size-14\"></i>  CUI Controller of Examinations Appointment Application Form</a></li>\\r\\n        \\r\\n    \\r\\n    <li><a href=\"http://ww2.comsats.edu.pk/scholarships/Files/Invitation-of-Applications-for-QH.docx\" target=\"_blank\" ><i class=\"fa fa-arrow-right size-14\"></i>  Invitation for Qarz e Hasna FALL 2017</a></li>\\r\\n\\r\\n<li><a href=\"http://ww2.comsats.edu.pk/scholarships/Files/QARZ-E-Hasana-Form.docx\" target=\"_blank\"><i class=\"fa fa-arrow-right size-14\"></i>  Qarz e Hasna Form for FALL 2017</a></li>\\r\\n    <li><a href=\"http://ww2.comsats.edu.pk/ro/GraduateForms.aspx\" target=\"_blank\" ><i class=\"fa fa-arrow-right size-14\"></i>  Graduate Students Application Forms</a></li>\\r\\n<li><a href=\"http://ww2.comsats.edu.pk/ciitblogs/files2/Coaching-Registration-Form.doc\" target=\"_blank\"><i class=\"fa fa-arrow-right size-14\"></i>  Summer Cricket Coaching Camp - Registration Form</a></li>\\r\\n<li><a href=\"http://www.comsats.edu.pk/NEFIles/Flowers Valley in Sky Garden Islamabad.doc\" target=\"_blank\"><i class=\"fa fa-arrow-right size-14\"></i>  CEHF - Flowers Valley in Sky Garden Islamabad</a></li>\\r\\n<li><a href=\"/NEFiles/eligibilitycriteria.pdf\" target=\"_blank\"><i class=\"fa fa-arrow-right size-14\"></i>  Eligibility Criteria - Faculty Positions</a></li>\\r\\n    <li><a href=\"/NEFiles/ADEligibilityCriteria.pdf\" target=\"_blank\"><i class=\"fa fa-arrow-right size-14\"></i>  Eligibility Criteria - (Art & Design)</a></li>\\r\\n    <li><a href=\"/NEFiles/Eligibility-Criteria-for-Different-Positions.xlsx\" target=\"_blank\"><i class=\"fa fa-arrow-right size-14\"></i>  Eligibility Criteria - Non-Faculty Positions</a></li>\\r\\n<li><a href=\"/NEFiles/Images/Tender Application Form.doc\" target=\"_blank\"><i class=\"fa fa-arrow-right size-14\"></i>  Tender Application Form</a></li>\\r\\n<li><a href=\"http://ww2.comsats.edu.pk/ciitblogs/BlogsDetailsOuter.aspx?ArticleId=247\" ><i class=\"fa fa-arrow-right size-14\"></i>  CEHF Documents</a></li>\\r\\n\\r\\n</ul>\\r\\n    </div>\\r\\n<div class=\"col-sm-12 col-lg-6 col-md-6\">\\r\\n    <ul style=\"list-style:none;\">\\r\\n    <li><a href=\"#\" >  <h4 class=\"text-dark\">Job Application Form</h4></a>\\r\\n   \\r\\n        <li><a href=\"/NEFiles/Faculty_Job_Application_Form_130415.doc\" target=\"_blank\"><i class=\"fa fa-arrow-right size-14\"></i> Ms Word Format - For Faculty</a></li>\\r\\n<li><a href=\"/NEFiles/Faculty_Job_Application_Form_130415.pdf\" target=\"_blank\"><i class=\"fa fa-arrow-right size-14\"></i> PDF Format - For Faculty</a></li>\\r\\n<li><a href=\"/NEFiles/NON_faculty_job_application_form.pdf\" target=\"_blank\"><i class=\"fa fa-arrow-right size-14\"></i> PDF Format - For Non-Faculty</a></li>\\r\\n\\r\\n    </ul>\\r\\n    <hr />\\r\\n<ul style=\"list-style:none;\">\\r\\n<li><a href=\"http://islamabad.comsats.edu.pk/ApplicationForm/Nomination%20Form%20BFGI_2011.pdf\" ><i class=\"fa fa-arrow-right size-14\"></i>  BF&GI Nomination Form </a></li>\\r\\n<li><a href=\"http://islamabad.comsats.edu.pk/ApplicationForm/Nomination%20Form%20CPF_2011.pdf\" ><i class=\"fa fa-arrow-right size-14\"></i>  CPF Nomination form </a></li>\\r\\n\\r\\n<li><a href=\"/NEFiles/Images/Nomination Form GPF_2011.pdf\" target=\"_blank\"><i class=\"fa fa-arrow-right size-14\"></i>  GPF Nomination form</a></li>\\r\\n<li><a href=\"/NEFiles/Images/Nomination_Form Pension_2011.pdf\" target=\"_blank\"><i class=\"fa fa-arrow-right size-14\"></i> Pension Nomination Form</a></li>\\r\\n<li><a href=\"/NEFiles/Images/COMPLAINT_FORM.pdf\" target=\"_blank\"><i class=\"fa fa-arrow-right size-14\"></i> Complaint Form</a></li>\\r\\n</ul>\\r\\n        </div></div>\\r\\n      </div>\\r\\n\\r\\n      <div class=\"modal-footer\">\\r\\n        <button type=\"button\" class=\"btn btn-secondary\" data-bs-dismiss=\"modal\">Close</button>\\r\\n        \\r\\n      </div>\\r\\n    </div>\\r\\n  </div>\\r\\n</div>\\r\\n    \\r\\n<section class=\"background-cover jarallax pb-5 pt-5\" style=\"background-image:url(\\'img/main.jpg\\');\"> \\n                <div class=\"container-fluid\"> \\n                    <div class=\"align-items-center pb-3 pt-4 row\"> \\n                        <div class=\"col-lg-12 text-center\"> \\n                            <h3 class=\"fw-bold h1 mb-3 pb-4 text-white\">Video Gallery</h3> \\n                        </div>                         \\n                        <div id=\"nv\"> \\n                            <div class=\"container\"> \\n                                <div class=\"row\">\\n                                    <div class=\"container\"> \\n                                        <div class=\"row\"> \\n                                            <div class=\"col-md-4\"> \\n                                                <div class=\"thumbnail\"> <a data-fancybox=\"video-gallery\" href=\"https://www.youtube.com/embed/k3fKsa_5-H8\"><img src=\"img/conv2022.jpg\" class=\"img-fluid\"/></a> \\n                                                </div>                                                 \\n                                            </div>                                             \\n                                            <div class=\"col-md-4\"> \\n                                                <div class=\"thumbnail\"> <a data-fancybox=\"video-gallery\" href=\"https://www.youtube.com/embed/Zi98PWr48u0\"><img src=\"img/ideas.jpg\" class=\"img-fluid\"/></a> \\n                                                </div>                                                 \\n                                            </div>\\n                                            <div class=\"col-md-4\"> \\n                                                <div class=\"thumbnail\"> <a data-fancybox=\"video-gallery\" href=\"https://www.youtube.com/embed/kGzmIXsvu8k\"><img src=\"img/library.jpg\" class=\"img-fluid\"/></a> \\n                                                </div>                                                 \\n                                            </div>                                             \\n                                        </div>                                         \\n                                    </div>                                     \\n                                </div>                                 \\n                            </div>                             \\n                        </div>                         \\n                    </div>\\n                    <div class=\"align-items-center pb-3 pt-4 row\"> \\n                        <div class=\"col-lg-12 text-center\"><a href=\"\" class=\"btn btn-lg btn-primary fw-bold\">View More</a> \\n                        </div>                         \\n                    </div>                     \\n                </div>                 \\n            </section>\\r\\n    \\r\\n<section class=\"bg-light pb-5 pt-5 text-center\"> \\n                <div class=\"container pb-3 pt-3\"> \\n                    <div class=\"row\"> \\n                        <div class=\"col-lg-9 me-auto ms-auto\"> \\n                            <div id=\"carousel2\" class=\"carousel slide\" data-bs-ride=\"carousel\"> \\n                                <div class=\"carousel-inner\"> \\n                                    <div class=\"carousel-item active\"> \\n                                        <img src=\"assets/img/Abuelgasim%20Ibrahim%20Idriss%20Musa.jpg\" class=\"mb-3 rounded rounded-circle\"/> \\n                                        <h3 class=\"mb-3\">CUI is home to students from all over the world; with its great academic programs, supportive faculty, staff and social environment. CUI has given me confidence and taught me to never stop yearning for knowledge. I have become an independent individual and am equipped with skills necessary to be positive and confident to face the social world ahead of me. Thanks CUI and Thanks Pakistan.</h3> \\n                                        <div class=\"\"> <span>Sudanese Alumnus -</span> <span class=\"text-primary\">Abuelgasim Ibrahim Idriss Musa</span> \\n                                        </div>                                         \\n                                    </div>                                     \\n                                    <div class=\"carousel-item\"> \\n                                        <img src=\"assets/img/Essa_1.jpg\" class=\"mb-3 rounded-circle\"/> \\n                                        <h3 class=\"mb-3\">Unlike the image portrayed abroad, Pakistan is a very safe place to live and study. Pakistanis love foreigners and have always made me feel at home. I would definitely recommend CUI to other prospective students.</h3> \\n                                        <div class=\"\"> <span>Palestinian Alumnus -</span> <span class=\"text-primary\">Essa M. I. Elhamalawia</span> \\n                                        </div>                                         \\n                                    </div>                                     \\n                                    <div class=\"carousel-item\"> \\n                                        <img src=\"assets/img/Haneen%20Anwar.jpg\" class=\"mb-3 rounded-circle\"/> \\n                                        <h3 class=\"mb-3\">I was in search of a scholarship to fund my education and was privileged to receive the very competitive Association of Commonwealth Universities (ACU) scholarship to study at CUI. This opportunity to studying molecular biology has given me the rare chance of contributing towards research on diseases that will hopefully help improve lives.</h3> \\n                                        <div class=\"\"> <span>Jordanian Alumna -</span> <span class=\"text-primary\">Haneen Anwar</span> \\n                                        </div>                                         \\n                                    </div>                                     \\n                                    <div class=\"carousel-item\"> \\n                                        <img src=\"assets/img/Rumeng HE.jpg\" class=\"mb-3 rounded-circle\"/> \\n                                        <h3 class=\"mb-3\">My experience can simply be described as amazing and fulfilling. Studying in such a serene and comfortable environment under the tutelage of professors greatly helped my academic pursuit. Hence, I look forward to a future academic engagement with CUI again. </h3> \\n                                        <div class=\"\"> <span>Chinese Alumna -</span> <span class=\"text-primary\">Rumeng HE</span> \\n                                        </div>                                         \\n                                    </div>                                     \\n                                </div>                                 \\n                                <ol class=\"carousel-indicators mt-4 position-relative\"> \\n                                    <li data-bs-target=\"#carousel2\" data-bs-slide-to=\"0\" class=\"active bg-primary\"></li>                                     \\n                                    <li data-bs-target=\"#carousel2\" data-bs-slide-to=\"1\" class=\"bg-primary\"></li>                                     \\n                                    <li data-bs-target=\"#carousel2\" data-bs-slide-to=\"2\" class=\"bg-primary\"></li>                                     \\n                                    <li data-bs-target=\"#carousel2\" data-bs-slide-to=\"3\" class=\"bg-primary\"></li>                                     \\n                                </ol>                                 \\n                            </div>                             \\n                        </div>                         \\n                    </div>                     \\n                </div>                 \\n            </section>\\r\\n\\r\\n    </div>\\r\\n        \\r\\n    <section class=\"bg-primary pb-5 pt-5 text-white-50\"> \\n                <div class=\"container pb-4 pt-4\"> \\n                    <div class=\"align-items-center gy-4 row\"> \\n                        <div class=\"col-lg-5 order-lg-last\"> \\n                            <img src=\"img/Fill%20in.png\" class=\"img-fluid\"/>\\n                        </div>\\n                        <div class=\"col-lg-7\"> \\n                            <h2 class=\"fw-bold text-white animate-charcter\">Join One of Our Amazing Campuses</h2>\\n                            <p class=\"fw-bold mb-4\">CUI is vigorously involved in sharing expertise and knowledge from all over the world, with the aim of introducing latest developments in research and best practices within the present education environment.</p>\\n                            <a href=\"http://admissions.comsats.edu.pk/\" target=\"_blank\"  class=\"btn btn-warning fw-bold pb-2 pe-4 ps-4 pt-2\">Apply Now!</a> \\n                        </div>                         \\n                    </div>                     \\n                </div>                 \\n            </section>    \\r\\n        \\r\\n<footer class=\"bg-dark pt-5 text-white-50\"> \\n                <div class=\"container\"> \\n                    <div class=\"align-items-center gy-3 row\"> \\n                        <div class=\"col-md\"> <a class=\"align-items-center d-inline-flex fw-bold h2 lh-1 link-light mb-0 text-decoration-none text-uppercase\" href=\"#\"> <img src=\"img/comsats_footer.png\"/></a> \\n                        </div>                         \\n                        <div class=\"col-md-auto\"> \\n                            <div class=\"d-inline-flex flex-wrap gap-2\"> <a href=\"https://www.facebook.com/cuiofficial\" aria-label=\"facebook\" class=\"btn btn-primary lh-1 p-2\"> <svg viewBox=\"0 0 24 24\" fill=\"currentColor\" width=\"20\" height=\"20\"> \\n                                        <path d=\"M14 13.5h2.5l1-4H14v-2c0-1.03 0-2 2-2h1.5V2.14c-.326-.043-1.557-.14-2.857-.14C11.928 2 10 3.657 10 6.7v2.8H7v4h3V22h4v-8.5z\"/> \\n                                    </svg> </a> <a href=\"https://twitter.com/CUIofficial\" aria-label=\"twitter\" class=\"btn btn-primary lh-1 p-2\"> <svg viewBox=\"0 0 24 24\" fill=\"currentColor\" width=\"20\" height=\"20\"> \\n                                        <path d=\"M22.162 5.656a8.384 8.384 0 0 1-2.402.658A4.196 4.196 0 0 0 21.6 4c-.82.488-1.719.83-2.656 1.015a4.182 4.182 0 0 0-7.126 3.814 11.874 11.874 0 0 1-8.62-4.37 4.168 4.168 0 0 0-.566 2.103c0 1.45.738 2.731 1.86 3.481a4.168 4.168 0 0 1-1.894-.523v.052a4.185 4.185 0 0 0 3.355 4.101 4.21 4.21 0 0 1-1.89.072A4.185 4.185 0 0 0 7.97 16.65a8.394 8.394 0 0 1-6.191 1.732 11.83 11.83 0 0 0 6.41 1.88c7.693 0 11.9-6.373 11.9-11.9 0-.18-.005-.362-.013-.54a8.496 8.496 0 0 0 2.087-2.165z\"/> \\n                                    </svg> </a> <a href=\"https://www.instagram.com/cuinews\" aria-label=\"instagram\" class=\"btn btn-primary lh-1 p-2\"> <svg viewBox=\"0 0 24 24\" fill=\"currentColor\" width=\"20\" height=\"20\"> \\n                                        <path d=\"M12 2c2.717 0 3.056.01 4.122.06 1.065.05 1.79.217 2.428.465.66.254 1.216.598 1.772 1.153a4.908 4.908 0 0 1 1.153 1.772c.247.637.415 1.363.465 2.428.047 1.066.06 1.405.06 4.122 0 2.717-.01 3.056-.06 4.122-.05 1.065-.218 1.79-.465 2.428a4.883 4.883 0 0 1-1.153 1.772 4.915 4.915 0 0 1-1.772 1.153c-.637.247-1.363.415-2.428.465-1.066.047-1.405.06-4.122.06-2.717 0-3.056-.01-4.122-.06-1.065-.05-1.79-.218-2.428-.465a4.89 4.89 0 0 1-1.772-1.153 4.904 4.904 0 0 1-1.153-1.772c-.248-.637-.415-1.363-.465-2.428C2.013 15.056 2 14.717 2 12c0-2.717.01-3.056.06-4.122.05-1.066.217-1.79.465-2.428a4.88 4.88 0 0 1 1.153-1.772A4.897 4.897 0 0 1 5.45 2.525c.638-.248 1.362-.415 2.428-.465C8.944 2.013 9.283 2 12 2zm0 5a5 5 0 1 0 0 10 5 5 0 0 0 0-10zm6.5-.25a1.25 1.25 0 0 0-2.5 0 1.25 1.25 0 0 0 2.5 0zM12 9a3 3 0 1 1 0 6 3 3 0 0 1 0-6z\"/> \\n                                    </svg> </a> <a href=\"http://ww2.comsats.edu.pk/ciitblogs\" aria-label=\"Blog\" class=\"btn btn-primary lh-1 p-2\"> <i class=\"fa-blog fas\"></i> </a> <a href=\"http://ww2.comsats.edu.pk/photogallery\" aria-label=\"Photo Gallery\" class=\"btn btn-primary lh-1 p-2\"> <svg xmlns=\"http://www.w3.org/2000/svg\" width=\"20\" height=\"20\" fill=\"currentColor\" class=\"bi bi-card-image\" viewBox=\"0 0 16 16\">\\n                                        <path d=\"M6.002 5.5a1.5 1.5 0 1 1-3 0 1.5 1.5 0 0 1 3 0z\"/>\\n                                        <path d=\"M1.5 2A1.5 1.5 0 0 0 0 3.5v9A1.5 1.5 0 0 0 1.5 14h13a1.5 1.5 0 0 0 1.5-1.5v-9A1.5 1.5 0 0 0 14.5 2h-13zm13 1a.5.5 0 0 1 .5.5v6l-3.775-1.947a.5.5 0 0 0-.577.093l-3.71 3.71-2.66-1.772a.5.5 0 0 0-.63.062L1.002 12v.54A.505.505 0 0 1 1 12.5v-9a.5.5 0 0 1 .5-.5h13z\"/>\\n                                    </svg> </a> \\n                            </div>                             \\n                        </div>                         \\n                    </div>                     \\n                    <hr class=\"mb-4 mt-4\"/>\\n                    <div class=\"row\"> \\n                        <div class=\"col-lg-8 py-3\">\\n                            <h2 class=\"fw-bold h5 mb-4 text-warning\">Quick Links</h2>\\n                            <div class=\"row animfooter\">\\n                                <div class=\"col-sm-3\">\\n                                    <ul class=\"list-unstyled\"> \\n                                                                                 \\n                                        <li class=\"mb-3\"> <a href=\"http://comsats.edu.pk/NEFiles/SoPs-for-Degree-Verification-Process-Updated10-03-2022.pdf\" target=\"_blank\" class=\"link-light text-decoration-none\">SoPs for Degree Verification Process</a> \\n                                        </li>                                         \\n                                        <li class=\"mb-3\"> <a href=\"http://comsats.edu.pk/NEFiles/Agreement-on-Solar-Power-300KW.pdf\" target=\"_blank\" class=\"link-light text-decoration-none\">Agreement on Solar Power 300 KW</a> \\n                                        </li>\\n                                        <li class=\"mb-3\"> <a href=\"http://comsats.edu.pk/NEFiles/Agreement-on-SSC.pdf\" target=\"_blank\" class=\"link-light text-decoration-none\">Agreement on SSC</a> \\n                                        </li>\\n                                        <li class=\"mb-3\"> <a href=\"http://ww2.comsats.edu.pk/pollensonline/\" target=\"_blank\" class=\"link-light text-decoration-none\">Pollens Online</a> \\n                                        </li>                                         \\n                                        <li class=\"mb-3\"> <a href=\"http://ww2.comsats.edu.pk/cisco\" target=\"_blank\" class=\"link-light text-decoration-none\">Cisco Academy</a> \\n                                        </li>                                         \\n                                    </ul>\\n                                </div>\\n                                <div class=\"col-sm-3\">\\n                                    <ul class=\"list-unstyled\"> \\n                                        <li class=\"mb-3\"> <a href=\"https://www.comsats.edu.pk/NEFiles/Notification-Revised_Graduate_Calendar.pdf\" target=\"_blank\" class=\"link-light text-decoration-none\">Revised Graduate Calendar</a> \\n                                        </li>\\n                                        <li class=\"mb-3\"> <a href=\"https://www.comsats.edu.pk/NEFiles/Notification-Revised_Undergraduate_Calendar.pdf\" target=\"_blank\" class=\"link-light text-decoration-none\">Revised Undergraduate Calendar</a> \\n                                        </li>\\n                                        <li class=\"mb-3\"> <a href=\"http://ww2.comsats.edu.pk/ciitnews/\" target=\"_blank\" class=\"link-light text-decoration-none\">News Portal</a> \\n                                        </li>                                         \\n                                        <li class=\"mb-3\"> <a href=\"http://ww2.comsats.edu.pk/cag\" target=\"_blank\" class=\"link-light text-decoration-none\">Comsats Art Gallery</a> \\n                                        </li>                                         \\n                                        <li class=\"mb-3\"> <a href=\"http://mappk.org/\" target=\"_blank\" class=\"link-light text-decoration-none\">MAPP</a> \\n                                        </li>                                         \\n                                                                               \\n                                    </ul>\\n                                </div>\\n                                <div class=\"col-sm-3\">\\n                                    <ul class=\"list-unstyled\"> \\n                                        <li class=\"mb-3\"> <a href=\"http://comsats.edu.pk/NEFiles/NON_faculty_job_application_form.pdf\" target=\"_blank\" class=\"link-light text-decoration-none\">Job Application Form Non-Faculty</a> \\n                                        </li>                                         \\n                                        <li class=\"mb-3\"> <a href=\"https://www.comsats.edu.pk/nefiles/eligibilitycriteria_nonfacultyposition.pdf\" target=\"_blank\" class=\"link-light text-decoration-none\">Eligibility Criteria (Non Faculty)</a> \\n                                        </li>\\n                                        <li class=\"mb-3\"> <a href=\"https://www.comsats.edu.pk/NEFiles/eligibilitycriteria.pdf\" target=\"_blank\" class=\"link-light text-decoration-none\">Eligibility Criteria - Faculty</a> \\n                                        </li>\\n                                        <li class=\"mb-3\"> <a href=\"AboutUs.aspx\" class=\"link-light text-decoration-none\">Rankings</a> \\n                                        </li>                                         \\n                                    </ul>\\n                                </div>\\n                                <div class=\"col-sm-3\">\\n                                    <ul class=\"list-unstyled\"> \\n                                        <li class=\"mb-3\"> <a href=\"qs_stars.aspx\" class=\"link-light text-decoration-none\">Qs Stars</a> \\n                                        </li>                                         \\n                                        <li class=\"mb-3\"> <a href=\"http://ww2.comsats.edu.pk/faculty/SearchByName.aspx\" class=\"link-light text-decoration-none\">Search Faculty & Staff</a> \\n                                        </li>\\n                                        <li class=\"mb-3\"> <a href=\"http://cuonline.comsats.edu.pk/publicaccess\" class=\"link-light text-decoration-none\">Course Catalogue</a> \\n                                        </li>\\n                                        <li class=\"mb-3\"> <a href=\"https://www.secp.gov.pk/media-center/guide-books/general-guide-books/\" class=\"link-light text-decoration-none\">Access to SECP Guidebook</a> \\n                                        </li> \\n                                         <li class=\"mb-3\"> <a href=\"awards.aspx\" class=\"link-light text-decoration-none\">Awards</a> \\n                                        </li> \\n                                    </ul>\\n                                </div>\\n                            </div>\\n                        </div>                         \\n                        <div class=\"col-lg-4 py-3\">\\n                            <iframe src=\"https://www.google.com/maps/embed?pb=!1m14!1m8!1m3!1d13284.823618856048!2d73.1565933!3d33.6518263!3m2!1i1024!2i768!4f13.1!3m3!1m2!1s0x0%3A0xe6b55e05d462beb1!2sCOMSATS+Institute+of+Information+Technology!5e0!3m2!1sen!2s!4v1440748016287\" width=\"100%\" height=\"300\" frameborder=\"0\" style=\"border: 0; border-radius: 10px 10PX 10px 10px;\" allowfullscreen></iframe>                             \\n                        </div>                         \\n                    </div>\\n                    <div class=\"pb-3 pt-3 small\"> \\n                        <hr class=\"mt-0 \"/> \\n                        <div class=\"align-items-center row\">\\n                            <div class=\"col-md pb-2 pt-2\">\\n                                <p class=\"mb-0\">&copy; 2023. All Rights Reserved - COMSATS University Islamabad</p>\\n                            </div>\\n                        </div>                         \\n                    </div>\\n                </div>                 \\n            </footer>\\r\\n    </form>\\r\\n         </main>\\r\\n            <script src=\"assets/js/popper.min.js\"></script>\\n        <script src=\"bootstrap/js/bootstrap.min.js\"></script>\\n        <script src=\"pgia/lib/pgia.js\"></script>\\n        <script src=\"assets/js/jquery-3.3.1.min.js\"></script>\\n        <script src=\"assets/js/jquery.scrollbar.min.js\"></script>\\n    \\n        <script src=\"https://cdnjs.cloudflare.com/ajax/libs/fancybox/3.0.47/jquery.fancybox.min.js\"></script>\\n        <script src=\"assets/js/index.js\"></script>\\n    <script src=\"https://unpkg.com/jarallax@2.0\"></script>\\r\\n        <script src=\"https://unpkg.com/jarallax@2.0/dist/jarallax-video.min.js\"></script>\\r\\n        <script>\\r\\n            jarallax(document.querySelectorAll(\\'.jarallax\\'), {\\r\\n                speed: 0.2\\r\\n            });\\r\\n        </script>\\n        <script>\\n      jQuery(document).ready(function(){\\n    jQuery(\\'.scrollbar-dynamic\\').scrollbar();\\n});\\n    </script>\\n        <script>\\n    var tooltipTriggerList = [].slice.call(document.querySelectorAll(\\'[data-bs-toggle=\"tooltip\"]\\'))\\nvar tooltipList = tooltipTriggerList.map(function (tooltipTriggerEl) {\\n    return new bootstrap.Tooltip(tooltipTriggerEl)\\n})\\n</script>\\n        <script>\\n    var tooltipTriggerList = [].slice.call(document.querySelectorAll(\\'[data-bs-toggle=\"tooltip\"]\\'))\\nvar tooltipList = tooltipTriggerList.map(function (tooltipTriggerEl) {\\n    return new bootstrap.Tooltip(tooltipTriggerEl)\\n})\\n</script>\\n        <script src=\"https://cdn.jsdelivr.net/npm/masonry-layout@4.2.2/dist/masonry.pkgd.min.js\" integrity=\"sha384-GNFwBvfVxBkLMJpYMOABq3c+d3KnQxudP/mGPkzpZSTYykLBNsZEnG2D9G/X/+7D\" crossorigin=\"anonymous\" async></script>\\n    <script>\\r\\n$(document).ready(function(){\\r\\n  // Show the Modal on load\\r\\n  $(\"#myModal\").modal(\"show\");\\r\\n    \\r\\n  // Hide the Modal\\r\\n  $(\"#tBtn\").click(function(){\\r\\n    $(\"#tModal\").modal(\"hide\");\\r\\n  });\\r\\n});\\r\\n</script>\\r\\n    <!-- The Modal -->\\r\\n      \\r\\n</body>\\r\\n</html>\\r\\n'"
            ]
          },
          "metadata": {},
          "execution_count": 14
        }
      ]
    },
    {
      "cell_type": "code",
      "source": [
        " # Parse the HTML content of the page\n",
        " soup = BeautifulSoup(urldata.content, 'html.parser')"
      ],
      "metadata": {
        "id": "EyE2hJr9KVNP"
      },
      "execution_count": 15,
      "outputs": []
    },
    {
      "cell_type": "code",
      "source": [
        "soup"
      ],
      "metadata": {
        "colab": {
          "base_uri": "https://localhost:8080/"
        },
        "id": "So8QmKJeKwVO",
        "outputId": "5714d0a3-3e8b-4335-ac68-656b1dd94105"
      },
      "execution_count": 16,
      "outputs": [
        {
          "output_type": "execute_result",
          "data": {
            "text/plain": [
              "\n",
              "<!DOCTYPE html>\n",
              "\n",
              "<html>\n",
              "<head><meta charset=\"utf-8\"/><meta content=\"IE=edge\" http-equiv=\"X-UA-Compatible\"/><meta content=\"width=device-width, initial-scale=1, shrink-to-fit=no\" name=\"viewport\"/><meta name=\"description\"/><meta content=\"COMSATS University Islamabad\" name=\"author\"/><meta content=\"HTML, CSS, JavaScript\" name=\"keywords\"/>\n",
              "<!-- Bootstrap core CSS -->\n",
              "<link href=\"bootstrap_theme/bootstrap.css\" rel=\"stylesheet\" type=\"text/css\"/>\n",
              "<!-- Custom styles for this template -->\n",
              "<link href=\"blocks.css\" rel=\"stylesheet\"/><link href=\"pgia/components/controls.css\" rel=\"stylesheet\"/><link href=\"pgia/components/presentation.css\" rel=\"stylesheet\"/><link href=\"pgia/components/slider.css\" rel=\"stylesheet\"/><link href=\"style.css\" rel=\"stylesheet\"/><link href=\"assets/css/jquery.scrollbar.css\" rel=\"stylesheet\"/><link href=\"assets/css/all.css\" rel=\"stylesheet\"/><link href=\"https://cdnjs.cloudflare.com/ajax/libs/fancybox/3.0.47/jquery.fancybox.min.css\" rel=\"stylesheet\"/><title>\n",
              "\tCOMSATS University Islamabad\n",
              "</title>\n",
              "<script>/* Pinegrow Interactions, do not remove */ (function(){try{if(!document.documentElement.hasAttribute('data-pg-ia-disabled')) { window.pgia_small_mq=typeof pgia_small_mq=='string'?pgia_small_mq:'(max-width:767px)';window.pgia_large_mq=typeof pgia_large_mq=='string'?pgia_large_mq:'(min-width:768px)';var style = document.createElement('style');var pgcss='html:not(.pg-ia-no-preview) [data-pg-ia-hide=\"\"] {opacity:0;visibility:hidden;}html:not(.pg-ia-no-preview) [data-pg-ia-show=\"\"] {opacity:1;visibility:visible;display:block;}';if(document.documentElement.hasAttribute('data-pg-id') && document.documentElement.hasAttribute('data-pg-mobile')) {pgia_small_mq='(min-width:0)';pgia_large_mq='(min-width:99999px)'} pgcss+='@media ' + pgia_small_mq + '{ html:not(.pg-ia-no-preview) [data-pg-ia-hide=\"mobile\"] {opacity:0;visibility:hidden;}html:not(.pg-ia-no-preview) [data-pg-ia-show=\"mobile\"] {opacity:1;visibility:visible;display:block;}}';pgcss+='@media ' + pgia_large_mq + '{html:not(.pg-ia-no-preview) [data-pg-ia-hide=\"desktop\"] {opacity:0;visibility:hidden;}html:not(.pg-ia-no-preview) [data-pg-ia-show=\"desktop\"] {opacity:1;visibility:visible;display:block;}}';style.innerHTML=pgcss;document.querySelector('head').appendChild(style);}}catch(e){console&&console.log(e);}})()</script>\n",
              "<script>\n",
              "        (function (i, s, o, g, r, a, m) {\n",
              "            i['GoogleAnalyticsObject'] = r; i[r] = i[r] || function () {\n",
              "                (i[r].q = i[r].q || []).push(arguments)\n",
              "            }, i[r].l = 1 * new Date(); a = s.createElement(o),\n",
              "            m = s.getElementsByTagName(o)[0]; a.async = 1; a.src = g; m.parentNode.insertBefore(a, m)\n",
              "        })(window, document, 'script', 'https://www.google-analytics.com/analytics.js', 'ga');\n",
              "\n",
              "        ga('create', 'UA-105395983-1', 'auto');\n",
              "        ga('send', 'pageview');\n",
              "\n",
              "</script>\n",
              "</head>\n",
              "<body class=\"text-muted\">\n",
              "<header class=\"bg-white\">\n",
              "<div class=\"navbar-light\">\n",
              "<div class=\"container-fluid\">\n",
              "<div class=\"align-items-center gx-2 py-1 row\">\n",
              "<div class=\"col\"> <a class=\"align-items-center d-inline-flex fw-bold h4 mb-0 navbar-brand text-uppercase\" href=\"Default.aspx\"> <img src=\"img/comsats.png\"/></a>\n",
              "</div>\n",
              "<div class=\"col-auto\">\n",
              "<div class=\"align-items-center d-inline-flex gap-2 gap-lg-3 py-1\"> <a class=\"align-items-center d-inline-flex gap-2 lh-1 text-decoration-none\" href=\"http://ww2.comsats.edu.pk/faculty/FacultyAtoZ.aspx\" target=\"_blank\"> <span class=\"bg-primary lh-1 p-2 rounded text-white\"> <svg fill=\"currentColor\" height=\"1.25em\" viewbox=\"0 0 24 24\" width=\"1.25em\" xmlns=\"http://www.w3.org/2000/svg\">\n",
              "<g>\n",
              "<path d=\"M0 0h24v24H0z\" fill=\"none\"></path>\n",
              "<path d=\"M12 14v2a6 6 0 0 0-6 6H4a8 8 0 0 1 8-8zm0-1c-3.315 0-6-2.685-6-6s2.685-6 6-6 6 2.685 6 6-2.685 6-6 6zm0-2c2.21 0 4-1.79 4-4s-1.79-4-4-4-4 1.79-4 4 1.79 4 4 4zm9.446 9.032l1.504 1.504-1.414 1.414-1.504-1.504a4 4 0 1 1 1.414-1.414zM18 20a2 2 0 1 0 0-4 2 2 0 0 0 0 4z\"></path>\n",
              "</g>\n",
              "</svg> </span> <div class=\"d-lg-block d-none\">\n",
              "<div class=\"fw-bold mb-1 small text-black-50\">Search</div>\n",
              "<div class=\"fw-bold\">Faculty/Staff </div>\n",
              "</div> </a>\n",
              "<div class=\"dropdown\">\n",
              "<a aria-expanded=\"false\" class=\"align-items-center d-inline-flex gap-2 lh-1 text-decoration-none\" data-bs-toggle=\"dropdown\" href=\"#\" id=\"dropdownMenuLink1\"> <span class=\"bg-primary lh-1 p-2 rounded text-white\"> <svg fill=\"currentColor\" height=\"1.25em\" viewbox=\"0 0 24 24\" width=\"1.25em\" xmlns=\"http://www.w3.org/2000/svg\">\n",
              "<g>\n",
              "<path d=\"M0 0h24v24H0z\" fill=\"none\"></path>\n",
              "<path d=\"M10 10.111V1l11 6v14H3V7l7 3.111zm2-5.742v8.82l-7-3.111V19h14V8.187L12 4.37z\"></path>\n",
              "</g>\n",
              "</svg> </span> <div class=\"d-lg-block d-none\">\n",
              "<div class=\"fw-bold mb-1 small text-black-50\">CUI</div>\n",
              "<div class=\"fw-bold\">Statutory Information</div>\n",
              "</div> </a>\n",
              "<ul aria-labelledby=\"dropdownMenuLink1\" class=\"dropdown-menu\">\n",
              "<li><a class=\"dropdown-item\" href=\"rules/CUI-Employees-Time-Scale-Statutes-2022.pdf\" target=\"_blank\">CUI Employees Time Scale Statutes, 2022</a></li>\n",
              "<li><a class=\"dropdown-item\" href=\"rules/Notification-29.pdf\" target=\"_blank\">CUI Employees Promotion Statutes, 2022</a></li>\n",
              "<li><a class=\"dropdown-item\" href=\"rules/Notification-112.pdf\" target=\"_blank\">Statutes for Affiliation and Disaffiliation of Educational Institutions and <br/>Related Matters of COMSATS University Islamabad (CUI) - 2022</a></li>\n",
              "<li><a class=\"dropdown-item\" href=\"rules/CUI-Act.pdf\" target=\"_blank\">CUI Act - 2018</a></li>\n",
              "<li><a class=\"dropdown-item\" href=\"rules/Rules-of-Business-of-the-Meetings-of-CUI-Authorities-2018.pdf\" target=\"_blank\">Rules of Business of the Meetings of CUI Authorities - 2018</a></li>\n",
              "<li><a class=\"dropdown-item\" data-bs-target=\"#Modalstatutes\" data-bs-toggle=\"modal\" href=\"#\">Statutes of the Authorities, Committees, <br/>Principal Officers, and Teachers of CUI - 2019</a></li>\n",
              "</ul>\n",
              "</div>\n",
              "<a class=\"align-items-center d-inline-flex gap-2 lh-1 text-decoration-none\" href=\"elections.aspx\"> <span class=\"bg-primary lh-1 p-2 rounded text-white\"> <svg fill=\"currentColor\" height=\"1.25em\" viewbox=\"0 0 24 24\" width=\"1.25em\" xmlns=\"http://www.w3.org/2000/svg\">\n",
              "<g>\n",
              "<path d=\"M0 0h24v24H0z\" fill=\"none\"></path>\n",
              "<path d=\"M4 22a8 8 0 1 1 16 0H4zm9-5.917V20h4.659A6.009 6.009 0 0 0 13 16.083zM11 20v-3.917A6.009 6.009 0 0 0 6.341 20H11zm1-7c-3.315 0-6-2.685-6-6s2.685-6 6-6 6 2.685 6 6-2.685 6-6 6zm0-2c2.21 0 4-1.79 4-4s-1.79-4-4-4-4 1.79-4 4 1.79 4 4 4z\"></path>\n",
              "</g>\n",
              "</svg> </span> <div class=\"d-lg-block d-none\">\n",
              "<div class=\"fw-bold mb-1 small text-black-50\">Election for</div>\n",
              "<div class=\"fw-bold\">University Teachers</div>\n",
              "</div> </a>\n",
              "<div class=\"dropdown dropstart\">\n",
              "<a aria-expanded=\"false\" class=\"align-items-center d-inline-flex gap-2 lh-1 text-decoration-none\" data-bs-toggle=\"dropdown\" href=\"#\" id=\"dropdownMenuLink\"> <span class=\"bg-primary lh-1 p-2 rounded text-white\"> <svg fill=\"currentColor\" height=\"1.25em\" viewbox=\"0 0 24 24\" width=\"1.25em\" xmlns=\"http://www.w3.org/2000/svg\">\n",
              "<g>\n",
              "<path d=\"M0 0h24v24H0z\" fill=\"none\"></path>\n",
              "<path d=\"M1 22a8 8 0 1 1 16 0h-2a6 6 0 1 0-12 0H1zm8-9c-3.315 0-6-2.685-6-6s2.685-6 6-6 6 2.685 6 6-2.685 6-6 6zm0-2c2.21 0 4-1.79 4-4s-1.79-4-4-4-4 1.79-4 4 1.79 4 4 4zM21.548.784A13.942 13.942 0 0 1 23 7c0 2.233-.523 4.344-1.452 6.216l-1.645-1.196A11.955 11.955 0 0 0 21 7c0-1.792-.393-3.493-1.097-5.02L21.548.784zm-3.302 2.4A9.97 9.97 0 0 1 19 7a9.97 9.97 0 0 1-.754 3.816l-1.677-1.22A7.99 7.99 0 0 0 17 7a7.99 7.99 0 0 0-.43-2.596l1.676-1.22z\"></path>\n",
              "</g>\n",
              "</svg> </span> <div class=\"d-lg-block d-none\">\n",
              "<div class=\"fw-bold mb-1 small text-black-50\">CUI</div>\n",
              "<div class=\"fw-bold\">Complaint Cell</div>\n",
              "</div> </a>\n",
              "<ul aria-labelledby=\"dropdownMenuLink\" class=\"dropdown-menu\">\n",
              "<li><a class=\"dropdown-item\" data-bs-target=\"#Modalpension\" data-bs-toggle=\"modal\" href=\"#\">Pensioners Complaint Cell</a></li>\n",
              "<li><a class=\"dropdown-item\" href=\"http://complaints.mohtasib.gov.pk//Complaints/precomplaintRegistration.aspx?mohtasib=WMS&amp;agency\" target=\"_blank\">Online Complaint Registration</a></li>\n",
              "<li><a class=\"dropdown-item\" href=\"http://complaints.mohtasib.gov.pk/complaints/precomplaintstatus.aspx\" target=\"_blank\">Check Complaint Status</a></li>\n",
              "</ul>\n",
              "</div>\n",
              "</div>\n",
              "</div>\n",
              "<div class=\"col-auto\">\n",
              "<button aria-controls=\"navbarNavDropdown-2\" aria-expanded=\"false\" aria-label=\"Toggle navigation\" class=\"d-lg-none navbar-toggler\" data-bs-target=\"#navbarNavDropdown-2\" data-bs-toggle=\"collapse\" type=\"button\"> <span class=\"navbar-toggler-icon\"></span>\n",
              "</button>\n",
              "</div>\n",
              "</div>\n",
              "<hr class=\"m-0\"/>\n",
              "</div>\n",
              "</div>\n",
              "<nav class=\"bg-dark navbar navbar-dark navbar-expand-lg pb-0 pt-0\">\n",
              "<div class=\"container-fluid\">\n",
              "<div class=\"collapse navbar-collapse pb-1 pt-1\" id=\"navbarNavDropdown-2\">\n",
              "<ul class=\"me-auto navbar-nav\">\n",
              "<li class=\"fw-bold nav-item\"> <a class=\"link-dark nav-link p-lg-3 text-secondary\" href=\"AboutUs.aspx\"><i class=\"fa fa-info text-warning\"></i> About</a>\n",
              "</li>\n",
              "<li class=\"fw-bold nav-item\"> <a class=\"link-dark nav-link p-lg-3 text-secondary\" href=\"campuses.aspx\"><i class=\"fa fa-building text-warning\"></i> Campuses</a>\n",
              "</li>\n",
              "<li class=\"fw-bold nav-item\"> <a class=\"link-dark nav-link p-lg-3 text-secondary\" href=\"AcademicPrograms.aspx\"><i class=\"fa fa-angle-double-down text-warning\"></i> Academic Programs</a>\n",
              "</li>\n",
              "<li class=\"fw-bold nav-item\"> <a class=\"link-dark nav-link p-lg-3 text-secondary\" href=\"admissions.aspx\"><i class=\"fa-check-square far text-warning\"></i> Admissions</a>\n",
              "</li>\n",
              "<li class=\"fw-bold nav-item\"> <a class=\"link-dark nav-link p-lg-3 text-secondary\" href=\"Students.aspx\"><i class=\"fa fa-users text-warning\"></i> Students</a>\n",
              "</li>\n",
              "<li class=\"fw-bold nav-item\"> <a class=\"link-dark nav-link p-lg-3 text-secondary\" href=\"http://ww2.comsats.edu.pk/research\" target=\"_blank\"><i class=\"fa-user-chart fas text-warning\"></i> Research</a>\n",
              "</li>\n",
              "<li class=\"fw-bold nav-item\"> <a class=\"link-dark nav-link p-lg-3 text-secondary\" href=\"http://ww3.comsats.edu.pk/Alumni/\" target=\"_blank\"><i class=\"fa-user-graduate fas text-warning\"></i> Alumni</a>\n",
              "</li>\n",
              "<li class=\"fw-bold nav-item\"> <a class=\"link-dark nav-link p-lg-3 text-secondary\" href=\"contactus.aspx\"><i class=\"fa-phone fas text-warning\"></i> Contact</a>\n",
              "</li>\n",
              "</ul>\n",
              "<div class=\"d-flex\">\n",
              "<a class=\"me-2\" href=\"http://cast.org.pk/virtual_tour/\" target=\"_blank\" type=\"button\"><i class=\"fa fa-play text-warning\" data-bs-placement=\"left\" data-bs-toggle=\"tooltip\" data-bs-trigger=\"hover\" title=\"Comsats Art Gallery\"></i></a>\n",
              "<a class=\"me-2\" href=\"http://ww2.comsats.edu.pk/cag\" target=\"_blank\" type=\"button\"><i class=\"fa fa-photo-video text-warning\" data-bs-placement=\"left\" data-bs-toggle=\"tooltip\" data-bs-trigger=\"hover\" title=\"Photo Gallery\"></i></a>\n",
              "<a class=\"me-2\" href=\"https://www.facebook.com/cuiofficial/\" target=\"_blank\" type=\"button\"><i class=\"fa-facebook-f fab text-warning\" data-bs-placement=\"bottom\" data-bs-toggle=\"tooltip\" data-bs-trigger=\"hover\" title=\"Facebook\"></i></a>\n",
              "<a class=\"me-2\" href=\"https://twitter.com/CUIofficial\" target=\"_blank\" type=\"button\"><i class=\"fa-twitter fab text-warning\" data-bs-placement=\"left\" data-bs-toggle=\"tooltip\" data-bs-trigger=\"hover\" title=\"Twitter\"></i></a>\n",
              "<a class=\"me-2\" data-bs-placement=\"left\" data-bs-target=\"#Modalsearch\" data-bs-toggle=\"modal\" data-bs-trigger=\"hover\" href=\"\" title=\"Search CUI\" type=\"button\"><i class=\"fa fa-search text-warning\"></i></a>\n",
              "</div>\n",
              "</div>\n",
              "</div>\n",
              "</nav>\n",
              "<div aria-hidden=\"true\" aria-labelledby=\"exampleModalLabel\" class=\"modal fade\" id=\"Modalpension\" tabindex=\"-1\">\n",
              "<div class=\"modal-dialog\">\n",
              "<!-- Modal content-->\n",
              "<div class=\"modal-content\">\n",
              "<div class=\"modal-header\">\n",
              "<h4 class=\"modal-title\">Focal Person for Redressal of Public Complaints on Pension Matters\":</h4>\n",
              "<button aria-label=\"Close\" class=\"btn-close\" data-bs-dismiss=\"modal\" type=\"button\"></button>\n",
              "</div>\n",
              "<div class=\"modal-body\">\n",
              "<table class=\"table table-bordered\">\n",
              "<tr>\n",
              "<td>Name</td>\n",
              "<td>Mr. Muhammad Naeem Akhtar, Deputy Treasurer</td>\n",
              "</tr>\n",
              "<tr>\n",
              "<td>Fax Number:</td>\n",
              "<td>051-9247001</td>\n",
              "</tr>\n",
              "</table>\n",
              "</div>\n",
              "<div class=\"modal-footer\">\n",
              "<button class=\"btn btn-primary\" data-bs-dismiss=\"modal\" type=\"button\">Close</button>\n",
              "</div>\n",
              "</div>\n",
              "</div>\n",
              "</div>\n",
              "<div aria-hidden=\"true\" aria-labelledby=\"exampleModalLabel\" class=\"modal fade\" id=\"Modalstatutes\" tabindex=\"-1\">\n",
              "<div class=\"modal-dialog modal-lg\">\n",
              "<!-- Modal content-->\n",
              "<div class=\"modal-content bg-white\">\n",
              "<div class=\"modal-header\">\n",
              "<h4 class=\"modal-title\">Statutes of the Authorities, Committees, Principal Officers,<br/> and Teachers of CUI - 2019</h4>\n",
              "<button aria-label=\"Close\" class=\"btn-close\" data-bs-dismiss=\"modal\" type=\"button\"></button>\n",
              "</div>\n",
              "<div class=\"modal-body\">\n",
              "<ul>\n",
              "<li><a class=\"link-dark\" href=\"rules/Constitution-Functions-and-Powers-of-the-Authorities-of-the-COMSATS-University-Islamabad-Statutes-2019.pdf\" target=\"_blank\">Constitution, Functions and Powers of the Authorities of the COMSATS University Islamabad Statutes, 2019</a></li>\n",
              "<li><a class=\"link-dark\" href=\"rules/The-Constitution-and-Procedure-of-Representation-Committee-for-Appointments-to-the-Senate-COMSATS-University-slamabad-Statutes-2019.pdf\" target=\"_blank\">The Constitution and Procedure of Representation Committee for Appointments to the Senate COMSATS University Islamabad Statutes, 2019</a></li>\n",
              "<li><a class=\"link-dark\" href=\"rules/The-Contents-of-and-the-Manner-of-Presenting-Annual-Report-by-the-Rector-before-the-Senate-COMSATS-University-Islamabad-Statutes-2019.pdf\" target=\"_blank\">The Contents of and the Manner of Presenting Annual Report by the Rector before the Senate COMSATS University Islamabad Statutes, 2019</a></li>\n",
              "<li><a class=\"link-dark\" href=\"rules/Constitution-and-Procedure-of-the-Emergency-Committee-COMSATS-University-Islamabad-Statutes-2019.pdf\" target=\"_blank\">Constitution and Procedure of the Emergency Committee COMSATS University Islamabad Statutes, 2019</a></li>\n",
              "<li><a class=\"link-dark\" href=\"rules/The-Powers-and-Duties-of-the-Officers-and-Teachers-of-COMSATS-University-Islamabad-Statutes-2019.pdf\" target=\"_blank\">The Powers and Duties of the Officers and Teachers of COMSATS University Islamabad Statutes, 2019</a></li>\n",
              "<li><a class=\"link-dark\" href=\"rules/Terms-and-Conditions-of-Service-and-Procedure-for-the-Appointment-of-the-Rector-COMSATS-University-Islamabad-Statutes-2019.pdf\" target=\"_blank\">Terms and Conditions of Service and Procedure for the Appointment of the Rector COMSATS University Islamabad Statutes, 2019</a></li>\n",
              "<li><a class=\"link-dark\" href=\"rules/Terms-and-Conditions-of-Service-and-Procedure-for-the-Appointment-of-Principal-Officers-COMSATS-University-Islamabad-Statutes-2019.pdf\" target=\"_blank\">Terms and Conditions of Service and Procedure for the Appointment of Principal Officers COMSATS University Islamabad Statutes 2019</a></li>\n",
              "<li><a class=\"link-dark\" href=\"rules/Terms-and-Conditions-of-Service-and-Procedure-for-the-Appointment-of-the-Pro-Rectors-COMSATS-University-Islamabad-Statutes-2019.pdf\" target=\"_blank\">Terms and Conditions of Service and Procedure for the Appointment of the Pro-Rectors COMSATS University Islamabad Statutes 2019</a></li>\n",
              "<li><a class=\"link-dark\" href=\"rules/Terms-and-Conditions-of-Service-and-Procedure-for-the-Appointment-of-the-Campus-Directors-COMSATS-University-Islamabad-Statutes-2019.pdf\" target=\"_blank\">Terms and Conditions of Service and Procedure for the Appointment of the Campus Directors COMSATS University Islamabad Statutes 2019</a></li>\n",
              "<li><a class=\"link-dark\" href=\"rules/Election-of-Teachers-for-the-Membership-of-Senate-Syndicate-Academic-Council-and-Representation-Committee-for-Appointments-to-the-Senate-COMSATS-University-Islamabad-Statutes-2019.pdf\" target=\"_blank\">Election of Teachers for the Membership of Senate, Syndicate, Academic Council and Representation Committee for Appointments to the Senate COMSATS University Islamabad Statutes, 2019</a></li>\n",
              "</ul>\n",
              "</div>\n",
              "<div class=\"modal-footer\">\n",
              "<button class=\"btn btn-secondary\" data-bs-dismiss=\"modal\" type=\"button\">Close</button>\n",
              "</div>\n",
              "</div>\n",
              "</div>\n",
              "</div>\n",
              "<!-- Modal -->\n",
              "<div aria-hidden=\"true\" aria-labelledby=\"exampleModalLabel\" class=\"modal fade\" id=\"Modalsearch\" role=\"dialog\" tabindex=\"-1\">\n",
              "<div class=\"modal-dialog\">\n",
              "<div class=\"modal-content\">\n",
              "<div class=\"modal-header\">\n",
              "<h5 class=\"modal-title\" id=\"exampleModalLabel\">Search CUI Website</h5>\n",
              "<button aria-label=\"Close\" class=\"btn-close\" data-bs-dismiss=\"modal\" type=\"button\"></button>\n",
              "</div>\n",
              "<div class=\"modal-body\">\n",
              "<p>Enter your search criteria</p>\n",
              "<script>\n",
              "            (function () {\n",
              "                var cx = '010872107217038431823:oknfqcqq_tm';\n",
              "                var gcse = document.createElement('script');\n",
              "                gcse.type = 'text/javascript';\n",
              "                gcse.async = true;\n",
              "                gcse.src = 'https://cse.google.com/cse.js?cx=' + cx;\n",
              "                var s = document.getElementsByTagName('script')[0];\n",
              "                s.parentNode.insertBefore(gcse, s);\n",
              "            })();\n",
              "</script>\n",
              "<gcse:search></gcse:search>\n",
              "</div>\n",
              "<div class=\"modal-footer\">\n",
              "<button class=\"btn btn-secondary\" data-bs-dismiss=\"modal\" type=\"button\">Close</button>\n",
              "</div>\n",
              "</div>\n",
              "</div>\n",
              "</div>\n",
              "</header>\n",
              "<main>\n",
              "<form action=\"./\" id=\"aspnetForm\" method=\"post\" name=\"aspnetForm\">\n",
              "<input id=\"__VIEWSTATE\" name=\"__VIEWSTATE\" type=\"hidden\" value=\"/wEPDwULLTE5Njg4ODY2NjdkZCYrfsPaGElyImNoYa6svpLbDE5Ba1JD4Li9eCMHsI7x\"/>\n",
              "<input id=\"__VIEWSTATEGENERATOR\" name=\"__VIEWSTATEGENERATOR\" type=\"hidden\" value=\"CA0B0334\"/>\n",
              "<div class=\"carousel slide\" data-bs-ride=\"carousel\" id=\"carouselExampleIndicators\">\n",
              "<ol class=\"carousel-indicators\">\n",
              "<li class=\"active border border-warning\" data-bs-slide-to=\"0\" data-bs-target=\"#carouselExampleIndicators\"></li>\n",
              "<li class=\"border border-warning\" data-bs-slide-to=\"1\" data-bs-target=\"#carouselExampleIndicators\"></li>\n",
              "<li class=\"border border-warning\" data-bs-slide-to=\"2\" data-bs-target=\"#carouselExampleIndicators\"></li>\n",
              "<li class=\"border border-warning\" data-bs-slide-to=\"3\" data-bs-target=\"#carouselExampleIndicators\"></li>\n",
              "<li class=\"border border-warning\" data-bs-slide-to=\"4\" data-bs-target=\"#carouselExampleIndicators\"></li>\n",
              "<li class=\"border border-warning\" data-bs-slide-to=\"5\" data-bs-target=\"#carouselExampleIndicators\"></li>\n",
              "<li class=\"border border-warning\" data-bs-slide-to=\"6\" data-bs-target=\"#carouselExampleIndicators\"></li>\n",
              "<li class=\"border border-warning\" data-bs-slide-to=\"7\" data-bs-target=\"#carouselExampleIndicators\"></li>\n",
              "<li class=\"border border-warning\" data-bs-slide-to=\"8\" data-bs-target=\"#carouselExampleIndicators\"></li>\n",
              "<li class=\"border border-warning\" data-bs-slide-to=\"9\" data-bs-target=\"#carouselExampleIndicators\"></li>\n",
              "<li class=\"border border-warning\" data-bs-slide-to=\"10\" data-bs-target=\"#carouselExampleIndicators\"></li>\n",
              "<li class=\"border border-warning\" data-bs-slide-to=\"11\" data-bs-target=\"#carouselExampleIndicators\"></li>\n",
              "</ol>\n",
              "<div class=\"carousel-inner\">\n",
              "<div class=\"carousel-item active\">\n",
              "<section class=\"pb-0 pt-0 text-white-50\">\n",
              "<div class=\"container-fluid pe-0 ps-0\">\n",
              "<div class=\"background-cover bg-secondary overflow-hidden pb-5 pb-md-5 ps-lg-5 pt-5\" style=\"background-image:url('slider/37-1.jpg'); background:linear-gradient(to top, rgba(0, 0, 0, 0.1), rgba(0, 0, 0, 0.1)), url('slider/37-1.jpg') no-repeat top center;\">\n",
              "<div class=\"pb-md-5 pt-5 row\" style=\"\">\n",
              "<div class=\"col-md-12 col-xl-12 pb-md-5 pt-5 pe-sm-3 ps-sm-5\">\n",
              "<h3 class=\"h5 text-white text-uppercase pt-5\" style=\"text-shadow: 1px 1px #000;\">CUI</h3>\n",
              "<h1 class=\"display-4 fw-bold text-capitalize text-white\" style=\"text-shadow: 1px 1px #000;\">37th<br/>  meeting of Academic council</h1>\n",
              "<h4 class=\"fw-bold mb-4 text-white\" style=\"text-shadow: 1px 1px #000;\">Special 37th meeting of the Academic Council of CUI was held on 22nd August, 2023</h4>\n",
              "<p class=\"fw-light mb-4 text-white\" style=\"text-shadow: 1px 1px #000;\"> <br/> </p>\n",
              "<p class=\"pb-2 pe-4 ps-4 pt-2 mb-5\"> </p>\n",
              "</div>\n",
              "</div>\n",
              "</div>\n",
              "</div>\n",
              "</section>\n",
              "</div>\n",
              "<div class=\"carousel-item\">\n",
              "<section class=\"pb-0 pt-0 text-white-50\">\n",
              "<div class=\"container-fluid pe-0 ps-0\">\n",
              "<div class=\"background-cover bg-secondary overflow-hidden pb-5 pb-md-5 ps-lg-5 pt-5\" style=\"background-image:url('slider/37.jpg'); background:linear-gradient(to top, rgba(0, 0, 0, 0.1), rgba(0, 0, 0, 0.1)), url('slider/37.jpg') no-repeat top center;\">\n",
              "<div class=\"pb-md-5 pt-5 row\" style=\"\">\n",
              "<div class=\"col-md-12 col-xl-12 pb-md-5 pt-5 pe-sm-3 ps-sm-5\">\n",
              "<h3 class=\"h5 text-white text-uppercase pt-5\" style=\"text-shadow: 1px 1px #000;\">CUI</h3>\n",
              "<h1 class=\"display-4 fw-bold text-capitalize text-white\" style=\"text-shadow: 1px 1px #000;\">37th<br/>  meeting of Academic council</h1>\n",
              "<h4 class=\"fw-bold mb-4 text-white\" style=\"text-shadow: 1px 1px #000;\">Special 37th meeting of the Academic Council of CUI was held on 22nd August, 2023</h4>\n",
              "<p class=\"fw-light mb-4 text-white\" style=\"text-shadow: 1px 1px #000;\"> <br/> </p>\n",
              "<p class=\"pb-2 pe-4 ps-4 pt-2 mb-5\"> </p>\n",
              "</div>\n",
              "</div>\n",
              "</div>\n",
              "</div>\n",
              "</section>\n",
              "</div>\n",
              "<div class=\"carousel-item\">\n",
              "<section class=\"pb-0 pt-0 text-white-50\">\n",
              "<div class=\"container-fluid pe-0 ps-0\">\n",
              "<div class=\"background-cover bg-secondary overflow-hidden pb-5 pb-md-5 ps-lg-5 pt-5\" style=\"background-image:url('slider/37-3.jpg'); background:linear-gradient(to top, rgba(0, 0, 0, 0.1), rgba(0, 0, 0, 0.1)), url('slider/37-3.jpg') no-repeat top center;\">\n",
              "<div class=\"pb-md-5 pt-5 row\" style=\"\">\n",
              "<div class=\"col-md-12 col-xl-12 pb-md-5 pt-5 pe-sm-3 ps-sm-5\">\n",
              "<h3 class=\"h5 text-white text-uppercase pt-5\" style=\"text-shadow: 1px 1px #000;\">CUI</h3>\n",
              "<h1 class=\"display-4 fw-bold text-capitalize text-white\" style=\"text-shadow: 1px 1px #000;\">37th<br/>  meeting of Academic council</h1>\n",
              "<h4 class=\"fw-bold mb-4 text-white\" style=\"text-shadow: 1px 1px #000;\">Special 37th meeting of the Academic Council of CUI was held on 22nd August, 2023</h4>\n",
              "<p class=\"fw-light mb-4 text-white\" style=\"text-shadow: 1px 1px #000;\"> <br/> </p>\n",
              "<p class=\"pb-2 pe-4 ps-4 pt-2 mb-5\"> </p>\n",
              "</div>\n",
              "</div>\n",
              "</div>\n",
              "</div>\n",
              "</section>\n",
              "</div>\n",
              "<div class=\"carousel-item\">\n",
              "<img class=\"d-block w-100\" src=\"slider/civil_awards.jpg\"/>\n",
              "</div>\n",
              "<div class=\"carousel-item\">\n",
              "<img class=\"d-block w-100\" src=\"slider/14aug2.jpg\"/>\n",
              "<div class=\"carousel-caption d-none d-md-block\">\n",
              "<h5>Flag Raising Ceremony 14 August 2023 at CUI Islamabad</h5>\n",
              "</div>\n",
              "</div>\n",
              "<div class=\"carousel-item\">\n",
              "<section class=\"pb-0 pt-0 text-white-50\">\n",
              "<div class=\"container-fluid pe-0 ps-0\">\n",
              "<div class=\"background-cover bg-secondary overflow-hidden pb-5 pb-md-5 ps-lg-5 pt-5\" style=\"background-image:url('slider/36-1.jpg'); background:linear-gradient(to top, rgba(0, 0, 0, 0.1), rgba(0, 0, 0, 0.1)), url('slider/36-1.jpg') no-repeat top center;\">\n",
              "<div class=\"pb-md-5 pt-5 row\" style=\"\">\n",
              "<div class=\"col-md-12 col-xl-12 pb-md-5 pt-5 pe-sm-3 ps-sm-5\">\n",
              "<h3 class=\"h5 text-white text-uppercase pt-5\" style=\"text-shadow: 1px 1px #000;\">CUI</h3>\n",
              "<h1 class=\"display-4 fw-bold text-capitalize text-white\" style=\"text-shadow: 1px 1px #000;\">36th<br/>  meeting of Academic council</h1>\n",
              "<h4 class=\"fw-bold mb-4 text-white\" style=\"text-shadow: 1px 1px #000;\">36th meeting of Academic council of <br/>COMSATS university Islamabad held on 18th July, 2023</h4>\n",
              "<p><a class=\"btn btn-primary pb-2 pe-4 ps-4 pt-2 mb-5 rounded-pill\" href=\"http://ww2.comsats.edu.pk/photogallery/obPics.aspx?Catid=142092\" target=\"_blank\">Learn More</a></p>\n",
              "<p class=\"pb-2 pe-4 ps-4 pt-2 mb-5\"> </p>\n",
              "</div>\n",
              "</div>\n",
              "</div>\n",
              "</div>\n",
              "</section>\n",
              "</div>\n",
              "<div class=\"carousel-item\">\n",
              "<section class=\"pb-0 pt-0 text-white-50\">\n",
              "<div class=\"container-fluid pe-0 ps-0\">\n",
              "<div class=\"background-cover bg-secondary overflow-hidden pb-5 pb-md-5 ps-lg-5 pt-5\" style=\"background-image:url('slider/36-2.jpg'); background:linear-gradient(to top, rgba(0, 0, 0, 0.1), rgba(0, 0, 0, 0.1)), url('slider/36-2.jpg') no-repeat top center;\">\n",
              "<div class=\"pb-md-5 pt-5 row\" style=\"\">\n",
              "<div class=\"col-md-12 col-xl-12 pb-md-5 pt-5 pe-sm-3 ps-sm-5\">\n",
              "<h3 class=\"h5 text-white text-uppercase pt-5\" style=\"text-shadow: 1px 1px #000;\">CUI</h3>\n",
              "<h1 class=\"display-4 fw-bold text-capitalize text-white\" style=\"text-shadow: 1px 1px #000;\">36th<br/>  meeting of Academic council</h1>\n",
              "<h4 class=\"fw-bold mb-4 text-white\" style=\"text-shadow: 1px 1px #000;\">36th meeting of Academic council of <br/>COMSATS university Islamabad held on 18th July, 2023</h4>\n",
              "<p><a class=\"btn btn-primary pb-2 pe-4 ps-4 pt-2 mb-5 rounded-pill\" href=\"http://ww2.comsats.edu.pk/photogallery/obPics.aspx?Catid=142092\" target=\"_blank\">Learn More</a></p>\n",
              "<p class=\"pb-2 pe-4 ps-4 pt-2 mb-5\"> </p>\n",
              "</div>\n",
              "</div>\n",
              "</div>\n",
              "</div>\n",
              "</section>\n",
              "</div>\n",
              "<div class=\"carousel-item\">\n",
              "<img alt=\"...\" class=\"d-block w-100\" src=\"slider/ranked-151.jpg\"/>\n",
              "</div>\n",
              "<div class=\"carousel-item\">\n",
              "<img alt=\"...\" class=\"d-block w-100\" src=\"slider/rankingupdate.jpg\"/>\n",
              "</div>\n",
              "<div class=\"carousel-item\">\n",
              "<img alt=\"...\" class=\"d-block w-100\" src=\"slider/sdgs.jpg\"/>\n",
              "</div>\n",
              "<div class=\"carousel-item\">\n",
              "<img alt=\"...\" class=\"d-block w-100\" src=\"slider/WUR2023.jpg\"/>\n",
              "</div>\n",
              "<div class=\"carousel-item\">\n",
              "<img alt=\"...\" class=\"d-block w-100\" src=\"slider/ranked3rd.jpg\"/>\n",
              "</div>\n",
              "</div>\n",
              "<a class=\"carousel-control-prev\" data-bs-slide=\"prev\" href=\"#carouselExampleIndicators\" role=\"button\">\n",
              "<span aria-hidden=\"true\" class=\"carousel-control-prev-icon\"></span>\n",
              "<span class=\"visually-hidden\">Previous</span> </a>\n",
              "<a class=\"carousel-control-next\" data-bs-slide=\"next\" href=\"#carouselExampleIndicators\" role=\"button\">\n",
              "<span aria-hidden=\"true\" class=\"carousel-control-next-icon\"></span>\n",
              "<span class=\"visually-hidden\">Next</span> </a>\n",
              "</div>\n",
              "<div class=\"bg-secondary container-fluid\" style=\"background:#ffc107;\">\n",
              "<div class=\"bg-info py-2 row animfooter\">\n",
              "<div class=\"bg-info col-md-12\">\n",
              "<div class=\"align-items-center bg-info breaking-news d-flex justify-content-between text-white\" style=\"background:#ffc107;\">\n",
              "<div class=\"bg-info d-flex flex-fill flex-grow-1 flex-row justify-content-center news px-1 py-2 text-dark\">\n",
              "<span class=\"d-flex align-items-center\"> <i class=\"fa fa-bullhorn text-white\"></i></span>\n",
              "</div>\n",
              "<marquee behavior=\"scroll\" class=\"news-scroll\" direction=\"left\" onmouseout=\"this.start();\" onmouseover=\"this.stop();\">\n",
              "<a href=\"NEFiles/Scholarship-ad-Final.jpg\" target=\"_blank\">COMSATS Scholarship (TOP 10 Positions Holders)</a> <span class=\"dot\"></span>\n",
              "<a href=\"NEFiles/FALL2023.jpg\" target=\"_blank\">Admissions Fall 2023</a> <span class=\"dot\"></span>\n",
              "<a href=\"https://usaidmnbsp-fas.hec.gov.pk/\" target=\"_blank\">Scholarships for Flood Affected Students</a> <span class=\"dot\"></span>\n",
              "<a href=\"NEFiles/Notification2023.jpg\" target=\"_blank\">Notification - Constitution of Standing Accessibility Committee - Islamabad Campus</a>\n",
              "</marquee>\n",
              "</div>\n",
              "</div>\n",
              "</div>\n",
              "</div>\n",
              "<div>\n",
              "<style>\n",
              "        .video-container {\n",
              "\tposition: relative;\n",
              "\tpadding-bottom: 56.25%; /* 16:9 */\n",
              "\theight: 0;\n",
              "}\n",
              ".video-container iframe {\n",
              "\tposition: absolute;\n",
              "\ttop: 0;\n",
              "\tleft: 0;\n",
              "\twidth: 100%;\n",
              "\theight: 100%;\n",
              "}\n",
              "    </style>\n",
              "<section class=\"bg-primary pt-5 text-center text-lg-start text-white\">\n",
              "<div class=\"container pb-5 pt-3\">\n",
              "<div class=\"align-items-center row\">\n",
              "<div class=\"col-lg-5 mt-5 mt-lg-0 order-lg-2 pb-3 pt-3\">\n",
              "<h2 class=\"h5 mb-0 text-uppercase text-warning\">COMSATS University <span class=\"fw-lighter\">Islamabad</span></h2>\n",
              "<h3 class=\"fw-bold h3 mb-4 text-white\">About <span class=\"fw-lighter\">Us</span></h3>\n",
              "<p class=\"lh-sm text-break\" style=\"text-align: justify; hyphens: auto; -webkit-hyphens: auto; word-spacing: -0.05em;\">COMSATS University Islamabad (CUI) started its journey in 1998, and established its first campus at Islamabad in April 1998. In August 2000, in recognition of CUI's achievements, the Federal Government granted it the status of a Degree Awarding Institute (DAI) through promulgation of its charter. ..\n",
              "<h4 class=\"text-white\">Vision</h4>\n",
              "<p class=\"lh-sm\" style=\"text-align: justify; hyphens: auto; -webkit-hyphens: auto; word-spacing: -0.05em;\">The COMSATS University Islamabad envisions assuming a truly national character for itself in the years to come. It envisions having presence in all provinces of the country. It sees for itself a position among the top five (5) universities in the country...<a class=\"btn btn-link text-warning\" href=\"aboutus.aspx\">Read More &gt;&gt;</a></p>\n",
              "</p></div>\n",
              "<div class=\"col-lg-7 order-lg-1\">\n",
              "<div class=\"embed-responsive embed-responsive-16by9 video-container\">\n",
              "<iframe allow=\"accelerometer; autoplay; clipboard-write; encrypted-media; gyroscope; picture-in-picture; web-share\" allowfullscreen=\"\" class=\"embed-responsive-item embed-responsive-4by3\" frameborder=\"0\" height=\"420\" src=\"https://www.youtube.com/embed/eqWo2d0ezS0\" width=\"100%\"></iframe>\n",
              "</div>\n",
              "</div>\n",
              "</div>\n",
              "</div>\n",
              "</section>\n",
              "<section class=\"pb-5 pt-5\">\n",
              "<div class=\"container-fluid\">\n",
              "<div class=\"row row-cols-lg-2\">\n",
              "<div class=\"col-lg-8 pt-3\">\n",
              "<div class=\"gy-4 justify-content-center row row-cols-lg-3 row-cols-md-2 hover10\">\n",
              "<div>\n",
              "<div class=\"bg-white rounded\">\n",
              "<figure><img alt=\"...\" class=\"img-fluid rounded-1 w-100 hover06\" height=\"250\" src=\"img/undergraduate.jpg\" width=\"250\"/></figure>\n",
              "<div class=\"p-4 text-muted\">\n",
              "<h3 class=\"fw-bold h4 mb-1 text-dark\">Undergraduate</h3>\n",
              "<h4 class=\"h6 mb-3\">Admissions</h4>\n",
              "<a class=\"btn btn-primary fw-bold pb-2 pe-4 ps-4 pt-2\" href=\"http://admissions.comsats.edu.pk/Home/ProgramDetails#panel-undergrad\" target=\"_blank\">View Details</a>\n",
              "</div>\n",
              "</div>\n",
              "</div>\n",
              "<div>\n",
              "<div class=\"bg-white rounded\">\n",
              "<figure><img alt=\"...\" class=\"img-fluid rounded-1 w-100\" height=\"250\" src=\"img/graduate.jpg\" width=\"250\"/></figure>\n",
              "<div class=\"p-4 text-muted\">\n",
              "<h3 class=\"fw-bold h4 mb-1 text-dark\">Graduate</h3>\n",
              "<h4 class=\"h6 mb-3\">Admissions</h4>\n",
              "<a class=\"btn btn-primary fw-bold pb-2 pe-4 ps-4 pt-2\" href=\"http://admissions.comsats.edu.pk/Home/ProgramDetails#panel-grad\" target=\"_blank\">View Details</a>\n",
              "</div>\n",
              "</div>\n",
              "</div>\n",
              "<div>\n",
              "<div class=\"bg-white rounded\">\n",
              "<figure><img alt=\"...\" class=\"img-fluid rounded-1 w-100\" height=\"250\" src=\"img/phd.jpg\" width=\"250\"/></figure>\n",
              "<div class=\"p-4 text-muted\">\n",
              "<h3 class=\"fw-bold h4 mb-1 text-dark\">PhD Programs</h3>\n",
              "<h4 class=\"h6 mb-3\">Admissions</h4>\n",
              "<a class=\"btn btn-primary fw-bold pb-2 pe-4 ps-4 pt-2\" href=\"http://admissions.comsats.edu.pk/Home/ProgramDetails#panel-phd\" target=\"_blank\">View Details</a>\n",
              "</div>\n",
              "</div>\n",
              "</div>\n",
              "</div>\n",
              "<div class=\"gy-4 justify-content-center mt-1 row row-cols-lg-3 row-cols-md-2 hover10\">\n",
              "<div>\n",
              "<div class=\"bg-white rounded\">\n",
              "<figure><img alt=\"...\" class=\"img-fluid rounded-1 w-100\" height=\"250\" src=\"img/feestructure.jpg\" width=\"250\"/></figure>\n",
              "<div class=\"p-4 text-muted\">\n",
              "<h3 class=\"fw-bold h4 mb-1 text-dark\">Fee Structure</h3>\n",
              "<h4 class=\"h6 mb-3\">Fall 2023</h4>\n",
              "<a class=\"btn btn-primary fw-bold pb-2 pe-4 ps-4 pt-2\" href=\"NEFiles/Fee-Structure-for-Fall-2023.pdf\" target=\"_blank\">View Details</a>\n",
              "</div>\n",
              "</div>\n",
              "</div>\n",
              "<div>\n",
              "<div class=\"bg-white rounded\">\n",
              "<figure><img alt=\"...\" class=\"img-fluid rounded-1 w-100\" height=\"250\" src=\"img/howtoapply.jpg\" width=\"250\"/></figure>\n",
              "<div class=\"p-4 text-muted\">\n",
              "<h3 class=\"fw-bold h4 mb-1 text-dark\">How to Apply?</h3>\n",
              "<h4 class=\"h6 mb-3\">Procedure</h4>\n",
              "<a class=\"btn btn-primary fw-bold pb-2 pe-4 ps-4 pt-2\" href=\"http://admissions.comsats.edu.pk/Home/Procedure\" target=\"_blank\">View Details</a>\n",
              "</div>\n",
              "</div>\n",
              "</div>\n",
              "<div>\n",
              "<div class=\"bg-white rounded\">\n",
              "<figure><img alt=\"...\" class=\"img-fluid rounded-1 w-100\" height=\"250\" src=\"img/apply.jpg\" width=\"250\"/></figure>\n",
              "<div class=\"p-4 text-muted\">\n",
              "<h3 class=\"fw-bold h4 mb-1 text-dark\">Apply Now!</h3>\n",
              "<h4 class=\"h6 mb-3\">Fall 2023</h4>\n",
              "<a class=\"btn btn-primary fw-bold pb-2 pe-4 ps-4 pt-2\" href=\"http://admissions.comsats.edu.pk/\" target=\"_blank\">View Details</a>\n",
              "</div>\n",
              "</div>\n",
              "</div>\n",
              "</div>\n",
              "</div>\n",
              "<div class=\"col-lg-4\">\n",
              "<div class=\"col-lg-12 order-lg-1 py-3 text-center hover10\">\n",
              "<div>\n",
              "<div class=\"bg-white rounded\">\n",
              "<figure><img alt=\"...\" class=\"img-fluid rounded-1 w-100\" height=\"250\" src=\"img/drsajid.jpg\" width=\"250\"/></figure>\n",
              "<div class=\"p-4 text-muted\">\n",
              "<h3 class=\"fw-bold h4 mb-1 text-dark\">Message by the Rector</h3>\n",
              "<h4 class=\"fw-bold h6 mb-3\">PROF. DR. SAJID QAMAR</h4>\n",
              "<p>I feel honored to lead the COMSATS University Islamabad (CUI) as Rector and share with you my vision for CUI, which has always been an innovative institution of learning and development. Our focus in the coming years will be to transform CUI to meet the challenges of a rapidly changing technological environment as well as societal needs...</p><a class=\"btn btn-primary fw-bold pb-2 pe-4 ps-4 pt-2\" href=\"RectorsProfile.aspx\">Read More</a>\n",
              "</div>\n",
              "</div>\n",
              "</div>\n",
              "</div>\n",
              "</div>\n",
              "</div>\n",
              "</div>\n",
              "</section>\n",
              "<section class=\"bg-light pb-0 pb-5 pt-0 jarallax\" style=\"background-image:url('img/cui_10.jpg');\">\n",
              "<div class=\"container pb-5 pt-5\">\n",
              "<div class=\"row row-cols-lg-3\">\n",
              "<div class=\"mt-3\">\n",
              "<div class=\"align-items-center mb-3 row\">\n",
              "<div class=\"col-lg-12\">\n",
              "<h3 class=\"fw-bold h2 mb-1 text-white\"><i class=\"fa-newspaper fal\"></i> Latest News</h3>\n",
              "</div>\n",
              "<div class=\"col-lg-auto ms-auto\">\n",
              "</div>\n",
              "</div>\n",
              "<div class=\"content_news scrollbar-dynamic\" id=\"nv\">\n",
              "<div class=\"list-group\">\n",
              "<a aria-current=\"true\" class=\"list-group-item list-group-item-action\" href=\"NEFiles/DrQudrat(Walk-in-Interview.jpg\" target=\"_blank\">\n",
              "<div class=\"d-flex w-100 justify-content-between\">\n",
              "<h5 class=\"fw-bolder mb-1 text-primary\">Positions Vacant</h5>\n",
              "</div> <p class=\"mb-1\">Dr. Qudrat - Walk in Interview - CAST - Islamabad Campus</p> <small class=\"fst-italic text-primary\">18 September, 2023</small> </a>\n",
              "<a aria-current=\"true\" class=\"list-group-item list-group-item-action\" href=\"NEFiles/Visiting-Faculty-Required-attock.jpg\" target=\"_blank\">\n",
              "<div class=\"d-flex w-100 justify-content-between\">\n",
              "<h5 class=\"fw-bolder mb-1 text-primary\">Positions Vacant</h5>\n",
              "</div> <p class=\"mb-1\">COMSATS University Advertisement Positions Available Visiting Faculty required at CUI Attock Campus</p> <small class=\"fst-italic text-primary\">11 September, 2023</small> </a>\n",
              "<a aria-current=\"true\" class=\"list-group-item list-group-item-action\" href=\"NEFiles/DrAwais(Walk-in-Interview).jpg\" target=\"_blank\">\n",
              "<div class=\"d-flex w-100 justify-content-between\">\n",
              "<h5 class=\"fw-bolder mb-1 text-primary\">Positions Vacant</h5>\n",
              "</div> <p class=\"mb-1\">Dr. Awais - Walk in Interview - Department of Electrical and Computer Engineering - Islamabad Campus</p> <small class=\"fst-italic text-primary\">05 September, 2023</small> </a>\n",
              "<a aria-current=\"true\" class=\"list-group-item list-group-item-action\" href=\"NEFiles/DrSyed-Ali(Walk-in-Interview).jpg\" target=\"_blank\">\n",
              "<div class=\"d-flex w-100 justify-content-between\">\n",
              "<h5 class=\"fw-bolder mb-1 text-primary\">Positions Vacant</h5>\n",
              "</div> <p class=\"mb-1\">Dr. Syed Ali - Walk in Interview - Department of Biosciences - Islamabad Campus</p> <small class=\"fst-italic text-primary\">01 September, 2023</small> </a>\n",
              "<a aria-current=\"true\" class=\"list-group-item list-group-item-action\" href=\"NEFiles/Visiting-Faculty-Positions-Available.jpg\" target=\"_blank\">\n",
              "<div class=\"d-flex w-100 justify-content-between\">\n",
              "<h5 class=\"fw-bolder mb-1 text-primary\">Positions Available</h5>\n",
              "</div> <p class=\"mb-1\">Visiting Faculty Positions Available (Lecturers &amp; Assistant Professors) at CUI Sahiwal Campus</p> <small class=\"fst-italic text-primary\">01 September, 2023</small> </a>\n",
              "<a aria-current=\"true\" class=\"list-group-item list-group-item-action\" href=\"NEFiles/FA23-UG-Orientation-Plan.pdf\" target=\"_blank\">\n",
              "<div class=\"d-flex w-100 justify-content-between\">\n",
              "<h5 class=\"fw-bolder mb-1 text-primary\">Orientation plan</h5>\n",
              "</div> <p class=\"mb-1\">Orientation plan for Fall 2023 Undergraduate admitted students - Islamabad Campus</p> <small class=\"fst-italic text-primary\">29 August, 2023</small> </a>\n",
              "<a aria-current=\"true\" class=\"list-group-item list-group-item-action\" href=\"NEFiles/DrShumaila-Walk-in-Interview.jpg\" target=\"_blank\">\n",
              "<div class=\"d-flex w-100 justify-content-between\">\n",
              "<h5 class=\"fw-bolder mb-1 text-primary\">Positions Vacant</h5>\n",
              "</div> <p class=\"mb-1\">Dr. Shumaila - Walk in Interview - Islamabad Campus</p> <small class=\"fst-italic text-primary\">25 August, 2023</small> </a>\n",
              "<a aria-current=\"true\" class=\"list-group-item list-group-item-action\" href=\"NEFiles/Up-dation-of-Pool-of-Visiting-Faculty-abt.jpg\" target=\"_blank\">\n",
              "<div class=\"d-flex w-100 justify-content-between\">\n",
              "<h5 class=\"fw-bolder mb-1 text-primary\">Positions Available</h5>\n",
              "</div> <p class=\"mb-1\">Positions Available for Up-dation of Pool of Visiting Faculty at its Abbottabad Campus</p> <small class=\"fst-italic text-primary\">21 August, 2023</small> </a>\n",
              "<a aria-current=\"true\" class=\"list-group-item list-group-item-action\" href=\"NEFiles/Up-dation-of-Pool-of-Visiting-Faculty.jpg\" target=\"_blank\">\n",
              "<div class=\"d-flex w-100 justify-content-between\">\n",
              "<h5 class=\"fw-bolder mb-1 text-primary\">Positions Available</h5>\n",
              "</div> <p class=\"mb-1\">Positions available for Up-dation of Pool of Visiting Faculty UPDATED (FINAL)</p> <small class=\"fst-italic text-primary\">21 August, 2023</small> </a>\n",
              "<a aria-current=\"true\" class=\"list-group-item list-group-item-action\" href=\"http://ww2.comsats.edu.pk/ciitblogs/BlogsDetailsOuter.aspx?ArticleId=206710\" target=\"_blank\">\n",
              "<div class=\"d-flex w-100 justify-content-between\">\n",
              "<h5 class=\"fw-bolder mb-1 text-primary\">Scotland Pakistan Scholarship</h5>\n",
              "</div> <p class=\"mb-1\">Scotland Pakistan Scholarship Scheme for Young Women and Girls 2023-24</p> <small class=\"fst-italic text-primary\">17 August, 2023</small> </a>\n",
              "<a aria-current=\"true\" class=\"list-group-item list-group-item-action\" href=\"NEFiles/Updating-of-Pools-of-Visiting-Faculty.jpg\" target=\"_blank\">\n",
              "<div class=\"d-flex w-100 justify-content-between\">\n",
              "<h5 class=\"fw-bolder mb-1 text-primary\">Positions Available</h5>\n",
              "</div> <p class=\"mb-1\">Positions Available Updating of Pools of Visiting Faculty at CUI Lahore Campus</p> <small class=\"fst-italic text-primary\">17 August, 2023</small> </a>\n",
              "<a aria-current=\"true\" class=\"list-group-item list-group-item-action\" href=\"NEFiles/DrFayyaz-Walk-in-Interview.jpg\" target=\"_blank\">\n",
              "<div class=\"d-flex w-100 justify-content-between\">\n",
              "<h5 class=\"fw-bolder mb-1 text-primary\">Positions Vacant</h5>\n",
              "</div> <p class=\"mb-1\">Dr. Fayyaz Ahmad - Walk in Interview - Department of Humanities - Islamabad Campus</p> <small class=\"fst-italic text-primary\">08 August, 2023</small> </a>\n",
              "<a aria-current=\"true\" class=\"list-group-item list-group-item-action\" href=\"NEFiles/Scholarship-ad-Final.jpg\" target=\"_blank\">\n",
              "<div class=\"d-flex w-100 justify-content-between\">\n",
              "<h5 class=\"fw-bolder mb-1 text-primary\">Scholarship</h5>\n",
              "</div> <p class=\"mb-1\">COMSATS Scholarship (TOP 10 Position Holders)</p> <small class=\"fst-italic text-primary\">04 August, 2023</small> </a>\n",
              "<a aria-current=\"true\" class=\"list-group-item list-group-item-action\" href=\"http://ww2.comsats.edu.pk/artdesign/Admission_exam.aspx\" target=\"_blank\">\n",
              "<div class=\"d-flex w-100 justify-content-between\">\n",
              "<h5 class=\"fw-bolder mb-1 text-primary\">Admissions</h5>\n",
              "</div> <p class=\"mb-1\">Department of Art &amp; Design Admissions - Islamabad Campus</p> <small class=\"fst-italic text-primary\">03 August, 2023</small> </a>\n",
              "<a aria-current=\"true\" class=\"list-group-item list-group-item-action\" href=\"NEFiles/DrSohail-Walk-in-Interview.jpg\" target=\"_blank\">\n",
              "<div class=\"d-flex w-100 justify-content-between\">\n",
              "<h5 class=\"fw-bolder mb-1 text-primary\">Position Vacant</h5>\n",
              "</div> <p class=\"mb-1\">P.I. Dr. Sohail Walk in Interview</p> <small class=\"fst-italic text-primary\">25 July, 2023</small> </a>\n",
              "<a aria-current=\"true\" class=\"list-group-item list-group-item-action\" href=\"NEFiles/DrGhulam-Walk-in-Interview.jpg\" target=\"_blank\">\n",
              "<div class=\"d-flex w-100 justify-content-between\">\n",
              "<h5 class=\"fw-bolder mb-1 text-primary\">Position Vacant</h5>\n",
              "</div> <p class=\"mb-1\">P.I. Dr. Ghulam Walk in Interview</p> <small class=\"fst-italic text-primary\">25 July, 2023</small> </a>\n",
              "<a aria-current=\"true\" class=\"list-group-item list-group-item-action\" href=\"NEFiles/Project-Positions-Available.jpg\" target=\"_blank\">\n",
              "<div class=\"d-flex w-100 justify-content-between\">\n",
              "<h5 class=\"fw-bolder mb-1 text-primary\">Position Vacant</h5>\n",
              "</div> <p class=\"mb-1\">Project Position Available (Abbottabad Campus)</p> <small class=\"fst-italic text-primary\">21 July, 2023</small> </a>\n",
              "<a aria-current=\"true\" class=\"list-group-item list-group-item-action\" href=\"http://ww2.comsats.edu.pk/ciitblogs/BlogsDetailsOuter.aspx?ArticleId=196678\" target=\"_blank\">\n",
              "<div class=\"d-flex w-100 justify-content-between\">\n",
              "<h5 class=\"fw-bolder mb-1 text-primary\">Positions Vacant</h5>\n",
              "</div> <p class=\"mb-1\">For Islamabad, Lahore, Abbottabad, Sahiwal, Vehari, Wah Campuses</p> <small class=\"fst-italic text-primary\">17 July, 2023</small> </a>\n",
              "<a aria-current=\"true\" class=\"list-group-item list-group-item-action\" href=\"NEFiles/Notice-to-Resume-Duty.jpg\" target=\"_blank\">\n",
              "<div class=\"d-flex w-100 justify-content-between\">\n",
              "<h5 class=\"fw-bolder mb-1 text-primary\">Notice to Resume Duty</h5>\n",
              "</div> <p class=\"mb-1\">Notice to Resume Duty Mr. Abdul Waqar (Attock Campus)</p> <small class=\"fst-italic text-primary\">15 June, 2023</small> </a>\n",
              "<a aria-current=\"true\" class=\"list-group-item list-group-item-action\" href=\"NEFiles/Committee-of-Anti-Drug-and-Tobacco-of-Islamabad-Campus.pdf\" target=\"_blank\">\n",
              "<div class=\"d-flex w-100 justify-content-between\">\n",
              "<h5 class=\"fw-bolder mb-1 text-primary\">Notification</h5>\n",
              "</div> <p class=\"mb-1\">Constitution of Anti-Drug and Tobacco Committee - Islamabad Campus</p> <small class=\"fst-italic text-primary\">08 March, 2023</small> </a>\n",
              "<a aria-current=\"true\" class=\"list-group-item list-group-item-action\" href=\"http://ww2.comsats.edu.pk/ciitblogs/BlogsDetailsOuter.aspx?ArticleId=186429\" target=\"_blank\"> <div class=\"d-flex w-100 justify-content-between\">\n",
              "<h5 class=\"fw-bolder mb-1 text-primary\">Award Announcement</h5>\n",
              "</div> <p class=\"mb-1\">Pakistan Council of Architects and Town Planners</p> <small class=\"fst-italic text-primary\">24 January, 2023</small> </a>\n",
              "<a aria-current=\"true\" class=\"list-group-item list-group-item-action\" href=\"NEFiles/Notification2023.jpg\" target=\"_blank\"> <div class=\"d-flex w-100 justify-content-between\">\n",
              "<h5 class=\"fw-bolder mb-1 text-primary\">Notification</h5>\n",
              "</div> <p class=\"mb-1\">Notification - Constitution of Standing Accessibility Committee - Islamabad Campus</p> <small class=\"fst-italic text-primary\">24 January, 2023</small> </a>\n",
              "</div>\n",
              "</div>\n",
              "</div>\n",
              "<div class=\"mt-3\">\n",
              "<div class=\"align-items-center mb-3 row\">\n",
              "<div class=\"col-lg-7\">\n",
              "<h3 class=\"fw-bold h2 mb-1 text-white\"><i class=\"fa-calendar fal\"></i> Events</h3>\n",
              "</div>\n",
              "<div class=\"col-lg-5\">\n",
              "</div>\n",
              "<div class=\"col-lg-auto ms-auto\">\n",
              "</div>\n",
              "</div>\n",
              "<div class=\"content_news scrollbar-dynamic\" id=\"nv\">\n",
              "<div class=\"list-group\">\n",
              "<a aria-current=\"true\" class=\"list-group-item list-group-item-action\" href=\"http://ww2.comsats.edu.pk/ciitblogs/BlogsDetailsOuter.aspx?ArticleId=186489\" target=\"_blank\"> <div class=\"d-flex w-100 justify-content-between\">\n",
              "<h5 class=\"fw-bolder mb-1 text-primary\">Competition</h5> <small class=\"text-success\">09 Mar</small>\n",
              "</div> <p class=\"mb-1\">International University-level Student Competition</p> <small class=\"fst-italic text-primary\">09 March, 2023</small> </a>\n",
              "<a aria-current=\"true\" class=\"list-group-item list-group-item-action\" href=\"http://ww2.comsats.edu.pk/ciitblogs/BlogsDetailsOuter.aspx?ArticleId=186462\" target=\"_blank\"> <div class=\"d-flex w-100 justify-content-between\">\n",
              "<h5 class=\"fw-bolder mb-1 text-primary\">Space/Instagram Live Session</h5> <small class=\"text-success\">23 Feb</small>\n",
              "</div> <p class=\"mb-1\">PMYP Twitter Space/Instagram Live Session | Skilling &amp; Certification | February 23, 2023 @10:00 PM</p> <small class=\"fst-italic text-primary\">23 February, 2023</small> </a>\n",
              "<a aria-current=\"true\" class=\"list-group-item list-group-item-action\" href=\"NEFiles/ICPHMS-2023.pdf\" target=\"_blank\"> <div class=\"d-flex w-100 justify-content-between\">\n",
              "<h5 class=\"fw-bolder mb-1 text-primary\">ICPHMS-2023</h5> <small class=\"text-success\">27 Feb</small>\n",
              "</div> <p class=\"mb-1\">1st International Conference on - Physics Horizons and Multidisciplinary Science(ICPHMS-2023) - Lahore Campus </p> <small class=\"fst-italic text-primary\">27-28 February, 2023</small> </a>\n",
              "<a aria-current=\"true\" class=\"list-group-item list-group-item-action\" href=\"http://ww2.comsats.edu.pk/humanities/NewsEventDetail.aspx?id=186445\" target=\"_blank\"> <div class=\"d-flex w-100 justify-content-between\">\n",
              "<h5 class=\"fw-bolder mb-1 text-primary\">Conference</h5> <small class=\"text-success\">20 Mar</small>\n",
              "</div> <p class=\"mb-1\">1st International Conference on ROLE OF SEERAH in current education system - Islamabad Campus</p> <small class=\"fst-italic text-primary\">20-21 March, 2023</small> </a>\n",
              "<a aria-current=\"true\" class=\"list-group-item list-group-item-action\" href=\"https://www.facebook.com/cuilhrjobfair2023\" target=\"_blank\"> <div class=\"d-flex w-100 justify-content-between\">\n",
              "<h5 class=\"fw-bolder mb-1 text-primary\">Job Fair</h5> <small class=\"text-success\">01 Mar</small>\n",
              "</div> <p class=\"mb-1\">Job Fair 2023 - Lahore Campus</p> <small class=\"fst-italic text-primary\">March 01, 2023</small> </a>\n",
              "<a aria-current=\"true\" class=\"list-group-item list-group-item-action\" href=\"https://cuiwah.edu.pk/Home/Blog/2349\" target=\"_blank\"> <div class=\"d-flex w-100 justify-content-between\">\n",
              "<h5 class=\"fw-bolder mb-1 text-primary\">Conference</h5> <small class=\"text-success\">17 Feb</small>\n",
              "</div> <p class=\"mb-1\">1st International Conference about COP27 Climate Change &amp; Food Security - Wah Campus</p> <small class=\"fst-italic text-primary\">17, February 2023</small> </a>\n",
              "</div>\n",
              "</div>\n",
              "</div>\n",
              "<div class=\"mt-3\">\n",
              "<div class=\"align-items-center mb-3 row\">\n",
              "<div class=\"col-lg-12\">\n",
              "<h3 class=\"fw-bold h2 mb-1 text-white\"><svg class=\"fa-external-link-alt fal\" fill=\"currentColor\" height=\"1em\" viewbox=\"0 0 24 24\" width=\"1em\" xmlns=\"http://www.w3.org/2000/svg\">\n",
              "<g>\n",
              "<path d=\"M0 0h24v24H0z\" fill=\"none\"></path>\n",
              "<path d=\"M13 9h4.5l-.5 2h-4v9h-2v-9H7V9h4V7.128c0-1.783.186-2.43.534-3.082a3.635 3.635 0 0 1 1.512-1.512C13.698 2.186 14.345 2 16.128 2c.522 0 .98.05 1.372.15V4h-1.372c-1.324 0-1.727.078-2.138.298-.304.162-.53.388-.692.692-.22.411-.298.814-.298 2.138V9z\" fill-rule=\"nonzero\"></path>\n",
              "</g>\n",
              "</svg> Follow Us</h3>\n",
              "</div>\n",
              "<div class=\"col-lg-auto ms-auto\">\n",
              "</div>\n",
              "</div>\n",
              "<div class=\"content_news scrollbar-dynamic\" id=\"nv\">\n",
              "<iframe allow=\"encrypted-media\" allowtransparency=\"true\" class=\"fb-post\" frameborder=\"0\" height=\"420\" scrolling=\"no\" src=\"https://www.facebook.com/plugins/page.php?href=https%3A%2F%2Fwww.facebook.com%2Fcuiofficial%2F&amp;tabs=timeline&amp;width=380&amp;height=420&amp;small_header=true&amp;adapt_container_width=true&amp;hide_cover=false&amp;show_facepile=true&amp;appId\" style=\"border:none;overflow:hidden\" width=\"380\"></iframe>\n",
              "</div>\n",
              "</div>\n",
              "</div>\n",
              "</div>\n",
              "</section>\n",
              "<section class=\"background-cover background-right-top bg-secondary pb-5 position-relative pt-5 text-white-50\">\n",
              "<div class=\"bg-primary col-12 col-lg-7 h-100 position-absolute start-0 top-0\">\n",
              "</div>\n",
              "<div class=\"container pb-5 position-relative pt-5\">\n",
              "<div class=\"align-items-center gy-5 row\">\n",
              "<div class=\"col-lg-6 order-lg-last\">\n",
              "<div class=\"background-cover p-lg-2 jarallax\" style=\"background-image:url('img/lib.jpg');\">\n",
              "<section class=\"text-center\">\n",
              "<div class=\"container pb-5 pt-5\">\n",
              "<div class=\"pb-5 pt-5 row text-start\">\n",
              "<div class=\"bg-gradient bg-info bg-opacity-75 col-lg-9 col-xl-8 me-auto ms-auto p-5\">\n",
              "<p class=\"h6 text-uppercase text-warning\">CUI’s Rankings &amp; Reputation</p>\n",
              "<h2 class=\"fw-bold mb-3 text-light\">COMSATS University Islamabad is ranked amongst the top 10 universities of Pakistan as per HEC recent rankings</h2><a class=\"btn btn-primary fw-bold pe-3 ps-3\" href=\"AboutUs.aspx\">Read More</a>\n",
              "</div>\n",
              "</div>\n",
              "</div>\n",
              "</section>\n",
              "</div>\n",
              "</div>\n",
              "<div class=\"col-lg-6\">\n",
              "<h1 class=\"fw-bold text-white pe-sm-5\">About COMSATS University Islamabad</h1>\n",
              "<p class=\"lead mb-4 pe-sm-5\" style=\"text-align:justify; font-weight:400;\">The origins of the COMSATS University Islamabad (CUI) date back to 1998. The university is one of the leading universities of Pakistan with five (05) broad faculties including Engineering, Information Science and Technology, Business Administration and Architecture and Design with more than 36,000 students and offering 100-degree programs. The CUI is well-known for its trend-setting pedagogical approach, allowing for interdisciplinary methodologies to learning and problem solving, experimentation, and insight. It is ranked among top 3 universities of Pakistan and world’s best 800 universities...</p>\n",
              "<a class=\"btn btn-warning fw-bold pb-2 pe-4 ps-4 pt-2\" href=\"AboutUs.aspx\">Read More</a>\n",
              "</div>\n",
              "</div>\n",
              "</div>\n",
              "</section>\n",
              "<section class=\"pb-2\">\n",
              "<div class=\"container pb-5 pt-5\">\n",
              "<div class=\"align-items-center mb-5 row\">\n",
              "<div class=\"col-lg-12 ms-auto order-lg-2 py-3 text-center\">\n",
              "<div class=\"mb-5 row\">\n",
              "<div class=\"col-lg-12\">\n",
              "<h2 class=\"fw-bold h6 mb-1 text-primary\">COMSATS University Islamabad</h2>\n",
              "<h3 class=\"display-3 fw-bold mb-1 text-body\">Campuses</h3>\n",
              "</div>\n",
              "</div>\n",
              "<div class=\"row mt-30\">\n",
              "<div class=\"col-md-3 col-sm-6\">\n",
              "<div class=\"box10\">\n",
              "<img class=\"pic-1\" src=\"img/isb_c.jpg\"/>\n",
              "<div class=\"box-content\">\n",
              "<h3 class=\"title\">Islamabad</h3>\n",
              "<ul class=\"icon\">\n",
              "<li><a class=\"fa fa-link\" href=\"http://islamabad.comsats.edu.pk/\"></a>\n",
              "</li>\n",
              "</ul>\n",
              "</div>\n",
              "</div>\n",
              "</div>\n",
              "<div class=\"col-md-3 col-sm-6\">\n",
              "<div class=\"box10\">\n",
              "<img class=\"pic-1\" src=\"img/abt_c.jpg\"/>\n",
              "<div class=\"box-content\">\n",
              "<h3 class=\"title\">Abbottabad</h3>\n",
              "<ul class=\"icon\">\n",
              "<li><a class=\"fa fa-link\" href=\"https://cuiatd.edu.pk/\"></a>\n",
              "</li>\n",
              "</ul>\n",
              "</div>\n",
              "</div>\n",
              "</div>\n",
              "<div class=\"col-md-3 col-sm-6\">\n",
              "<div class=\"box10\">\n",
              "<img class=\"pic-1\" src=\"img/lhr_c.jpg\"/>\n",
              "<div class=\"box-content\">\n",
              "<h3 class=\"title\">Lahore</h3>\n",
              "<ul class=\"icon\">\n",
              "<li><a class=\"fa fa-link\" href=\"http://lahore.comsats.edu.pk/\"></a>\n",
              "</li>\n",
              "</ul>\n",
              "</div>\n",
              "</div>\n",
              "</div>\n",
              "<div class=\"col-md-3 col-sm-6\">\n",
              "<div class=\"box10\">\n",
              "<img class=\"pic-1\" src=\"img/wah_c.jpg\"/>\n",
              "<div class=\"box-content\">\n",
              "<h3 class=\"title\">Wah</h3>\n",
              "<ul class=\"icon\">\n",
              "<li><a class=\"fa fa-link\" href=\"http://wah.comsats.edu.pk/\"></a>\n",
              "</li>\n",
              "</ul>\n",
              "</div>\n",
              "</div>\n",
              "</div>\n",
              "</div>\n",
              "<div class=\"row mt-30\">\n",
              "<div class=\"col-md-3 col-sm-6\">\n",
              "<div class=\"box10\">\n",
              "<img class=\"pic-1\" src=\"img/atk_c.jpg\"/>\n",
              "<div class=\"box-content\">\n",
              "<h3 class=\"title\">Attock</h3>\n",
              "<ul class=\"icon\">\n",
              "<li><a class=\"fa fa-link\" href=\"http://attock.comsats.edu.pk/\"></a>\n",
              "</li>\n",
              "</ul>\n",
              "</div>\n",
              "</div>\n",
              "</div>\n",
              "<div class=\"col-md-3 col-sm-6\">\n",
              "<div class=\"box10\">\n",
              "<img class=\"pic-1\" src=\"img/shi_c.jpg\"/>\n",
              "<div class=\"box-content\">\n",
              "<h3 class=\"title\">Sahiwal</h3>\n",
              "<ul class=\"icon\">\n",
              "<li><a class=\"fa fa-link\" href=\"http://sahiwal.comsats.edu.pk/\"></a>\n",
              "</li>\n",
              "</ul>\n",
              "</div>\n",
              "</div>\n",
              "</div>\n",
              "<div class=\"col-md-3 col-sm-6\">\n",
              "<div class=\"box10\">\n",
              "<img class=\"pic-1\" src=\"img/vhr_c.jpg\"/>\n",
              "<div class=\"box-content\">\n",
              "<h3 class=\"title\">Vehari</h3>\n",
              "<ul class=\"icon\">\n",
              "<li><a class=\"fa fa-link\" href=\"http://vehari.comsats.edu.pk/\"></a>\n",
              "</li>\n",
              "</ul>\n",
              "</div>\n",
              "</div>\n",
              "</div>\n",
              "<div class=\"col-md-3 col-sm-6\">\n",
              "<div class=\"box10\">\n",
              "<img class=\"pic-1\" src=\"img/vr_c.jpg\"/>\n",
              "<div class=\"box-content\">\n",
              "<h3 class=\"title\">Virtual</h3>\n",
              "<ul class=\"icon\">\n",
              "<li><a class=\"fa fa-link\" href=\"http://vcomsats.edu.pk/\"></a>\n",
              "</li>\n",
              "</ul>\n",
              "</div>\n",
              "</div>\n",
              "</div>\n",
              "</div>\n",
              "</div>\n",
              "</div>\n",
              "<!------------------ Hover Effect Style : Demo - 10 --------------->\n",
              "</div>\n",
              "</section>\n",
              "<section class=\"background-cover bg-secondary jarallax position-relative text-black-50\" style=\"background-image:url('img/ISB_0152.jpg');\">\n",
              "<div class=\"container-fluid\">\n",
              "<div class=\"align-items-center mb-3 row\">\n",
              "<div class=\"bg-primary col-lg-3 col-xl-3 h-100 pb-5 pt-5 start-0 top-0\">\n",
              "<div class=\"pe-5 ps-5 pt-xs-0 pb-xs-0\" style=\"padding-top:11rem; padding-bottom:11rem;\">\n",
              "<h2 class=\"h6 text-warning\">Why CUI?</h2>\n",
              "<h3 class=\"fw-bold h2 mb-4 text-light\">CUI aspires to be both one of the top research institutions and one of the best higher education providers in the country</h3> <a class=\"btn btn-warning fw-bold mb-5 pe-4 ps-4\" href=\"history.aspx\">Learn More</a>\n",
              "</div>\n",
              "</div>\n",
              "<div class=\"col-xl-9 ms-auto\">\n",
              "<div class=\"pb-5 pt-3 pt-5 row\">\n",
              "<div class=\"col-lg-4 col-md-6 pb-3 pt-3\">\n",
              "<div class=\"bg-gradient bg-white border h-100 pb-5 pe-4 ps-4 pt-5 shadow\">\n",
              "<div class=\"ps-3 pe-3\">\n",
              "<svg class=\"mb-3 text-primary\" fill=\"currentColor\" height=\"60\" viewbox=\"0 0 24 24\" width=\"60\" xmlns=\"http://www.w3.org/2000/svg\">\n",
              "<g>\n",
              "<path d=\"M0 0h24v24H0z\" fill=\"none\"></path>\n",
              "<path d=\"M3 2.992C3 2.444 3.445 2 3.993 2h16.014a1 1 0 0 1 .993.992v18.016a.993.993 0 0 1-.993.992H3.993A1 1 0 0 1 3 21.008V2.992zM19 11V4H5v7h14zm0 2H5v7h14v-7zM9 6h6v2H9V6zm0 9h6v2H9v-2z\"></path>\n",
              "</g>\n",
              "</svg>\n",
              "<h4 class=\"fw-bold text-dark\">Course Catalogue</h4>\n",
              "<p class=\"mb-0\">CUI Course Catalog Portal is an information and assistance resource designed for the CUI Faculty and Staff.</p>\n",
              "<p class=\"mb-0\"><a class=\"btn btn-link ps-0\" href=\"http://cuonline.comsats.edu.pk/publicaccess\" target=\"_blank\" type=\"button\">Read More &gt;&gt;</a></p>\n",
              "</div>\n",
              "</div>\n",
              "</div>\n",
              "<div class=\"col-lg-4 col-md-6 pb-3 pt-3\">\n",
              "<div class=\"bg-gradient bg-white border h-100 pb-5 pe-4 ps-4 pt-5 shadow\">\n",
              "<div class=\"ps-3 pe-3\">\n",
              "<svg class=\"mb-3 text-primary\" fill=\"currentColor\" height=\"60\" viewbox=\"0 0 24 24\" width=\"60\" xmlns=\"http://www.w3.org/2000/svg\">\n",
              "<g>\n",
              "<path d=\"M0 0h24v24H0z\" fill=\"none\"></path>\n",
              "<path d=\"M3 19V5.7a1 1 0 0 1 .658-.94l9.671-3.516a.5.5 0 0 1 .671.47v4.953l6.316 2.105a1 1 0 0 1 .684.949V19h2v2H1v-2h2zm2 0h7V3.855L5 6.401V19zm14 0v-8.558l-5-1.667V19h5z\"></path>\n",
              "</g>\n",
              "</svg>\n",
              "<h4 class=\"fw-bold text-dark\">Faculties &amp; Departments</h4>\n",
              "<p class=\"mb-0\">CUI has six faculties, 22 Departments and 08 Research Centers working in its eight campuses,..</p>\n",
              "<p class=\"mb-0\"><a class=\"btn btn-link ps-0\" href=\"faculties.aspx\" type=\"button\">Read More &gt;&gt;</a></p>\n",
              "</div>\n",
              "</div>\n",
              "</div>\n",
              "<div class=\"col-lg-4 col-md-6 pb-3 pt-3\">\n",
              "<div class=\"bg-gradient bg-white border h-100 pb-5 pe-4 ps-4 pt-5 shadow\">\n",
              "<div class=\"ps-3 pe-3\">\n",
              "<svg class=\"mb-3 text-primary\" fill=\"currentColor\" height=\"60\" viewbox=\"0 0 24 24\" width=\"60\" xmlns=\"http://www.w3.org/2000/svg\">\n",
              "<g>\n",
              "<path d=\"M0 0h24v24H0z\" fill=\"none\"></path>\n",
              "<path d=\"M3 3h18a1 1 0 0 1 1 1v16a1 1 0 0 1-1 1H3a1 1 0 0 1-1-1V4a1 1 0 0 1 1-1zm1 2v14h16V5H4zm3 8h2v4H7v-4zm4-6h2v10h-2V7zm4 3h2v7h-2v-7z\"></path>\n",
              "</g>\n",
              "</svg>\n",
              "<h4 class=\"fw-bold text-dark\">Research Portal</h4>\n",
              "<p class=\"mb-0\">Check the total number of publications uploaded by our faculty and staff members from different campuses.</p>\n",
              "<p class=\"mb-0\"><a class=\"btn btn-link ps-0\" href=\"http://ww2.comsats.edu.pk/research\" target=\"_blank\" type=\"button\">Read More &gt;&gt;</a></p>\n",
              "</div>\n",
              "</div>\n",
              "</div>\n",
              "<div class=\"col-lg-4 col-md-6 pb-3 pt-3\">\n",
              "<div class=\"bg-gradient bg-white border h-100 pb-5 pe-4 ps-4 pt-5 shadow\">\n",
              "<div class=\"ps-3 pe-3\">\n",
              "<svg class=\"mb-3 text-primary\" fill=\"currentColor\" height=\"60\" viewbox=\"0 0 24 24\" width=\"60\" xmlns=\"http://www.w3.org/2000/svg\">\n",
              "<g>\n",
              "<path d=\"M0 0h24v24H0z\" fill=\"none\"></path>\n",
              "<path d=\"M14 14.252v2.09A6 6 0 0 0 6 22l-2-.001a8 8 0 0 1 10-7.748zM12 13c-3.315 0-6-2.685-6-6s2.685-6 6-6 6 2.685 6 6-2.685 6-6 6zm0-2c2.21 0 4-1.79 4-4s-1.79-4-4-4-4 1.79-4 4 1.79 4 4 4zm6 6v-3.5l5 4.5-5 4.5V19h-3v-2h3z\"></path>\n",
              "</g>\n",
              "</svg>\n",
              "<h4 class=\"fw-bold text-dark\">International Students</h4>\n",
              "<p class=\"mb-0\">International Admissions Unit (IAU) has been setup in International Office, to facilitate International Students. </p>\n",
              "<p class=\"mb-0\"><a class=\"btn btn-link ps-0\" href=\"http://ww2.comsats.edu.pk/internationalstudents\" target=\"_blank\" type=\"button\">Read More &gt;&gt;</a></p>\n",
              "</div>\n",
              "</div>\n",
              "</div>\n",
              "<div class=\"col-lg-4 col-md-6 pb-3 pt-3\">\n",
              "<div class=\"bg-gradient bg-white border h-100 pb-5 pe-4 ps-4 pt-5 shadow\">\n",
              "<div class=\"ps-3 pe-3\">\n",
              "<svg class=\"mb-3 text-primary\" fill=\"currentColor\" height=\"60\" viewbox=\"0 0 24 24\" width=\"60\" xmlns=\"http://www.w3.org/2000/svg\">\n",
              "<g>\n",
              "<path d=\"M0 0h24v24H0z\" fill=\"none\"></path>\n",
              "<path d=\"M12 14v2a6 6 0 0 0-6 6H4a8 8 0 0 1 8-8zm0-1c-3.315 0-6-2.685-6-6s2.685-6 6-6 6 2.685 6 6-2.685 6-6 6zm0-2c2.21 0 4-1.79 4-4s-1.79-4-4-4-4 1.79-4 4 1.79 4 4 4zm6 10.5l-2.939 1.545.561-3.272-2.377-2.318 3.286-.478L18 14l1.47 2.977 3.285.478-2.377 2.318.56 3.272L18 21.5z\"></path>\n",
              "</g>\n",
              "</svg>\n",
              "<h4 class=\"fw-bold text-dark\">Phd Graduates</h4>\n",
              "<p class=\"mb-0\">Browse and search profiles of COMSATS University Islamabad PhD Graduates.</p>\n",
              "<p class=\"mb-0\"><a class=\"btn btn-link ps-0\" href=\"http://ww2.comsats.edu.pk/phd_graduates/\" target=\"_blank\" type=\"button\">Read More &gt;&gt;</a></p>\n",
              "</div>\n",
              "</div>\n",
              "</div>\n",
              "<div class=\"col-lg-4 col-md-6 pb-3 pt-3\">\n",
              "<div class=\"bg-gradient bg-white border h-100 pb-5 pe-4 ps-4 pt-5 shadow\">\n",
              "<div class=\"ps-3 pe-3\">\n",
              "<svg class=\"mb-3 text-primary\" fill=\"currentColor\" height=\"60\" viewbox=\"0 0 24 24\" width=\"60\" xmlns=\"http://www.w3.org/2000/svg\">\n",
              "<g>\n",
              "<path d=\"M0 0h24v24H0z\" fill=\"none\"></path>\n",
              "<path d=\"M17 15.245v6.872a.5.5 0 0 1-.757.429L12 20l-4.243 2.546a.5.5 0 0 1-.757-.43v-6.87a8 8 0 1 1 10 0zm-8 1.173v3.05l3-1.8 3 1.8v-3.05A7.978 7.978 0 0 1 12 17a7.978 7.978 0 0 1-3-.582zM12 15a6 6 0 1 0 0-12 6 6 0 0 0 0 12z\"></path>\n",
              "</g>\n",
              "</svg>\n",
              "<h4 class=\"fw-bold text-dark\">Scholarships</h4>\n",
              "<p class=\"mb-0\">Check the scholarships from different countries and multiple international universities.</p>\n",
              "<p class=\"mb-0\"><a class=\"btn btn-link ps-0\" href=\"http://ww2.comsats.edu.pk/scholarships/\" target=\"_blank\" type=\"button\">Read More &gt;&gt;</a></p>\n",
              "</div>\n",
              "</div>\n",
              "</div>\n",
              "</div>\n",
              "</div>\n",
              "</div>\n",
              "</div>\n",
              "</section>\n",
              "<section class=\"pb-5 pt-5 text-center\">\n",
              "<div class=\"container pb-5 pt-5\">\n",
              "<div class=\"align-items-center mb-5 row\">\n",
              "<div class=\"col-lg-8 col-md-10 col-xl-7 me-auto ms-auto\">\n",
              "<h2 class=\"h5 mb-1 text-primary\">Welcome To CUI</h2>\n",
              "<h3 class=\"fw-bold h1 text-dark\">Some Statistics About CUI</h3>\n",
              "</div>\n",
              "</div>\n",
              "<div class=\"align-items-center row\">\n",
              "<div class=\"col-lg-11 col-xl-9 me-auto ms-auto\">\n",
              "<div class=\"gx-3 gy-5 row\">\n",
              "<div class=\"col-md-3\">\n",
              "<div>\n",
              "<h2 class=\"display-3 fw-bold text-primary\">07</h2>\n",
              "<h3 class=\"fs-6 fw-bold mb-0 text-dark\">Campuses</h3>\n",
              "</div>\n",
              "</div>\n",
              "<div class=\"col-md-3\">\n",
              "<div>\n",
              "<h2 class=\"display-3 fw-bold text-primary\">100</h2>\n",
              "<h3 class=\"fs-6 fw-bold mb-0 text-dark\">Degree Programs</h3>\n",
              "</div>\n",
              "</div>\n",
              "<div class=\"col-md-3\">\n",
              "<div>\n",
              "<h2 class=\"display-3 fw-bold text-primary\">33,744</h2>\n",
              "<h3 class=\"fs-6 fw-bold mb-0 text-dark\">Enrolled Students</h3>\n",
              "</div>\n",
              "</div>\n",
              "<div class=\"col-md-3\">\n",
              "<div>\n",
              "<h2 class=\"display-3 fw-bold text-primary\">675</h2>\n",
              "<h3 class=\"fs-6 fw-bold mb-0 text-dark\">Phd Students</h3>\n",
              "</div>\n",
              "</div>\n",
              "<div class=\"col-md-3\">\n",
              "<div>\n",
              "<h2 class=\"display-3 fw-bold text-primary\">5000</h2>\n",
              "<h3 class=\"fs-6 fw-bold mb-0 text-dark\">MS Students</h3>\n",
              "</div>\n",
              "</div>\n",
              "<div class=\"col-md-3\">\n",
              "<div>\n",
              "<h2 class=\"display-3 fw-bold text-primary\">1077</h2>\n",
              "<h3 class=\"fs-6 fw-bold mb-0 text-dark\">PhD Faculty</h3>\n",
              "</div>\n",
              "</div>\n",
              "<div class=\"col-md-3\">\n",
              "<div>\n",
              "<h2 class=\"display-3 fw-bold text-primary\">02</h2>\n",
              "<h3 class=\"fs-6 fw-bold mb-0 text-dark\">Ranked in Research</h3>\n",
              "</div>\n",
              "</div>\n",
              "<div class=\"col-md-3\">\n",
              "<div>\n",
              "<h2 class=\"display-3 fw-bold text-primary\">01</h2>\n",
              "<h3 class=\"fs-6 fw-bold mb-0 text-dark\">Ranked in IT</h3>\n",
              "</div>\n",
              "</div>\n",
              "</div>\n",
              "</div>\n",
              "</div>\n",
              "</div>\n",
              "</section>\n",
              "<section class=\"pb-5 pt-5\">\n",
              "<div class=\"container-fluid\">\n",
              "<div class=\"row row-cols-lg-2\">\n",
              "<div class=\"col-lg-4\">\n",
              "<div class=\"col-lg-12 order-lg-1 py-3 text-center hover11\">\n",
              "<div>\n",
              "<div class=\"bg-white rounded\">\n",
              "<figure><img alt=\"...\" class=\"img-fluid rounded-1 w-100\" height=\"250\" src=\"img/founderrector.jpg\" width=\"250\"/></figure>\n",
              "<div class=\"p-4 text-muted\">\n",
              "<h3 class=\"fw-bold h4 mb-1 text-dark\">Founder Rector</h3>\n",
              "<h4 class=\"fw-bold h6 mb-3\">Dr. Syed Muhammad Junaid Zaidi, H.I., S.I.</h4>\n",
              "<p>Dr. S. M. Junaid Zaidi, H.I., S.I. is the Founder Rector of the COMSATS University Islamabad (CUI), Pakistan’s first exclusive institute of information technology. The CUI was awarded Charter by the Government of Pakistan in 2000 and in less than a decade, it has grown into a quality institution of higher learning under his able leadership...</p>\n",
              "<a class=\"btn btn-primary fw-bold pb-2 pe-4 ps-4 pt-2\" href=\"founderRectorsProfile.aspx\">Read More</a>\n",
              "</div>\n",
              "</div>\n",
              "</div>\n",
              "</div>\n",
              "</div>\n",
              "<div class=\"col-lg-8 pt-3\">\n",
              "<div class=\"gy-4 justify-content-center row row-cols-lg-3 row-cols-md-2 hover15\">\n",
              "<div>\n",
              "<div class=\"bg-white rounded\">\n",
              "<figure><img alt=\"...\" class=\"img-fluid rounded-1 w-100\" height=\"250\" src=\"img/prospectus.jpg\" width=\"250\"/></figure>\n",
              "<div class=\"p-4 text-muted\">\n",
              "<h3 class=\"fw-bold h4 mb-1 text-dark\">Prospectus</h3>\n",
              "<h4 class=\"h6 mb-3\">Prospectus &amp; Admission Guide</h4><a class=\"btn btn-primary fw-bold pb-2 pe-4 ps-4 pt-2\" href=\"http://islamabad.comsats.edu.pk/prospectus.aspx\" target=\"_blank\">View Details</a>\n",
              "</div>\n",
              "</div>\n",
              "</div>\n",
              "<div>\n",
              "<div class=\"bg-white rounded\">\n",
              "<figure><img alt=\"...\" class=\"img-fluid rounded-1 w-100\" height=\"250\" src=\"img/ranking.jpg\" width=\"250\"/></figure>\n",
              "<div class=\"p-4 text-muted\">\n",
              "<h3 class=\"fw-bold h4 mb-1 text-dark\">Rankings</h3>\n",
              "<h4 class=\"h6 mb-3\">CUI’s Rankings &amp; Reputation</h4><a class=\"btn btn-primary fw-bold pb-2 pe-4 ps-4 pt-2\" href=\"AboutUs.aspx\">View Details</a>\n",
              "</div>\n",
              "</div>\n",
              "</div>\n",
              "<div>\n",
              "<div class=\"bg-white rounded\">\n",
              "<figure><img alt=\"...\" class=\"img-fluid rounded-1 w-100\" height=\"250\" src=\"img/graduate_output.JPG\" width=\"250\"/></figure>\n",
              "<div class=\"p-4 text-muted\">\n",
              "<h3 class=\"fw-bold h4 mb-1 text-dark\">Graduate Output</h3>\n",
              "<h4 class=\"h6 mb-3\">Total number of Graduates</h4><a class=\"btn btn-primary fw-bold pb-2 pe-4 ps-4 pt-2\" href=\"GraduatesOutput.aspx\">View Details</a>\n",
              "</div>\n",
              "</div>\n",
              "</div>\n",
              "</div>\n",
              "<div class=\"gy-4 justify-content-center mt-1 row row-cols-lg-3 row-cols-md-2 hover06\">\n",
              "<div>\n",
              "<div class=\"bg-white rounded\">\n",
              "<figure><img alt=\"...\" class=\"img-fluid rounded-1 w-100\" height=\"250\" src=\"img/telephone.jpg\" width=\"250\"/></figure>\n",
              "<div class=\"p-4 text-muted\">\n",
              "<h3 class=\"fw-bold h4 mb-1 text-dark\">Telephone Directory</h3>\n",
              "<h4 class=\"h6 mb-3\">Online Telephone Directory</h4><a class=\"btn btn-primary fw-bold pb-2 pe-4 ps-4 pt-2\" href=\"http://ww2.comsats.edu.pk/telephonedirectory/\" target=\"_blank\">View Details</a>\n",
              "</div>\n",
              "</div>\n",
              "</div>\n",
              "<div>\n",
              "<div class=\"bg-white rounded\">\n",
              "<figure><img alt=\"...\" class=\"img-fluid rounded-1 w-100\" height=\"250\" src=\"img/tender.jpg\" width=\"250\"/></figure>\n",
              "<div class=\"p-4 text-muted\">\n",
              "<h3 class=\"fw-bold h4 mb-1 text-dark\">Tenders</h3>\n",
              "<h4 class=\"h6 mb-3\">Advertisements and Tenders</h4><a class=\"btn btn-primary fw-bold pb-2 pe-4 ps-4 pt-2\" href=\"http://ww2.comsats.edu.pk/ro/Advertisements.aspx\" target=\"_blank\">View Details</a>\n",
              "</div>\n",
              "</div>\n",
              "</div>\n",
              "<div>\n",
              "<div class=\"bg-white rounded\">\n",
              "<figure><img alt=\"...\" class=\"img-fluid rounded-1 w-100\" height=\"250\" src=\"img/download.jpg\" width=\"250\"/></figure>\n",
              "<div class=\"p-4 text-muted\">\n",
              "<h3 class=\"fw-bold h4 mb-1 text-dark\">Downloads</h3>\n",
              "<h4 class=\"h6 mb-3\">Download Important Documents</h4><a class=\"btn btn-primary fw-bold pb-2 pe-4 ps-4 pt-2\" data-bs-target=\"#downloadModal\" data-bs-toggle=\"modal\" href=\"#\">View Details</a>\n",
              "</div>\n",
              "</div>\n",
              "</div>\n",
              "</div>\n",
              "</div>\n",
              "</div>\n",
              "</div>\n",
              "</section>\n",
              "<!-- Modal -->\n",
              "<div aria-hidden=\"true\" aria-labelledby=\"downloadModalLabel\" class=\"modal fade\" id=\"downloadModal\" tabindex=\"-1\">\n",
              "<div class=\"modal-dialog modal-lg\">\n",
              "<div class=\"modal-content\">\n",
              "<!-- Modal Header -->\n",
              "<div class=\"modal-header\">\n",
              "<h4 class=\"modal-title text-dark\">Downloads</h4>\n",
              "<button class=\"close\" data-bs-dismiss=\"modal\" type=\"button\">×</button>\n",
              "</div>\n",
              "<!-- Modal body -->\n",
              "<div class=\"modal-body\">\n",
              "<div class=\"row\">\n",
              "<div class=\"col-sm-12 col-lg-6 col-md-6\">\n",
              "<ul style=\"list-style:none;\">\n",
              "<li><h4 class=\"text-dark\">Harassment Committee and Harassment Rules</h4></li>\n",
              "<li><a href=\"NEFiles/Notification-01-(2022).pdf\" target=\"_blank\"><i class=\"fa fa-arrow-right size-14\"></i> Notification 01 (2022)</a></li>\n",
              "<li><a href=\"NEFiles/Rules-regarding-Hrassment-Sexual-Harassment-and-Abuse-of-Authority-2009.pdf\" target=\"_blank\"><i class=\"fa fa-arrow-right size-14\"></i> Rules regarding Hrassment Sexual Harassment and Abuse of Authority 2009</a></li>\n",
              "<li><a href=\"NEFiles/SEXUALHARASSMENT-POLICY-HEC.pdf\" target=\"_blank\"><i class=\"fa fa-arrow-right size-14\"></i> SEXUAL HARASSMENT POLICY HEC</a></li>\n",
              "<li><a href=\"NEFiles/women-protection-bill-2010.pdf\" target=\"_blank\"><i class=\"fa fa-arrow-right size-14\"></i> Women Protection Bill 2010</a></li>\n",
              "</ul>\n",
              "<hr/>\n",
              "<ul id=\"downloads\" style=\"list-style:none;\">\n",
              "<li><a href=\"NEFiles/SoPs-for-Degree-Verification-Process-Updated10-03-2022.pdf\" target=\"_blank\"><i class=\"fa fa-arrow-right size-14\"></i> SoPs for Degree Verification Process</a></li>\n",
              "<li><a href=\"NEFiles/CUI-Campus-Director(s)-and-Pro-Rector(s)-Appointment-Application-Form-with-Self-Assesment-proforma.docx\" target=\"_blank\"><i class=\"fa fa-arrow-right size-14\"></i>  CUI Campus Director(s) and Pro-Rector(s) Appointment Application Form</a></li>\n",
              "<li><a href=\"NEFiles/CUI-Registrar-Appointment-Application-Form.docx\" target=\"_blank\"><i class=\"fa fa-arrow-right size-14\"></i>  CUI Registrar Appointment Application Form</a></li>\n",
              "<li><a href=\"NEFiles/CUI-Registrar-Appointment-Application-Form.docx\" target=\"_blank\"><i class=\"fa fa-arrow-right size-14\"></i>  CUI Controller of Examinations Appointment Application Form</a></li>\n",
              "<li><a href=\"http://ww2.comsats.edu.pk/scholarships/Files/Invitation-of-Applications-for-QH.docx\" target=\"_blank\"><i class=\"fa fa-arrow-right size-14\"></i>  Invitation for Qarz e Hasna FALL 2017</a></li>\n",
              "<li><a href=\"http://ww2.comsats.edu.pk/scholarships/Files/QARZ-E-Hasana-Form.docx\" target=\"_blank\"><i class=\"fa fa-arrow-right size-14\"></i>  Qarz e Hasna Form for FALL 2017</a></li>\n",
              "<li><a href=\"http://ww2.comsats.edu.pk/ro/GraduateForms.aspx\" target=\"_blank\"><i class=\"fa fa-arrow-right size-14\"></i>  Graduate Students Application Forms</a></li>\n",
              "<li><a href=\"http://ww2.comsats.edu.pk/ciitblogs/files2/Coaching-Registration-Form.doc\" target=\"_blank\"><i class=\"fa fa-arrow-right size-14\"></i>  Summer Cricket Coaching Camp - Registration Form</a></li>\n",
              "<li><a href=\"http://www.comsats.edu.pk/NEFIles/Flowers Valley in Sky Garden Islamabad.doc\" target=\"_blank\"><i class=\"fa fa-arrow-right size-14\"></i>  CEHF - Flowers Valley in Sky Garden Islamabad</a></li>\n",
              "<li><a href=\"/NEFiles/eligibilitycriteria.pdf\" target=\"_blank\"><i class=\"fa fa-arrow-right size-14\"></i>  Eligibility Criteria - Faculty Positions</a></li>\n",
              "<li><a href=\"/NEFiles/ADEligibilityCriteria.pdf\" target=\"_blank\"><i class=\"fa fa-arrow-right size-14\"></i>  Eligibility Criteria - (Art &amp; Design)</a></li>\n",
              "<li><a href=\"/NEFiles/Eligibility-Criteria-for-Different-Positions.xlsx\" target=\"_blank\"><i class=\"fa fa-arrow-right size-14\"></i>  Eligibility Criteria - Non-Faculty Positions</a></li>\n",
              "<li><a href=\"/NEFiles/Images/Tender Application Form.doc\" target=\"_blank\"><i class=\"fa fa-arrow-right size-14\"></i>  Tender Application Form</a></li>\n",
              "<li><a href=\"http://ww2.comsats.edu.pk/ciitblogs/BlogsDetailsOuter.aspx?ArticleId=247\"><i class=\"fa fa-arrow-right size-14\"></i>  CEHF Documents</a></li>\n",
              "</ul>\n",
              "</div>\n",
              "<div class=\"col-sm-12 col-lg-6 col-md-6\">\n",
              "<ul style=\"list-style:none;\">\n",
              "<li><a href=\"#\"> <h4 class=\"text-dark\">Job Application Form</h4></a>\n",
              "<li><a href=\"/NEFiles/Faculty_Job_Application_Form_130415.doc\" target=\"_blank\"><i class=\"fa fa-arrow-right size-14\"></i> Ms Word Format - For Faculty</a></li>\n",
              "<li><a href=\"/NEFiles/Faculty_Job_Application_Form_130415.pdf\" target=\"_blank\"><i class=\"fa fa-arrow-right size-14\"></i> PDF Format - For Faculty</a></li>\n",
              "<li><a href=\"/NEFiles/NON_faculty_job_application_form.pdf\" target=\"_blank\"><i class=\"fa fa-arrow-right size-14\"></i> PDF Format - For Non-Faculty</a></li>\n",
              "</li></ul>\n",
              "<hr/>\n",
              "<ul style=\"list-style:none;\">\n",
              "<li><a href=\"http://islamabad.comsats.edu.pk/ApplicationForm/Nomination%20Form%20BFGI_2011.pdf\"><i class=\"fa fa-arrow-right size-14\"></i>  BF&amp;GI Nomination Form </a></li>\n",
              "<li><a href=\"http://islamabad.comsats.edu.pk/ApplicationForm/Nomination%20Form%20CPF_2011.pdf\"><i class=\"fa fa-arrow-right size-14\"></i>  CPF Nomination form </a></li>\n",
              "<li><a href=\"/NEFiles/Images/Nomination Form GPF_2011.pdf\" target=\"_blank\"><i class=\"fa fa-arrow-right size-14\"></i>  GPF Nomination form</a></li>\n",
              "<li><a href=\"/NEFiles/Images/Nomination_Form Pension_2011.pdf\" target=\"_blank\"><i class=\"fa fa-arrow-right size-14\"></i> Pension Nomination Form</a></li>\n",
              "<li><a href=\"/NEFiles/Images/COMPLAINT_FORM.pdf\" target=\"_blank\"><i class=\"fa fa-arrow-right size-14\"></i> Complaint Form</a></li>\n",
              "</ul>\n",
              "</div></div>\n",
              "</div>\n",
              "<div class=\"modal-footer\">\n",
              "<button class=\"btn btn-secondary\" data-bs-dismiss=\"modal\" type=\"button\">Close</button>\n",
              "</div>\n",
              "</div>\n",
              "</div>\n",
              "</div>\n",
              "<section class=\"background-cover jarallax pb-5 pt-5\" style=\"background-image:url('img/main.jpg');\">\n",
              "<div class=\"container-fluid\">\n",
              "<div class=\"align-items-center pb-3 pt-4 row\">\n",
              "<div class=\"col-lg-12 text-center\">\n",
              "<h3 class=\"fw-bold h1 mb-3 pb-4 text-white\">Video Gallery</h3>\n",
              "</div>\n",
              "<div id=\"nv\">\n",
              "<div class=\"container\">\n",
              "<div class=\"row\">\n",
              "<div class=\"container\">\n",
              "<div class=\"row\">\n",
              "<div class=\"col-md-4\">\n",
              "<div class=\"thumbnail\"> <a data-fancybox=\"video-gallery\" href=\"https://www.youtube.com/embed/k3fKsa_5-H8\"><img class=\"img-fluid\" src=\"img/conv2022.jpg\"/></a>\n",
              "</div>\n",
              "</div>\n",
              "<div class=\"col-md-4\">\n",
              "<div class=\"thumbnail\"> <a data-fancybox=\"video-gallery\" href=\"https://www.youtube.com/embed/Zi98PWr48u0\"><img class=\"img-fluid\" src=\"img/ideas.jpg\"/></a>\n",
              "</div>\n",
              "</div>\n",
              "<div class=\"col-md-4\">\n",
              "<div class=\"thumbnail\"> <a data-fancybox=\"video-gallery\" href=\"https://www.youtube.com/embed/kGzmIXsvu8k\"><img class=\"img-fluid\" src=\"img/library.jpg\"/></a>\n",
              "</div>\n",
              "</div>\n",
              "</div>\n",
              "</div>\n",
              "</div>\n",
              "</div>\n",
              "</div>\n",
              "</div>\n",
              "<div class=\"align-items-center pb-3 pt-4 row\">\n",
              "<div class=\"col-lg-12 text-center\"><a class=\"btn btn-lg btn-primary fw-bold\" href=\"\">View More</a>\n",
              "</div>\n",
              "</div>\n",
              "</div>\n",
              "</section>\n",
              "<section class=\"bg-light pb-5 pt-5 text-center\">\n",
              "<div class=\"container pb-3 pt-3\">\n",
              "<div class=\"row\">\n",
              "<div class=\"col-lg-9 me-auto ms-auto\">\n",
              "<div class=\"carousel slide\" data-bs-ride=\"carousel\" id=\"carousel2\">\n",
              "<div class=\"carousel-inner\">\n",
              "<div class=\"carousel-item active\">\n",
              "<img class=\"mb-3 rounded rounded-circle\" src=\"assets/img/Abuelgasim%20Ibrahim%20Idriss%20Musa.jpg\"/>\n",
              "<h3 class=\"mb-3\">CUI is home to students from all over the world; with its great academic programs, supportive faculty, staff and social environment. CUI has given me confidence and taught me to never stop yearning for knowledge. I have become an independent individual and am equipped with skills necessary to be positive and confident to face the social world ahead of me. Thanks CUI and Thanks Pakistan.</h3>\n",
              "<div class=\"\"> <span>Sudanese Alumnus -</span> <span class=\"text-primary\">Abuelgasim Ibrahim Idriss Musa</span>\n",
              "</div>\n",
              "</div>\n",
              "<div class=\"carousel-item\">\n",
              "<img class=\"mb-3 rounded-circle\" src=\"assets/img/Essa_1.jpg\"/>\n",
              "<h3 class=\"mb-3\">Unlike the image portrayed abroad, Pakistan is a very safe place to live and study. Pakistanis love foreigners and have always made me feel at home. I would definitely recommend CUI to other prospective students.</h3>\n",
              "<div class=\"\"> <span>Palestinian Alumnus -</span> <span class=\"text-primary\">Essa M. I. Elhamalawia</span>\n",
              "</div>\n",
              "</div>\n",
              "<div class=\"carousel-item\">\n",
              "<img class=\"mb-3 rounded-circle\" src=\"assets/img/Haneen%20Anwar.jpg\"/>\n",
              "<h3 class=\"mb-3\">I was in search of a scholarship to fund my education and was privileged to receive the very competitive Association of Commonwealth Universities (ACU) scholarship to study at CUI. This opportunity to studying molecular biology has given me the rare chance of contributing towards research on diseases that will hopefully help improve lives.</h3>\n",
              "<div class=\"\"> <span>Jordanian Alumna -</span> <span class=\"text-primary\">Haneen Anwar</span>\n",
              "</div>\n",
              "</div>\n",
              "<div class=\"carousel-item\">\n",
              "<img class=\"mb-3 rounded-circle\" src=\"assets/img/Rumeng HE.jpg\"/>\n",
              "<h3 class=\"mb-3\">My experience can simply be described as amazing and fulfilling. Studying in such a serene and comfortable environment under the tutelage of professors greatly helped my academic pursuit. Hence, I look forward to a future academic engagement with CUI again. </h3>\n",
              "<div class=\"\"> <span>Chinese Alumna -</span> <span class=\"text-primary\">Rumeng HE</span>\n",
              "</div>\n",
              "</div>\n",
              "</div>\n",
              "<ol class=\"carousel-indicators mt-4 position-relative\">\n",
              "<li class=\"active bg-primary\" data-bs-slide-to=\"0\" data-bs-target=\"#carousel2\"></li>\n",
              "<li class=\"bg-primary\" data-bs-slide-to=\"1\" data-bs-target=\"#carousel2\"></li>\n",
              "<li class=\"bg-primary\" data-bs-slide-to=\"2\" data-bs-target=\"#carousel2\"></li>\n",
              "<li class=\"bg-primary\" data-bs-slide-to=\"3\" data-bs-target=\"#carousel2\"></li>\n",
              "</ol>\n",
              "</div>\n",
              "</div>\n",
              "</div>\n",
              "</div>\n",
              "</section>\n",
              "</div>\n",
              "<section class=\"bg-primary pb-5 pt-5 text-white-50\">\n",
              "<div class=\"container pb-4 pt-4\">\n",
              "<div class=\"align-items-center gy-4 row\">\n",
              "<div class=\"col-lg-5 order-lg-last\">\n",
              "<img class=\"img-fluid\" src=\"img/Fill%20in.png\"/>\n",
              "</div>\n",
              "<div class=\"col-lg-7\">\n",
              "<h2 class=\"fw-bold text-white animate-charcter\">Join One of Our Amazing Campuses</h2>\n",
              "<p class=\"fw-bold mb-4\">CUI is vigorously involved in sharing expertise and knowledge from all over the world, with the aim of introducing latest developments in research and best practices within the present education environment.</p>\n",
              "<a class=\"btn btn-warning fw-bold pb-2 pe-4 ps-4 pt-2\" href=\"http://admissions.comsats.edu.pk/\" target=\"_blank\">Apply Now!</a>\n",
              "</div>\n",
              "</div>\n",
              "</div>\n",
              "</section>\n",
              "<footer class=\"bg-dark pt-5 text-white-50\">\n",
              "<div class=\"container\">\n",
              "<div class=\"align-items-center gy-3 row\">\n",
              "<div class=\"col-md\"> <a class=\"align-items-center d-inline-flex fw-bold h2 lh-1 link-light mb-0 text-decoration-none text-uppercase\" href=\"#\"> <img src=\"img/comsats_footer.png\"/></a>\n",
              "</div>\n",
              "<div class=\"col-md-auto\">\n",
              "<div class=\"d-inline-flex flex-wrap gap-2\"> <a aria-label=\"facebook\" class=\"btn btn-primary lh-1 p-2\" href=\"https://www.facebook.com/cuiofficial\"> <svg fill=\"currentColor\" height=\"20\" viewbox=\"0 0 24 24\" width=\"20\">\n",
              "<path d=\"M14 13.5h2.5l1-4H14v-2c0-1.03 0-2 2-2h1.5V2.14c-.326-.043-1.557-.14-2.857-.14C11.928 2 10 3.657 10 6.7v2.8H7v4h3V22h4v-8.5z\"></path>\n",
              "</svg> </a> <a aria-label=\"twitter\" class=\"btn btn-primary lh-1 p-2\" href=\"https://twitter.com/CUIofficial\"> <svg fill=\"currentColor\" height=\"20\" viewbox=\"0 0 24 24\" width=\"20\">\n",
              "<path d=\"M22.162 5.656a8.384 8.384 0 0 1-2.402.658A4.196 4.196 0 0 0 21.6 4c-.82.488-1.719.83-2.656 1.015a4.182 4.182 0 0 0-7.126 3.814 11.874 11.874 0 0 1-8.62-4.37 4.168 4.168 0 0 0-.566 2.103c0 1.45.738 2.731 1.86 3.481a4.168 4.168 0 0 1-1.894-.523v.052a4.185 4.185 0 0 0 3.355 4.101 4.21 4.21 0 0 1-1.89.072A4.185 4.185 0 0 0 7.97 16.65a8.394 8.394 0 0 1-6.191 1.732 11.83 11.83 0 0 0 6.41 1.88c7.693 0 11.9-6.373 11.9-11.9 0-.18-.005-.362-.013-.54a8.496 8.496 0 0 0 2.087-2.165z\"></path>\n",
              "</svg> </a> <a aria-label=\"instagram\" class=\"btn btn-primary lh-1 p-2\" href=\"https://www.instagram.com/cuinews\"> <svg fill=\"currentColor\" height=\"20\" viewbox=\"0 0 24 24\" width=\"20\">\n",
              "<path d=\"M12 2c2.717 0 3.056.01 4.122.06 1.065.05 1.79.217 2.428.465.66.254 1.216.598 1.772 1.153a4.908 4.908 0 0 1 1.153 1.772c.247.637.415 1.363.465 2.428.047 1.066.06 1.405.06 4.122 0 2.717-.01 3.056-.06 4.122-.05 1.065-.218 1.79-.465 2.428a4.883 4.883 0 0 1-1.153 1.772 4.915 4.915 0 0 1-1.772 1.153c-.637.247-1.363.415-2.428.465-1.066.047-1.405.06-4.122.06-2.717 0-3.056-.01-4.122-.06-1.065-.05-1.79-.218-2.428-.465a4.89 4.89 0 0 1-1.772-1.153 4.904 4.904 0 0 1-1.153-1.772c-.248-.637-.415-1.363-.465-2.428C2.013 15.056 2 14.717 2 12c0-2.717.01-3.056.06-4.122.05-1.066.217-1.79.465-2.428a4.88 4.88 0 0 1 1.153-1.772A4.897 4.897 0 0 1 5.45 2.525c.638-.248 1.362-.415 2.428-.465C8.944 2.013 9.283 2 12 2zm0 5a5 5 0 1 0 0 10 5 5 0 0 0 0-10zm6.5-.25a1.25 1.25 0 0 0-2.5 0 1.25 1.25 0 0 0 2.5 0zM12 9a3 3 0 1 1 0 6 3 3 0 0 1 0-6z\"></path>\n",
              "</svg> </a> <a aria-label=\"Blog\" class=\"btn btn-primary lh-1 p-2\" href=\"http://ww2.comsats.edu.pk/ciitblogs\"> <i class=\"fa-blog fas\"></i> </a> <a aria-label=\"Photo Gallery\" class=\"btn btn-primary lh-1 p-2\" href=\"http://ww2.comsats.edu.pk/photogallery\"> <svg class=\"bi bi-card-image\" fill=\"currentColor\" height=\"20\" viewbox=\"0 0 16 16\" width=\"20\" xmlns=\"http://www.w3.org/2000/svg\">\n",
              "<path d=\"M6.002 5.5a1.5 1.5 0 1 1-3 0 1.5 1.5 0 0 1 3 0z\"></path>\n",
              "<path d=\"M1.5 2A1.5 1.5 0 0 0 0 3.5v9A1.5 1.5 0 0 0 1.5 14h13a1.5 1.5 0 0 0 1.5-1.5v-9A1.5 1.5 0 0 0 14.5 2h-13zm13 1a.5.5 0 0 1 .5.5v6l-3.775-1.947a.5.5 0 0 0-.577.093l-3.71 3.71-2.66-1.772a.5.5 0 0 0-.63.062L1.002 12v.54A.505.505 0 0 1 1 12.5v-9a.5.5 0 0 1 .5-.5h13z\"></path>\n",
              "</svg> </a>\n",
              "</div>\n",
              "</div>\n",
              "</div>\n",
              "<hr class=\"mb-4 mt-4\"/>\n",
              "<div class=\"row\">\n",
              "<div class=\"col-lg-8 py-3\">\n",
              "<h2 class=\"fw-bold h5 mb-4 text-warning\">Quick Links</h2>\n",
              "<div class=\"row animfooter\">\n",
              "<div class=\"col-sm-3\">\n",
              "<ul class=\"list-unstyled\">\n",
              "<li class=\"mb-3\"> <a class=\"link-light text-decoration-none\" href=\"http://comsats.edu.pk/NEFiles/SoPs-for-Degree-Verification-Process-Updated10-03-2022.pdf\" target=\"_blank\">SoPs for Degree Verification Process</a>\n",
              "</li>\n",
              "<li class=\"mb-3\"> <a class=\"link-light text-decoration-none\" href=\"http://comsats.edu.pk/NEFiles/Agreement-on-Solar-Power-300KW.pdf\" target=\"_blank\">Agreement on Solar Power 300 KW</a>\n",
              "</li>\n",
              "<li class=\"mb-3\"> <a class=\"link-light text-decoration-none\" href=\"http://comsats.edu.pk/NEFiles/Agreement-on-SSC.pdf\" target=\"_blank\">Agreement on SSC</a>\n",
              "</li>\n",
              "<li class=\"mb-3\"> <a class=\"link-light text-decoration-none\" href=\"http://ww2.comsats.edu.pk/pollensonline/\" target=\"_blank\">Pollens Online</a>\n",
              "</li>\n",
              "<li class=\"mb-3\"> <a class=\"link-light text-decoration-none\" href=\"http://ww2.comsats.edu.pk/cisco\" target=\"_blank\">Cisco Academy</a>\n",
              "</li>\n",
              "</ul>\n",
              "</div>\n",
              "<div class=\"col-sm-3\">\n",
              "<ul class=\"list-unstyled\">\n",
              "<li class=\"mb-3\"> <a class=\"link-light text-decoration-none\" href=\"https://www.comsats.edu.pk/NEFiles/Notification-Revised_Graduate_Calendar.pdf\" target=\"_blank\">Revised Graduate Calendar</a>\n",
              "</li>\n",
              "<li class=\"mb-3\"> <a class=\"link-light text-decoration-none\" href=\"https://www.comsats.edu.pk/NEFiles/Notification-Revised_Undergraduate_Calendar.pdf\" target=\"_blank\">Revised Undergraduate Calendar</a>\n",
              "</li>\n",
              "<li class=\"mb-3\"> <a class=\"link-light text-decoration-none\" href=\"http://ww2.comsats.edu.pk/ciitnews/\" target=\"_blank\">News Portal</a>\n",
              "</li>\n",
              "<li class=\"mb-3\"> <a class=\"link-light text-decoration-none\" href=\"http://ww2.comsats.edu.pk/cag\" target=\"_blank\">Comsats Art Gallery</a>\n",
              "</li>\n",
              "<li class=\"mb-3\"> <a class=\"link-light text-decoration-none\" href=\"http://mappk.org/\" target=\"_blank\">MAPP</a>\n",
              "</li>\n",
              "</ul>\n",
              "</div>\n",
              "<div class=\"col-sm-3\">\n",
              "<ul class=\"list-unstyled\">\n",
              "<li class=\"mb-3\"> <a class=\"link-light text-decoration-none\" href=\"http://comsats.edu.pk/NEFiles/NON_faculty_job_application_form.pdf\" target=\"_blank\">Job Application Form Non-Faculty</a>\n",
              "</li>\n",
              "<li class=\"mb-3\"> <a class=\"link-light text-decoration-none\" href=\"https://www.comsats.edu.pk/nefiles/eligibilitycriteria_nonfacultyposition.pdf\" target=\"_blank\">Eligibility Criteria (Non Faculty)</a>\n",
              "</li>\n",
              "<li class=\"mb-3\"> <a class=\"link-light text-decoration-none\" href=\"https://www.comsats.edu.pk/NEFiles/eligibilitycriteria.pdf\" target=\"_blank\">Eligibility Criteria - Faculty</a>\n",
              "</li>\n",
              "<li class=\"mb-3\"> <a class=\"link-light text-decoration-none\" href=\"AboutUs.aspx\">Rankings</a>\n",
              "</li>\n",
              "</ul>\n",
              "</div>\n",
              "<div class=\"col-sm-3\">\n",
              "<ul class=\"list-unstyled\">\n",
              "<li class=\"mb-3\"> <a class=\"link-light text-decoration-none\" href=\"qs_stars.aspx\">Qs Stars</a>\n",
              "</li>\n",
              "<li class=\"mb-3\"> <a class=\"link-light text-decoration-none\" href=\"http://ww2.comsats.edu.pk/faculty/SearchByName.aspx\">Search Faculty &amp; Staff</a>\n",
              "</li>\n",
              "<li class=\"mb-3\"> <a class=\"link-light text-decoration-none\" href=\"http://cuonline.comsats.edu.pk/publicaccess\">Course Catalogue</a>\n",
              "</li>\n",
              "<li class=\"mb-3\"> <a class=\"link-light text-decoration-none\" href=\"https://www.secp.gov.pk/media-center/guide-books/general-guide-books/\">Access to SECP Guidebook</a>\n",
              "</li>\n",
              "<li class=\"mb-3\"> <a class=\"link-light text-decoration-none\" href=\"awards.aspx\">Awards</a>\n",
              "</li>\n",
              "</ul>\n",
              "</div>\n",
              "</div>\n",
              "</div>\n",
              "<div class=\"col-lg-4 py-3\">\n",
              "<iframe allowfullscreen=\"\" frameborder=\"0\" height=\"300\" src=\"https://www.google.com/maps/embed?pb=!1m14!1m8!1m3!1d13284.823618856048!2d73.1565933!3d33.6518263!3m2!1i1024!2i768!4f13.1!3m3!1m2!1s0x0%3A0xe6b55e05d462beb1!2sCOMSATS+Institute+of+Information+Technology!5e0!3m2!1sen!2s!4v1440748016287\" style=\"border: 0; border-radius: 10px 10PX 10px 10px;\" width=\"100%\"></iframe>\n",
              "</div>\n",
              "</div>\n",
              "<div class=\"pb-3 pt-3 small\">\n",
              "<hr class=\"mt-0\"/>\n",
              "<div class=\"align-items-center row\">\n",
              "<div class=\"col-md pb-2 pt-2\">\n",
              "<p class=\"mb-0\">© 2023. All Rights Reserved - COMSATS University Islamabad</p>\n",
              "</div>\n",
              "</div>\n",
              "</div>\n",
              "</div>\n",
              "</footer>\n",
              "</form>\n",
              "</main>\n",
              "<script src=\"assets/js/popper.min.js\"></script>\n",
              "<script src=\"bootstrap/js/bootstrap.min.js\"></script>\n",
              "<script src=\"pgia/lib/pgia.js\"></script>\n",
              "<script src=\"assets/js/jquery-3.3.1.min.js\"></script>\n",
              "<script src=\"assets/js/jquery.scrollbar.min.js\"></script>\n",
              "<script src=\"https://cdnjs.cloudflare.com/ajax/libs/fancybox/3.0.47/jquery.fancybox.min.js\"></script>\n",
              "<script src=\"assets/js/index.js\"></script>\n",
              "<script src=\"https://unpkg.com/jarallax@2.0\"></script>\n",
              "<script src=\"https://unpkg.com/jarallax@2.0/dist/jarallax-video.min.js\"></script>\n",
              "<script>\n",
              "            jarallax(document.querySelectorAll('.jarallax'), {\n",
              "                speed: 0.2\n",
              "            });\n",
              "        </script>\n",
              "<script>\n",
              "      jQuery(document).ready(function(){\n",
              "    jQuery('.scrollbar-dynamic').scrollbar();\n",
              "});\n",
              "    </script>\n",
              "<script>\n",
              "    var tooltipTriggerList = [].slice.call(document.querySelectorAll('[data-bs-toggle=\"tooltip\"]'))\n",
              "var tooltipList = tooltipTriggerList.map(function (tooltipTriggerEl) {\n",
              "    return new bootstrap.Tooltip(tooltipTriggerEl)\n",
              "})\n",
              "</script>\n",
              "<script>\n",
              "    var tooltipTriggerList = [].slice.call(document.querySelectorAll('[data-bs-toggle=\"tooltip\"]'))\n",
              "var tooltipList = tooltipTriggerList.map(function (tooltipTriggerEl) {\n",
              "    return new bootstrap.Tooltip(tooltipTriggerEl)\n",
              "})\n",
              "</script>\n",
              "<script async=\"\" crossorigin=\"anonymous\" integrity=\"sha384-GNFwBvfVxBkLMJpYMOABq3c+d3KnQxudP/mGPkzpZSTYykLBNsZEnG2D9G/X/+7D\" src=\"https://cdn.jsdelivr.net/npm/masonry-layout@4.2.2/dist/masonry.pkgd.min.js\"></script>\n",
              "<script>\n",
              "$(document).ready(function(){\n",
              "  // Show the Modal on load\n",
              "  $(\"#myModal\").modal(\"show\");\n",
              "    \n",
              "  // Hide the Modal\n",
              "  $(\"#tBtn\").click(function(){\n",
              "    $(\"#tModal\").modal(\"hide\");\n",
              "  });\n",
              "});\n",
              "</script>\n",
              "<!-- The Modal -->\n",
              "</body>\n",
              "</html>"
            ]
          },
          "metadata": {},
          "execution_count": 16
        }
      ]
    },
    {
      "cell_type": "code",
      "source": [
        "aboutus =soup.find(attrs = {'class': 'lh-sm'})"
      ],
      "metadata": {
        "id": "79rwrzueMXoQ"
      },
      "execution_count": 17,
      "outputs": []
    },
    {
      "cell_type": "code",
      "source": [
        "aboutus"
      ],
      "metadata": {
        "colab": {
          "base_uri": "https://localhost:8080/"
        },
        "id": "mwG3zccHNRhH",
        "outputId": "0b0b7136-d9c9-4331-81b6-b116175523b3"
      },
      "execution_count": 18,
      "outputs": [
        {
          "output_type": "execute_result",
          "data": {
            "text/plain": [
              "<p class=\"lh-sm text-break\" style=\"text-align: justify; hyphens: auto; -webkit-hyphens: auto; word-spacing: -0.05em;\">COMSATS University Islamabad (CUI) started its journey in 1998, and established its first campus at Islamabad in April 1998. In August 2000, in recognition of CUI's achievements, the Federal Government granted it the status of a Degree Awarding Institute (DAI) through promulgation of its charter. ..\n",
              "<h4 class=\"text-white\">Vision</h4>\n",
              "<p class=\"lh-sm\" style=\"text-align: justify; hyphens: auto; -webkit-hyphens: auto; word-spacing: -0.05em;\">The COMSATS University Islamabad envisions assuming a truly national character for itself in the years to come. It envisions having presence in all provinces of the country. It sees for itself a position among the top five (5) universities in the country...<a class=\"btn btn-link text-warning\" href=\"aboutus.aspx\">Read More &gt;&gt;</a></p>\n",
              "</p>"
            ]
          },
          "metadata": {},
          "execution_count": 18
        }
      ]
    },
    {
      "cell_type": "code",
      "source": [
        "aboutus.text"
      ],
      "metadata": {
        "colab": {
          "base_uri": "https://localhost:8080/",
          "height": 109
        },
        "id": "VlsiEXF6Nhip",
        "outputId": "629a849f-5788-4aa2-fbb0-b4134cb91ac6"
      },
      "execution_count": 19,
      "outputs": [
        {
          "output_type": "execute_result",
          "data": {
            "text/plain": [
              "\"COMSATS University Islamabad (CUI) started its journey in 1998, and established its first campus at Islamabad in April 1998. In August 2000, in recognition of CUI's achievements, the Federal Government granted it the status of a Degree Awarding Institute (DAI) through promulgation of its charter. ..\\nVision\\nThe COMSATS University Islamabad envisions assuming a truly national character for itself in the years to come. It envisions having presence in all provinces of the country. It sees for itself a position among the top five (5) universities in the country...Read More >>\\n\""
            ],
            "application/vnd.google.colaboratory.intrinsic+json": {
              "type": "string"
            }
          },
          "metadata": {},
          "execution_count": 19
        }
      ]
    },
    {
      "cell_type": "code",
      "source": [
        "aboutus.text.replace('\\n' , \" \")"
      ],
      "metadata": {
        "colab": {
          "base_uri": "https://localhost:8080/",
          "height": 108
        },
        "id": "SOW9T2BGO3_Y",
        "outputId": "708f7501-3f0c-4683-eaaa-b8aed00139c8"
      },
      "execution_count": 20,
      "outputs": [
        {
          "output_type": "execute_result",
          "data": {
            "text/plain": [
              "\"COMSATS University Islamabad (CUI) started its journey in 1998, and established its first campus at Islamabad in April 1998. In August 2000, in recognition of CUI's achievements, the Federal Government granted it the status of a Degree Awarding Institute (DAI) through promulgation of its charter. .. Vision The COMSATS University Islamabad envisions assuming a truly national character for itself in the years to come. It envisions having presence in all provinces of the country. It sees for itself a position among the top five (5) universities in the country...Read More >> \""
            ],
            "application/vnd.google.colaboratory.intrinsic+json": {
              "type": "string"
            }
          },
          "metadata": {},
          "execution_count": 20
        }
      ]
    },
    {
      "cell_type": "code",
      "source": [
        "aboutcui =soup.find(attrs = {'class': 'lead mb-4 pe-sm-5'})"
      ],
      "metadata": {
        "id": "vdLmR8uxVWzv"
      },
      "execution_count": 21,
      "outputs": []
    },
    {
      "cell_type": "code",
      "source": [
        "aboutcui"
      ],
      "metadata": {
        "colab": {
          "base_uri": "https://localhost:8080/"
        },
        "id": "O7PsdvHeVuBv",
        "outputId": "2cb6c298-8cf5-4524-bbbb-8578c99ee6b4"
      },
      "execution_count": 22,
      "outputs": [
        {
          "output_type": "execute_result",
          "data": {
            "text/plain": [
              "<p class=\"lead mb-4 pe-sm-5\" style=\"text-align:justify; font-weight:400;\">The origins of the COMSATS University Islamabad (CUI) date back to 1998. The university is one of the leading universities of Pakistan with five (05) broad faculties including Engineering, Information Science and Technology, Business Administration and Architecture and Design with more than 36,000 students and offering 100-degree programs. The CUI is well-known for its trend-setting pedagogical approach, allowing for interdisciplinary methodologies to learning and problem solving, experimentation, and insight. It is ranked among top 3 universities of Pakistan and world’s best 800 universities...</p>"
            ]
          },
          "metadata": {},
          "execution_count": 22
        }
      ]
    },
    {
      "cell_type": "code",
      "source": [
        "aboutcui.text"
      ],
      "metadata": {
        "colab": {
          "base_uri": "https://localhost:8080/",
          "height": 109
        },
        "id": "0i_uPIcFXnbP",
        "outputId": "a78cc3c8-c605-48ea-d2a8-3ab95d4a2997"
      },
      "execution_count": 23,
      "outputs": [
        {
          "output_type": "execute_result",
          "data": {
            "text/plain": [
              "'The origins of the COMSATS University Islamabad (CUI) date back to 1998. The university is one of the leading universities of Pakistan with five (05) broad faculties including Engineering, Information Science and Technology, Business Administration and Architecture and Design with more than 36,000 students and offering 100-degree programs. The CUI is well-known for its trend-setting pedagogical approach, allowing for interdisciplinary methodologies to learning and problem solving, experimentation, and insight. It is ranked among top 3 universities of Pakistan and world’s best 800 universities...'"
            ],
            "application/vnd.google.colaboratory.intrinsic+json": {
              "type": "string"
            }
          },
          "metadata": {},
          "execution_count": 23
        }
      ]
    },
    {
      "cell_type": "code",
      "source": [
        "combined_text = aboutus.text + aboutcui.text"
      ],
      "metadata": {
        "id": "0fBL7qBKXyL0"
      },
      "execution_count": 24,
      "outputs": []
    },
    {
      "cell_type": "code",
      "source": [
        "print(combined_text)"
      ],
      "metadata": {
        "colab": {
          "base_uri": "https://localhost:8080/"
        },
        "id": "o90WpLKgYeR3",
        "outputId": "2fd1135d-ee9f-4c76-abba-58d076414a37"
      },
      "execution_count": 25,
      "outputs": [
        {
          "output_type": "stream",
          "name": "stdout",
          "text": [
            "COMSATS University Islamabad (CUI) started its journey in 1998, and established its first campus at Islamabad in April 1998. In August 2000, in recognition of CUI's achievements, the Federal Government granted it the status of a Degree Awarding Institute (DAI) through promulgation of its charter. ..\n",
            "Vision\n",
            "The COMSATS University Islamabad envisions assuming a truly national character for itself in the years to come. It envisions having presence in all provinces of the country. It sees for itself a position among the top five (5) universities in the country...Read More >>\n",
            "The origins of the COMSATS University Islamabad (CUI) date back to 1998. The university is one of the leading universities of Pakistan with five (05) broad faculties including Engineering, Information Science and Technology, Business Administration and Architecture and Design with more than 36,000 students and offering 100-degree programs. The CUI is well-known for its trend-setting pedagogical approach, allowing for interdisciplinary methodologies to learning and problem solving, experimentation, and insight. It is ranked among top 3 universities of Pakistan and world’s best 800 universities...\n"
          ]
        }
      ]
    },
    {
      "cell_type": "code",
      "source": [
        "combined_text"
      ],
      "metadata": {
        "colab": {
          "base_uri": "https://localhost:8080/",
          "height": 145
        },
        "id": "SQtP7hqdaT3L",
        "outputId": "529c69ca-32ed-4f89-8257-d73de7b54a13"
      },
      "execution_count": 26,
      "outputs": [
        {
          "output_type": "execute_result",
          "data": {
            "text/plain": [
              "\"COMSATS University Islamabad (CUI) started its journey in 1998, and established its first campus at Islamabad in April 1998. In August 2000, in recognition of CUI's achievements, the Federal Government granted it the status of a Degree Awarding Institute (DAI) through promulgation of its charter. ..\\nVision\\nThe COMSATS University Islamabad envisions assuming a truly national character for itself in the years to come. It envisions having presence in all provinces of the country. It sees for itself a position among the top five (5) universities in the country...Read More >>\\nThe origins of the COMSATS University Islamabad (CUI) date back to 1998. The university is one of the leading universities of Pakistan with five (05) broad faculties including Engineering, Information Science and Technology, Business Administration and Architecture and Design with more than 36,000 students and offering 100-degree programs. The CUI is well-known for its trend-setting pedagogical approach, allowing for interdisciplinary methodologies to learning and problem solving, experimentation, and insight. It is ranked among top 3 universities of Pakistan and world’s best 800 universities...\""
            ],
            "application/vnd.google.colaboratory.intrinsic+json": {
              "type": "string"
            }
          },
          "metadata": {},
          "execution_count": 26
        }
      ]
    },
    {
      "cell_type": "code",
      "source": [
        "text = combined_text.replace('\\n' , \"\")"
      ],
      "metadata": {
        "id": "JwJE5rvka9gJ"
      },
      "execution_count": 27,
      "outputs": []
    },
    {
      "cell_type": "code",
      "source": [
        "text"
      ],
      "metadata": {
        "colab": {
          "base_uri": "https://localhost:8080/",
          "height": 145
        },
        "id": "hIFepl-9f_EE",
        "outputId": "b2cb054d-f0cb-4ac1-e1ca-294140d6b923"
      },
      "execution_count": 28,
      "outputs": [
        {
          "output_type": "execute_result",
          "data": {
            "text/plain": [
              "\"COMSATS University Islamabad (CUI) started its journey in 1998, and established its first campus at Islamabad in April 1998. In August 2000, in recognition of CUI's achievements, the Federal Government granted it the status of a Degree Awarding Institute (DAI) through promulgation of its charter. ..VisionThe COMSATS University Islamabad envisions assuming a truly national character for itself in the years to come. It envisions having presence in all provinces of the country. It sees for itself a position among the top five (5) universities in the country...Read More >>The origins of the COMSATS University Islamabad (CUI) date back to 1998. The university is one of the leading universities of Pakistan with five (05) broad faculties including Engineering, Information Science and Technology, Business Administration and Architecture and Design with more than 36,000 students and offering 100-degree programs. The CUI is well-known for its trend-setting pedagogical approach, allowing for interdisciplinary methodologies to learning and problem solving, experimentation, and insight. It is ranked among top 3 universities of Pakistan and world’s best 800 universities...\""
            ],
            "application/vnd.google.colaboratory.intrinsic+json": {
              "type": "string"
            }
          },
          "metadata": {},
          "execution_count": 28
        }
      ]
    },
    {
      "cell_type": "code",
      "source": [
        "final_text= text.replace('>>', \"\")"
      ],
      "metadata": {
        "id": "Uzlh_nYvep0R"
      },
      "execution_count": 29,
      "outputs": []
    },
    {
      "cell_type": "code",
      "source": [
        "final_text"
      ],
      "metadata": {
        "colab": {
          "base_uri": "https://localhost:8080/",
          "height": 145
        },
        "id": "Y93WowEvgObh",
        "outputId": "5795d9d3-a452-43bb-edcb-2d419b3035d3"
      },
      "execution_count": 30,
      "outputs": [
        {
          "output_type": "execute_result",
          "data": {
            "text/plain": [
              "\"COMSATS University Islamabad (CUI) started its journey in 1998, and established its first campus at Islamabad in April 1998. In August 2000, in recognition of CUI's achievements, the Federal Government granted it the status of a Degree Awarding Institute (DAI) through promulgation of its charter. ..VisionThe COMSATS University Islamabad envisions assuming a truly national character for itself in the years to come. It envisions having presence in all provinces of the country. It sees for itself a position among the top five (5) universities in the country...Read More The origins of the COMSATS University Islamabad (CUI) date back to 1998. The university is one of the leading universities of Pakistan with five (05) broad faculties including Engineering, Information Science and Technology, Business Administration and Architecture and Design with more than 36,000 students and offering 100-degree programs. The CUI is well-known for its trend-setting pedagogical approach, allowing for interdisciplinary methodologies to learning and problem solving, experimentation, and insight. It is ranked among top 3 universities of Pakistan and world’s best 800 universities...\""
            ],
            "application/vnd.google.colaboratory.intrinsic+json": {
              "type": "string"
            }
          },
          "metadata": {},
          "execution_count": 30
        }
      ]
    },
    {
      "cell_type": "code",
      "source": [
        "len(final_text)"
      ],
      "metadata": {
        "colab": {
          "base_uri": "https://localhost:8080/"
        },
        "id": "tReXLhrvgYCL",
        "outputId": "b3998826-4440-43cc-db34-14bf1e5374c2"
      },
      "execution_count": 31,
      "outputs": [
        {
          "output_type": "execute_result",
          "data": {
            "text/plain": [
              "1175"
            ]
          },
          "metadata": {},
          "execution_count": 31
        }
      ]
    },
    {
      "cell_type": "code",
      "source": [
        "final_text[2]"
      ],
      "metadata": {
        "colab": {
          "base_uri": "https://localhost:8080/",
          "height": 36
        },
        "id": "x2z5axnXijzE",
        "outputId": "cdcd539d-4d33-4a36-b6b8-4dc41cfd8ea9"
      },
      "execution_count": 32,
      "outputs": [
        {
          "output_type": "execute_result",
          "data": {
            "text/plain": [
              "'M'"
            ],
            "application/vnd.google.colaboratory.intrinsic+json": {
              "type": "string"
            }
          },
          "metadata": {},
          "execution_count": 32
        }
      ]
    },
    {
      "cell_type": "code",
      "source": [
        "# Tokenize the text into words\n",
        "wtokens = word_tokenize(final_text)"
      ],
      "metadata": {
        "id": "xxsiKIbqltgC"
      },
      "execution_count": 33,
      "outputs": []
    },
    {
      "cell_type": "code",
      "source": [
        "wtokens"
      ],
      "metadata": {
        "colab": {
          "base_uri": "https://localhost:8080/"
        },
        "id": "KGA9Cr5ApNCE",
        "outputId": "6996d659-8936-4a34-e875-a61f129becf6"
      },
      "execution_count": 34,
      "outputs": [
        {
          "output_type": "execute_result",
          "data": {
            "text/plain": [
              "['COMSATS',\n",
              " 'University',\n",
              " 'Islamabad',\n",
              " '(',\n",
              " 'CUI',\n",
              " ')',\n",
              " 'started',\n",
              " 'its',\n",
              " 'journey',\n",
              " 'in',\n",
              " '1998',\n",
              " ',',\n",
              " 'and',\n",
              " 'established',\n",
              " 'its',\n",
              " 'first',\n",
              " 'campus',\n",
              " 'at',\n",
              " 'Islamabad',\n",
              " 'in',\n",
              " 'April',\n",
              " '1998',\n",
              " '.',\n",
              " 'In',\n",
              " 'August',\n",
              " '2000',\n",
              " ',',\n",
              " 'in',\n",
              " 'recognition',\n",
              " 'of',\n",
              " 'CUI',\n",
              " \"'s\",\n",
              " 'achievements',\n",
              " ',',\n",
              " 'the',\n",
              " 'Federal',\n",
              " 'Government',\n",
              " 'granted',\n",
              " 'it',\n",
              " 'the',\n",
              " 'status',\n",
              " 'of',\n",
              " 'a',\n",
              " 'Degree',\n",
              " 'Awarding',\n",
              " 'Institute',\n",
              " '(',\n",
              " 'DAI',\n",
              " ')',\n",
              " 'through',\n",
              " 'promulgation',\n",
              " 'of',\n",
              " 'its',\n",
              " 'charter',\n",
              " '.',\n",
              " '..',\n",
              " 'VisionThe',\n",
              " 'COMSATS',\n",
              " 'University',\n",
              " 'Islamabad',\n",
              " 'envisions',\n",
              " 'assuming',\n",
              " 'a',\n",
              " 'truly',\n",
              " 'national',\n",
              " 'character',\n",
              " 'for',\n",
              " 'itself',\n",
              " 'in',\n",
              " 'the',\n",
              " 'years',\n",
              " 'to',\n",
              " 'come',\n",
              " '.',\n",
              " 'It',\n",
              " 'envisions',\n",
              " 'having',\n",
              " 'presence',\n",
              " 'in',\n",
              " 'all',\n",
              " 'provinces',\n",
              " 'of',\n",
              " 'the',\n",
              " 'country',\n",
              " '.',\n",
              " 'It',\n",
              " 'sees',\n",
              " 'for',\n",
              " 'itself',\n",
              " 'a',\n",
              " 'position',\n",
              " 'among',\n",
              " 'the',\n",
              " 'top',\n",
              " 'five',\n",
              " '(',\n",
              " '5',\n",
              " ')',\n",
              " 'universities',\n",
              " 'in',\n",
              " 'the',\n",
              " 'country',\n",
              " '...',\n",
              " 'Read',\n",
              " 'More',\n",
              " 'The',\n",
              " 'origins',\n",
              " 'of',\n",
              " 'the',\n",
              " 'COMSATS',\n",
              " 'University',\n",
              " 'Islamabad',\n",
              " '(',\n",
              " 'CUI',\n",
              " ')',\n",
              " 'date',\n",
              " 'back',\n",
              " 'to',\n",
              " '1998',\n",
              " '.',\n",
              " 'The',\n",
              " 'university',\n",
              " 'is',\n",
              " 'one',\n",
              " 'of',\n",
              " 'the',\n",
              " 'leading',\n",
              " 'universities',\n",
              " 'of',\n",
              " 'Pakistan',\n",
              " 'with',\n",
              " 'five',\n",
              " '(',\n",
              " '05',\n",
              " ')',\n",
              " 'broad',\n",
              " 'faculties',\n",
              " 'including',\n",
              " 'Engineering',\n",
              " ',',\n",
              " 'Information',\n",
              " 'Science',\n",
              " 'and',\n",
              " 'Technology',\n",
              " ',',\n",
              " 'Business',\n",
              " 'Administration',\n",
              " 'and',\n",
              " 'Architecture',\n",
              " 'and',\n",
              " 'Design',\n",
              " 'with',\n",
              " 'more',\n",
              " 'than',\n",
              " '36,000',\n",
              " 'students',\n",
              " 'and',\n",
              " 'offering',\n",
              " '100-degree',\n",
              " 'programs',\n",
              " '.',\n",
              " 'The',\n",
              " 'CUI',\n",
              " 'is',\n",
              " 'well-known',\n",
              " 'for',\n",
              " 'its',\n",
              " 'trend-setting',\n",
              " 'pedagogical',\n",
              " 'approach',\n",
              " ',',\n",
              " 'allowing',\n",
              " 'for',\n",
              " 'interdisciplinary',\n",
              " 'methodologies',\n",
              " 'to',\n",
              " 'learning',\n",
              " 'and',\n",
              " 'problem',\n",
              " 'solving',\n",
              " ',',\n",
              " 'experimentation',\n",
              " ',',\n",
              " 'and',\n",
              " 'insight',\n",
              " '.',\n",
              " 'It',\n",
              " 'is',\n",
              " 'ranked',\n",
              " 'among',\n",
              " 'top',\n",
              " '3',\n",
              " 'universities',\n",
              " 'of',\n",
              " 'Pakistan',\n",
              " 'and',\n",
              " 'world',\n",
              " '’',\n",
              " 's',\n",
              " 'best',\n",
              " '800',\n",
              " 'universities',\n",
              " '...']"
            ]
          },
          "metadata": {},
          "execution_count": 34
        }
      ]
    },
    {
      "cell_type": "code",
      "source": [
        "wtokens[2:10]"
      ],
      "metadata": {
        "colab": {
          "base_uri": "https://localhost:8080/"
        },
        "id": "5t5AfMgzrMCY",
        "outputId": "02017b6b-8e44-4fa6-bbe6-f83883c99112"
      },
      "execution_count": 35,
      "outputs": [
        {
          "output_type": "execute_result",
          "data": {
            "text/plain": [
              "['Islamabad', '(', 'CUI', ')', 'started', 'its', 'journey', 'in']"
            ]
          },
          "metadata": {},
          "execution_count": 35
        }
      ]
    },
    {
      "cell_type": "code",
      "source": [
        "stokens = sent_tokenize(final_text)"
      ],
      "metadata": {
        "id": "ncUzWFLdpzNN"
      },
      "execution_count": 36,
      "outputs": []
    },
    {
      "cell_type": "code",
      "source": [
        "stokens"
      ],
      "metadata": {
        "colab": {
          "base_uri": "https://localhost:8080/"
        },
        "id": "ZUmnOHm5qYQp",
        "outputId": "498fe0a1-fb78-4f58-d8af-172e6bca09bf"
      },
      "execution_count": 37,
      "outputs": [
        {
          "output_type": "execute_result",
          "data": {
            "text/plain": [
              "['COMSATS University Islamabad (CUI) started its journey in 1998, and established its first campus at Islamabad in April 1998.',\n",
              " \"In August 2000, in recognition of CUI's achievements, the Federal Government granted it the status of a Degree Awarding Institute (DAI) through promulgation of its charter.\",\n",
              " '..VisionThe COMSATS University Islamabad envisions assuming a truly national character for itself in the years to come.',\n",
              " 'It envisions having presence in all provinces of the country.',\n",
              " 'It sees for itself a position among the top five (5) universities in the country...Read More The origins of the COMSATS University Islamabad (CUI) date back to 1998.',\n",
              " 'The university is one of the leading universities of Pakistan with five (05) broad faculties including Engineering, Information Science and Technology, Business Administration and Architecture and Design with more than 36,000 students and offering 100-degree programs.',\n",
              " 'The CUI is well-known for its trend-setting pedagogical approach, allowing for interdisciplinary methodologies to learning and problem solving, experimentation, and insight.',\n",
              " 'It is ranked among top 3 universities of Pakistan and world’s best 800 universities...']"
            ]
          },
          "metadata": {},
          "execution_count": 37
        }
      ]
    },
    {
      "cell_type": "code",
      "source": [
        "len(stokens)"
      ],
      "metadata": {
        "colab": {
          "base_uri": "https://localhost:8080/"
        },
        "id": "G_wzlmOGql96",
        "outputId": "517944cb-3535-4888-8dbb-9c4d2956fea3"
      },
      "execution_count": 38,
      "outputs": [
        {
          "output_type": "execute_result",
          "data": {
            "text/plain": [
              "8"
            ]
          },
          "metadata": {},
          "execution_count": 38
        }
      ]
    },
    {
      "cell_type": "code",
      "source": [
        "len(wtokens)"
      ],
      "metadata": {
        "colab": {
          "base_uri": "https://localhost:8080/"
        },
        "id": "bF0xJTGcrFd4",
        "outputId": "64432bea-0680-4e7f-9cb5-3a605aeb1382"
      },
      "execution_count": 39,
      "outputs": [
        {
          "output_type": "execute_result",
          "data": {
            "text/plain": [
              "203"
            ]
          },
          "metadata": {},
          "execution_count": 39
        }
      ]
    },
    {
      "cell_type": "code",
      "source": [
        "wtokens_freq = nltk.FreqDist(wtokens)"
      ],
      "metadata": {
        "id": "phrNaVetsPBd"
      },
      "execution_count": 40,
      "outputs": []
    },
    {
      "cell_type": "code",
      "source": [
        "wtokens_freq"
      ],
      "metadata": {
        "colab": {
          "base_uri": "https://localhost:8080/"
        },
        "id": "1Hb3U695theE",
        "outputId": "f7bf80b2-5658-48d4-d159-0d8c4e86b493"
      },
      "execution_count": 41,
      "outputs": [
        {
          "output_type": "execute_result",
          "data": {
            "text/plain": [
              "FreqDist({',': 8, 'and': 8, 'of': 8, 'the': 8, '.': 7, 'in': 6, '(': 5, ')': 5, 'Islamabad': 4, 'CUI': 4, ...})"
            ]
          },
          "metadata": {},
          "execution_count": 41
        }
      ]
    },
    {
      "cell_type": "code",
      "source": [
        "print(wtokens_freq.most_common(5))"
      ],
      "metadata": {
        "colab": {
          "base_uri": "https://localhost:8080/"
        },
        "id": "MFtFkN-Gs4k2",
        "outputId": "41fc89b3-d801-4c27-aed8-58de4d321693"
      },
      "execution_count": 42,
      "outputs": [
        {
          "output_type": "stream",
          "name": "stdout",
          "text": [
            "[(',', 8), ('and', 8), ('of', 8), ('the', 8), ('.', 7)]\n"
          ]
        }
      ]
    },
    {
      "cell_type": "code",
      "source": [
        "print(wtokens_freq.get('Pakistan'))"
      ],
      "metadata": {
        "colab": {
          "base_uri": "https://localhost:8080/"
        },
        "id": "-h9q8JjAtqCj",
        "outputId": "b7a9b675-cc5a-4bf2-a587-29139fb806cf"
      },
      "execution_count": 43,
      "outputs": [
        {
          "output_type": "stream",
          "name": "stdout",
          "text": [
            "2\n"
          ]
        }
      ]
    },
    {
      "cell_type": "code",
      "source": [
        "top_words_frequency = wtokens_freq.most_common(10)"
      ],
      "metadata": {
        "id": "TsYDMQDgu4dW"
      },
      "execution_count": 51,
      "outputs": []
    },
    {
      "cell_type": "code",
      "source": [
        "top_words_frequency"
      ],
      "metadata": {
        "colab": {
          "base_uri": "https://localhost:8080/"
        },
        "id": "i85gwyrQvXbw",
        "outputId": "089c08eb-d45c-4fdc-c9bb-d301292d25ca"
      },
      "execution_count": 52,
      "outputs": [
        {
          "output_type": "execute_result",
          "data": {
            "text/plain": [
              "[(',', 8),\n",
              " ('and', 8),\n",
              " ('of', 8),\n",
              " ('the', 8),\n",
              " ('.', 7),\n",
              " ('in', 6),\n",
              " ('(', 5),\n",
              " (')', 5),\n",
              " ('Islamabad', 4),\n",
              " ('CUI', 4)]"
            ]
          },
          "metadata": {},
          "execution_count": 52
        }
      ]
    },
    {
      "cell_type": "code",
      "source": [
        "tokens, frequencies = zip(*top_words_frequency)"
      ],
      "metadata": {
        "id": "nTcaGwrRvoXZ"
      },
      "execution_count": 53,
      "outputs": []
    },
    {
      "cell_type": "code",
      "source": [
        "import matplotlib.pyplot as plt"
      ],
      "metadata": {
        "id": "4GOs_JE3lhuK"
      },
      "execution_count": 44,
      "outputs": []
    },
    {
      "cell_type": "code",
      "source": [
        "plt.figure(figsize=(10, 5))\n",
        "plt.bar(tokens, frequencies, color='red')\n",
        "plt.xlabel('Tokens')\n",
        "plt.ylabel('Frequency')\n",
        "plt.title('Top 10 Token Frequencies')\n",
        "plt.xticks(rotation=45)\n",
        "plt.show()"
      ],
      "metadata": {
        "colab": {
          "base_uri": "https://localhost:8080/",
          "height": 534
        },
        "id": "zHrAQS5llkQ9",
        "outputId": "c8c7ddfe-07a7-45f5-c522-c1bcea52519a"
      },
      "execution_count": 56,
      "outputs": [
        {
          "output_type": "display_data",
          "data": {
            "text/plain": [
              "<Figure size 1000x500 with 1 Axes>"
            ],
            "image/png": "[encoded data removed]"
          },
          "metadata": {}
        }
      ]
    }
  ]
}